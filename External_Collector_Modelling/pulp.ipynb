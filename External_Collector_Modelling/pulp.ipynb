{
 "cells": [
  {
   "cell_type": "code",
   "execution_count": 2,
   "metadata": {},
   "outputs": [
    {
     "name": "stdout",
     "output_type": "stream",
     "text": [
      "   heading  speed     ratio speed_vars  \\\n",
      "0    184.0     50  0.271739    speed_0   \n",
      "1    153.0     50  0.326797    speed_1   \n",
      "2    140.0     50  0.357143    speed_2   \n",
      "3    122.0     50  0.409836    speed_3   \n",
      "4    119.0     50  0.420168    speed_4   \n",
      "\n",
      "                                        aux_vars  speed_opt  ratio_opt  \n",
      "0  [aux_0_0, aux_1_0, aux_2_0, aux_3_0, aux_4_0]       36.8        0.2  \n",
      "1  [aux_0_1, aux_1_1, aux_2_1, aux_3_1, aux_4_1]       30.6        0.2  \n",
      "2  [aux_0_2, aux_1_2, aux_2_2, aux_3_2, aux_4_2]       28.0        0.2  \n",
      "3  [aux_0_3, aux_1_3, aux_2_3, aux_3_3, aux_4_3]       24.4        0.2  \n",
      "4  [aux_0_4, aux_1_4, aux_2_4, aux_3_4, aux_4_4]       23.8        0.2  \n"
     ]
    }
   ],
   "source": [
    "from pandas import DataFrame\n",
    "import numpy as np\n",
    "from pulp import *\n",
    "\n",
    "headings = [184.0, 153.0, 140.0, 122.0, 119.0]\n",
    "df = DataFrame (headings, columns=['heading'])\n",
    "df['speed'] = 50\n",
    "max_speed = 500.0\n",
    "max_ratio = max_speed / np.min(headings)\n",
    "df['ratio'] = df.speed/df.heading\n",
    "conditions_lb = [0,   0.1, 0.2, 0.3, 0.4]\n",
    "conditions_ub = [0.1, 0.2, 0.3, 0.4, max_speed / np.min(headings)]\n",
    "choices = [3, 1, 8, 5, 2]\n",
    "n_range = len(choices)\n",
    "n_rows = len(df)\n",
    "\n",
    "# Create primary ratio variables - one for each variable:\n",
    "df['speed_vars'] = [LpVariable(\"speed_\"+str(j)) for j in range(n_rows)]\n",
    "\n",
    "# Create auxilary variables - binaries to control\n",
    "# which bit of range each speed is in\n",
    "df['aux_vars'] = [[LpVariable(\"aux_\"+str(i)+\"_\"+str(j), cat='Binary')\n",
    "                   for i in range(n_range)]\n",
    "                   for j in range(n_rows)]\n",
    "\n",
    "# Declare problem\n",
    "prob = LpProblem(\"max_pd_column\",LpMaximize)\n",
    "\n",
    "# Define objective function\n",
    "prob += lpSum([df['aux_vars'][j][i]*choices[i]*headings[j] for i in range(n_range)\n",
    "               for j in range(n_rows)])\n",
    "\n",
    "# Constrain only one range to be selected for each row\n",
    "for j in range(n_rows):\n",
    "    prob += lpSum([df['aux_vars'][j][i] for i in range(n_range)]) == 1\n",
    "\n",
    "# Constrain the value of the speed by the ratio range selected\n",
    "for j in range(n_rows):\n",
    "    for i in range(n_range):\n",
    "        prob += df['speed_vars'][j]*(1.0/df['heading'][j]) <= \\\n",
    "                        conditions_ub[i] + (1-df['aux_vars'][j][i])*max_ratio\n",
    "        prob += df['speed_vars'][j]*(1.0/df['heading'][j]) >= \\\n",
    "                        conditions_lb[i]*df['aux_vars'][j][i]\n",
    "\n",
    "# Solve problem and print results\n",
    "prob.solve()\n",
    "\n",
    "# Dislay the optimums of each var in problem\n",
    "#for v in prob.variables ():\n",
    "#    print (v.name, \"=\", v.varValue)\n",
    "\n",
    "# Set values in dataframe and print:\n",
    "df['speed_opt'] = [df['speed_vars'][j].varValue for j in range(n_rows)]\n",
    "df['ratio_opt'] = df.speed_opt/df.heading\n",
    "print(df)"
   ]
  }
 ],
 "metadata": {
  "kernelspec": {
   "display_name": "base",
   "language": "python",
   "name": "python3"
  },
  "language_info": {
   "codemirror_mode": {
    "name": "ipython",
    "version": 3
   },
   "file_extension": ".py",
   "mimetype": "text/x-python",
   "name": "python",
   "nbconvert_exporter": "python",
   "pygments_lexer": "ipython3",
   "version": "3.10.9"
  },
  "orig_nbformat": 4
 },
 "nbformat": 4,
 "nbformat_minor": 2
}
