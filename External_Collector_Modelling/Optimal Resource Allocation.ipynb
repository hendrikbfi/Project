{
 "cells": [
  {
   "cell_type": "code",
   "execution_count": 1,
   "metadata": {},
   "outputs": [],
   "source": [
    "import pandas as pd\n",
    "import pulp as plp\n",
    "import numpy as np"
   ]
  },
  {
   "cell_type": "code",
   "execution_count": 2,
   "metadata": {},
   "outputs": [
    {
     "data": {
      "text/html": [
       "<div>\n",
       "<style scoped>\n",
       "    .dataframe tbody tr th:only-of-type {\n",
       "        vertical-align: middle;\n",
       "    }\n",
       "\n",
       "    .dataframe tbody tr th {\n",
       "        vertical-align: top;\n",
       "    }\n",
       "\n",
       "    .dataframe thead th {\n",
       "        text-align: right;\n",
       "    }\n",
       "</style>\n",
       "<table border=\"1\" class=\"dataframe\">\n",
       "  <thead>\n",
       "    <tr style=\"text-align: right;\">\n",
       "      <th></th>\n",
       "      <th>profcoll1</th>\n",
       "      <th>profcoll2</th>\n",
       "    </tr>\n",
       "    <tr>\n",
       "      <th>Allocation</th>\n",
       "      <th></th>\n",
       "      <th></th>\n",
       "    </tr>\n",
       "  </thead>\n",
       "  <tbody>\n",
       "    <tr>\n",
       "      <th>customer1</th>\n",
       "      <td>10000</td>\n",
       "      <td>15000</td>\n",
       "    </tr>\n",
       "    <tr>\n",
       "      <th>customer2</th>\n",
       "      <td>5000</td>\n",
       "      <td>10000</td>\n",
       "    </tr>\n",
       "    <tr>\n",
       "      <th>customer3</th>\n",
       "      <td>12500</td>\n",
       "      <td>12500</td>\n",
       "    </tr>\n",
       "  </tbody>\n",
       "</table>\n",
       "</div>"
      ],
      "text/plain": [
       "            profcoll1  profcoll2\n",
       "Allocation                      \n",
       "customer1       10000      15000\n",
       "customer2        5000      10000\n",
       "customer3       12500      12500"
      ]
     },
     "execution_count": 2,
     "metadata": {},
     "output_type": "execute_result"
    }
   ],
   "source": [
    "#Definisi constrain\n",
    "#1 customer harus di handle oleh 1 profcoll\n",
    "cust_df  = pd.DataFrame({'customer': ['customer1', 'customer2', 'customer3'],\n",
    "                             'resource':[1, 1, 1]\n",
    "                             })\n",
    "#Jumlah available resource dari tiap profcoll\n",
    "profcoll_df  = pd.DataFrame({'profcoll': ['profcoll1', 'profcoll2'],\n",
    "                             'resource':[2, 1]\n",
    "                             })\n",
    "\n",
    "#Estimasi biaya dari masing2 profcoll untuk tiap customer \n",
    "cost = np.array([[10000,15000], [5000,10000], [12500,12500]])\n",
    "\n",
    "cost_df = pd.DataFrame(cost)\n",
    "cost_df.columns=profcoll_df.profcoll.values\n",
    "cost_df.insert(0, \"Allocation\", cust_df['customer'])\n",
    "cost_df.set_index('Allocation',inplace=True)\n",
    "cost_df"
   ]
  },
  {
   "cell_type": "code",
   "execution_count": 12,
   "metadata": {},
   "outputs": [
    {
     "data": {
      "text/html": [
       "<div>\n",
       "<style scoped>\n",
       "    .dataframe tbody tr th:only-of-type {\n",
       "        vertical-align: middle;\n",
       "    }\n",
       "\n",
       "    .dataframe tbody tr th {\n",
       "        vertical-align: top;\n",
       "    }\n",
       "\n",
       "    .dataframe thead th {\n",
       "        text-align: right;\n",
       "    }\n",
       "</style>\n",
       "<table border=\"1\" class=\"dataframe\">\n",
       "  <thead>\n",
       "    <tr style=\"text-align: right;\">\n",
       "      <th></th>\n",
       "      <th>customer</th>\n",
       "      <th>resource</th>\n",
       "    </tr>\n",
       "  </thead>\n",
       "  <tbody>\n",
       "    <tr>\n",
       "      <th>0</th>\n",
       "      <td>customer1</td>\n",
       "      <td>1</td>\n",
       "    </tr>\n",
       "    <tr>\n",
       "      <th>1</th>\n",
       "      <td>customer2</td>\n",
       "      <td>1</td>\n",
       "    </tr>\n",
       "    <tr>\n",
       "      <th>2</th>\n",
       "      <td>customer3</td>\n",
       "      <td>1</td>\n",
       "    </tr>\n",
       "  </tbody>\n",
       "</table>\n",
       "</div>"
      ],
      "text/plain": [
       "    customer  resource\n",
       "0  customer1         1\n",
       "1  customer2         1\n",
       "2  customer3         1"
      ]
     },
     "execution_count": 12,
     "metadata": {},
     "output_type": "execute_result"
    }
   ],
   "source": [
    "cust_df"
   ]
  },
  {
   "cell_type": "code",
   "execution_count": 3,
   "metadata": {},
   "outputs": [],
   "source": [
    "model = plp.LpProblem(\"Resource_allocation_prob\", plp.LpMinimize)"
   ]
  },
  {
   "cell_type": "code",
   "execution_count": 4,
   "metadata": {},
   "outputs": [
    {
     "name": "stdout",
     "output_type": "stream",
     "text": [
      "[[x_11 x_12]\n",
      " [x_21 x_22]\n",
      " [x_31 x_32]]\n"
     ]
    }
   ],
   "source": [
    "no_of_customer = cust_df.shape[0]\n",
    "no_of_profcoll = profcoll_df.shape[0]\n",
    "x_vars_list = []\n",
    "for l in range(1,no_of_customer+1):\n",
    "    for w in range(1,no_of_profcoll+1):\n",
    "        temp = str(l)+str(w)\n",
    "        x_vars_list.append(temp)\n",
    "x_vars = plp.LpVariable.matrix(\"x\", x_vars_list, cat = \"Integer\", lowBound = 0)\n",
    "final_allocation = np.array(x_vars).reshape(3,2)\n",
    "print(final_allocation)\n",
    "res_equation = plp.lpSum(final_allocation*cost)\n",
    "model +=  res_equation"
   ]
  },
  {
   "cell_type": "code",
   "execution_count": 5,
   "metadata": {},
   "outputs": [],
   "source": [
    "for c1 in range(no_of_customer):\n",
    "    model += plp.lpSum(final_allocation[c1][p1] for p1 in range(no_of_profcoll)) == cust_df['resource'].tolist()[c1]\n",
    "for p2 in range(no_of_profcoll):\n",
    "    model += plp.lpSum(final_allocation[c2][p2] for c2 in range(no_of_customer)) <= profcoll_df['resource'].tolist()[p2]"
   ]
  },
  {
   "cell_type": "code",
   "execution_count": 6,
   "metadata": {},
   "outputs": [
    {
     "name": "stdout",
     "output_type": "stream",
     "text": [
      "Resource_allocation_prob:\n",
      "MINIMIZE\n",
      "10000*x_11 + 15000*x_12 + 5000*x_21 + 10000*x_22 + 12500*x_31 + 12500*x_32 + 0\n",
      "SUBJECT TO\n",
      "_C1: x_11 + x_12 = 1\n",
      "\n",
      "_C2: x_21 + x_22 = 1\n",
      "\n",
      "_C3: x_31 + x_32 = 1\n",
      "\n",
      "_C4: x_11 + x_21 + x_31 <= 2\n",
      "\n",
      "_C5: x_12 + x_22 + x_32 <= 1\n",
      "\n",
      "VARIABLES\n",
      "0 <= x_11 Integer\n",
      "0 <= x_12 Integer\n",
      "0 <= x_21 Integer\n",
      "0 <= x_22 Integer\n",
      "0 <= x_31 Integer\n",
      "0 <= x_32 Integer\n",
      "\n"
     ]
    }
   ],
   "source": [
    "print(model)"
   ]
  },
  {
   "cell_type": "code",
   "execution_count": 7,
   "metadata": {},
   "outputs": [
    {
     "name": "stdout",
     "output_type": "stream",
     "text": [
      "Optimal\n"
     ]
    }
   ],
   "source": [
    "model.solve()\n",
    "status = plp.LpStatus[model.status]\n",
    "print(status)"
   ]
  },
  {
   "cell_type": "code",
   "execution_count": 11,
   "metadata": {},
   "outputs": [
    {
     "name": "stdout",
     "output_type": "stream",
     "text": [
      "Optimal overall cost:  27500.0\n",
      "Match  x_11 : 1.0\n",
      "Match  x_12 : 0.0\n",
      "Match  x_21 : 1.0\n",
      "Match  x_22 : 0.0\n",
      "Match  x_31 : 0.0\n",
      "Match  x_32 : 1.0\n"
     ]
    }
   ],
   "source": [
    "print(\"Optimal overall cost: \",str(plp.value(model.objective)))\n",
    "for each in model.variables():\n",
    "    print(\"Match \", each, \": \"+str(each.value()))"
   ]
  },
  {
   "cell_type": "code",
   "execution_count": 9,
   "metadata": {},
   "outputs": [
    {
     "data": {
      "text/html": [
       "<div>\n",
       "<style scoped>\n",
       "    .dataframe tbody tr th:only-of-type {\n",
       "        vertical-align: middle;\n",
       "    }\n",
       "\n",
       "    .dataframe tbody tr th {\n",
       "        vertical-align: top;\n",
       "    }\n",
       "\n",
       "    .dataframe thead th {\n",
       "        text-align: right;\n",
       "    }\n",
       "</style>\n",
       "<table border=\"1\" class=\"dataframe\">\n",
       "  <thead>\n",
       "    <tr style=\"text-align: right;\">\n",
       "      <th></th>\n",
       "      <th>profcoll1</th>\n",
       "      <th>profcoll2</th>\n",
       "    </tr>\n",
       "    <tr>\n",
       "      <th>Allocation</th>\n",
       "      <th></th>\n",
       "      <th></th>\n",
       "    </tr>\n",
       "  </thead>\n",
       "  <tbody>\n",
       "    <tr>\n",
       "      <th>customer1</th>\n",
       "      <td>1.0</td>\n",
       "      <td>0.0</td>\n",
       "    </tr>\n",
       "    <tr>\n",
       "      <th>customer2</th>\n",
       "      <td>1.0</td>\n",
       "      <td>0.0</td>\n",
       "    </tr>\n",
       "    <tr>\n",
       "      <th>customer3</th>\n",
       "      <td>0.0</td>\n",
       "      <td>1.0</td>\n",
       "    </tr>\n",
       "  </tbody>\n",
       "</table>\n",
       "</div>"
      ],
      "text/plain": [
       "            profcoll1  profcoll2\n",
       "Allocation                      \n",
       "customer1         1.0        0.0\n",
       "customer2         1.0        0.0\n",
       "customer3         0.0        1.0"
      ]
     },
     "execution_count": 9,
     "metadata": {},
     "output_type": "execute_result"
    }
   ],
   "source": [
    "x=[]\n",
    "for v in model.variables ():\n",
    "    x.append(v.varValue)\n",
    "result = np.reshape(x, (-1, no_of_profcoll))\n",
    "result_df = pd.DataFrame(result)\n",
    "result_df.columns=profcoll_df.profcoll.values\n",
    "result_df.insert(0, \"Allocation\", cust_df['customer'])\n",
    "result_df.set_index('Allocation',inplace=True)\n",
    "result_df"
   ]
  },
  {
   "cell_type": "code",
   "execution_count": 10,
   "metadata": {},
   "outputs": [
    {
     "data": {
      "text/html": [
       "<div>\n",
       "<style scoped>\n",
       "    .dataframe tbody tr th:only-of-type {\n",
       "        vertical-align: middle;\n",
       "    }\n",
       "\n",
       "    .dataframe tbody tr th {\n",
       "        vertical-align: top;\n",
       "    }\n",
       "\n",
       "    .dataframe thead th {\n",
       "        text-align: right;\n",
       "    }\n",
       "</style>\n",
       "<table border=\"1\" class=\"dataframe\">\n",
       "  <thead>\n",
       "    <tr style=\"text-align: right;\">\n",
       "      <th></th>\n",
       "      <th>profcoll1</th>\n",
       "      <th>profcoll2</th>\n",
       "    </tr>\n",
       "    <tr>\n",
       "      <th>Allocation</th>\n",
       "      <th></th>\n",
       "      <th></th>\n",
       "    </tr>\n",
       "  </thead>\n",
       "  <tbody>\n",
       "    <tr>\n",
       "      <th>customer1</th>\n",
       "      <td>10000</td>\n",
       "      <td>15000</td>\n",
       "    </tr>\n",
       "    <tr>\n",
       "      <th>customer2</th>\n",
       "      <td>5000</td>\n",
       "      <td>10000</td>\n",
       "    </tr>\n",
       "    <tr>\n",
       "      <th>customer3</th>\n",
       "      <td>12500</td>\n",
       "      <td>12500</td>\n",
       "    </tr>\n",
       "  </tbody>\n",
       "</table>\n",
       "</div>"
      ],
      "text/plain": [
       "            profcoll1  profcoll2\n",
       "Allocation                      \n",
       "customer1       10000      15000\n",
       "customer2        5000      10000\n",
       "customer3       12500      12500"
      ]
     },
     "execution_count": 10,
     "metadata": {},
     "output_type": "execute_result"
    }
   ],
   "source": [
    "cost_df"
   ]
  }
 ],
 "metadata": {
  "kernelspec": {
   "display_name": "base",
   "language": "python",
   "name": "python3"
  },
  "language_info": {
   "codemirror_mode": {
    "name": "ipython",
    "version": 3
   },
   "file_extension": ".py",
   "mimetype": "text/x-python",
   "name": "python",
   "nbconvert_exporter": "python",
   "pygments_lexer": "ipython3",
   "version": "3.10.9"
  },
  "orig_nbformat": 4
 },
 "nbformat": 4,
 "nbformat_minor": 2
}
