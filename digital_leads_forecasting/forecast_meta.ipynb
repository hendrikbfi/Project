{
 "cells": [
  {
   "cell_type": "code",
   "execution_count": 2,
   "metadata": {},
   "outputs": [],
   "source": [
    "from prophet import Prophet\n",
    "from prophet.serialize import model_to_json, model_from_json\n",
    "import pandas as pd\n",
    "import numpy as np\n",
    "from pandasql import sqldf\n",
    "import matplotlib.pyplot as plt\n",
    "from datetime import datetime, timedelta\n",
    "import mysql.connector as mysql_drive\n",
    "from dotenv import load_dotenv\n",
    "import os\n",
    "load_dotenv()\n",
    "\n",
    "# Set Pandas options to display more columns\n",
    "pd.options.display.max_columns=150\n",
    "import warnings\n",
    "warnings.filterwarnings(\"ignore\")\n",
    "\n",
    "#Weighted Mean Absolute Percentage Error\n",
    "def wape(y_true, y_pred):\n",
    "    return np.abs(y_true - y_pred).sum() / np.abs(y_true).sum()\n",
    "def wbpe(y_true, y_pred):\n",
    "    return (y_true - y_pred).sum() / np.abs(y_true).sum()\n",
    "def wcpe(wape, wbpe, beta):\n",
    "    a = 1 - np.clip(wape, a_min = 0, a_max = 1)\n",
    "    b = 1 - min(1, np.abs(wbpe))\n",
    "    return ((1 + beta**2) * a * b) / (beta**2 * a + b)"
   ]
  },
  {
   "cell_type": "code",
   "execution_count": 2,
   "metadata": {},
   "outputs": [],
   "source": [
    "#days_ago_60 = str((datetime.now() - timedelta(60) - timedelta(35)).date()) # - timedelta(21) bisa diubah agar jadi '2023-05-31'\n",
    "#days_ago_37 = str((datetime.now() - timedelta(44) - timedelta(35)).date())\n",
    "#days_ago_30 = str((datetime.now() - timedelta(30) - timedelta(35)).date())\n",
    "#days_ago_14 = str((datetime.now() - timedelta(14) - timedelta(35)).date())\n",
    "#days_ago_1 = str((datetime.now() - timedelta(1)   - timedelta(35)).date())"
   ]
  },
  {
   "cell_type": "code",
   "execution_count": 3,
   "metadata": {},
   "outputs": [
    {
     "name": "stdout",
     "output_type": "stream",
     "text": [
      "Last Database date  :  ('2023-05-19',)\n"
     ]
    }
   ],
   "source": [
    "try:\n",
    "    mydb = mysql_drive.connect(host=os.getenv(\"HOST\"), user=os.getenv(\"DATABASE_USER\"),port=os.getenv(\"DATABASE_PORT\"),\n",
    "                                database=os.getenv(\"DATABASE_NAME\"), password=os.getenv(\"DATABASE_PASSWORD\"))\n",
    "    mycursor = mydb.cursor()\n",
    "    mycursor.execute('''select max(date_format(sk_created_date,'%Y-%m-%d')) as last_date\n",
    "    from digital_leads.digital_leads''')\n",
    "    last_date = mycursor.fetchone()\n",
    "except Exception as e:\n",
    "    mydb.close()\n",
    "    print(str(e))\n",
    "print(\"Last Database date  : \" , last_date)"
   ]
  },
  {
   "cell_type": "code",
   "execution_count": 4,
   "metadata": {},
   "outputs": [
    {
     "name": "stdout",
     "output_type": "stream",
     "text": [
      "days_ago_14 :  2023-05-06\n",
      "days_ago_30 :  2023-04-20\n",
      "days_ago_37 :  2023-04-13\n",
      "days_ago_60 :  2023-03-21\n"
     ]
    }
   ],
   "source": [
    "days_ago_1_str  = ''.join(last_date)\n",
    "days_ago_1 = datetime.strptime(days_ago_1_str, '%Y-%m-%d').date()\n",
    "days_ago_14 = days_ago_1 - timedelta(days = 13)\n",
    "days_ago_30 = days_ago_1 - timedelta(days = 29)\n",
    "days_ago_37 = days_ago_1 - timedelta(days = 36)\n",
    "days_ago_60 = days_ago_1 - timedelta(days = 59)\n",
    "\n",
    "print(\"days_ago_14 : \" , days_ago_14)\n",
    "print(\"days_ago_30 : \" , days_ago_30)\n",
    "print(\"days_ago_37 : \" , days_ago_37)\n",
    "print(\"days_ago_60 : \" , days_ago_60)"
   ]
  },
  {
   "cell_type": "code",
   "execution_count": 15,
   "metadata": {},
   "outputs": [
    {
     "data": {
      "text/html": [
       "<div>\n",
       "<style scoped>\n",
       "    .dataframe tbody tr th:only-of-type {\n",
       "        vertical-align: middle;\n",
       "    }\n",
       "\n",
       "    .dataframe tbody tr th {\n",
       "        vertical-align: top;\n",
       "    }\n",
       "\n",
       "    .dataframe thead th {\n",
       "        text-align: right;\n",
       "    }\n",
       "</style>\n",
       "<table border=\"1\" class=\"dataframe\">\n",
       "  <thead>\n",
       "    <tr style=\"text-align: right;\">\n",
       "      <th></th>\n",
       "      <th>created_date</th>\n",
       "      <th>product</th>\n",
       "      <th>ad_name</th>\n",
       "      <th>adset_name</th>\n",
       "      <th>campaign_name</th>\n",
       "      <th>clicks</th>\n",
       "      <th>cost</th>\n",
       "      <th>leads</th>\n",
       "      <th>prospect</th>\n",
       "      <th>funding</th>\n",
       "      <th>NTF</th>\n",
       "      <th>campaign</th>\n",
       "    </tr>\n",
       "  </thead>\n",
       "  <tbody>\n",
       "    <tr>\n",
       "      <th>0</th>\n",
       "      <td>2023-01-02</td>\n",
       "      <td>BPKB Motor</td>\n",
       "      <td>Pinjaman Jaminan BPKB Motor</td>\n",
       "      <td>Single Image</td>\n",
       "      <td>New Conversion | Jaminan BPKB Motor | Web 1</td>\n",
       "      <td>108.0</td>\n",
       "      <td>161364.0</td>\n",
       "      <td>34.0</td>\n",
       "      <td>1.0</td>\n",
       "      <td>NaN</td>\n",
       "      <td>NaN</td>\n",
       "      <td>Pinjaman Jaminan BPKB Motor ; Single Image ; N...</td>\n",
       "    </tr>\n",
       "    <tr>\n",
       "      <th>1</th>\n",
       "      <td>2023-01-12</td>\n",
       "      <td>BPKB Motor</td>\n",
       "      <td>Pinjaman Jaminan BPKB Motor</td>\n",
       "      <td>Single Image</td>\n",
       "      <td>New Conversion | Jaminan BPKB Motor | Web 1 | ...</td>\n",
       "      <td>142.0</td>\n",
       "      <td>658009.0</td>\n",
       "      <td>19.0</td>\n",
       "      <td>1.0</td>\n",
       "      <td>NaN</td>\n",
       "      <td>NaN</td>\n",
       "      <td>Pinjaman Jaminan BPKB Motor ; Single Image ; N...</td>\n",
       "    </tr>\n",
       "    <tr>\n",
       "      <th>2</th>\n",
       "      <td>2022-11-12</td>\n",
       "      <td>BPKB Mobil</td>\n",
       "      <td>Proses Persetujuan dan Pencairan Cepat</td>\n",
       "      <td>Single Image</td>\n",
       "      <td>New Conversion | Jaminan BPKB Mobil | Web 1</td>\n",
       "      <td>641.0</td>\n",
       "      <td>1304375.0</td>\n",
       "      <td>5.0</td>\n",
       "      <td>1.0</td>\n",
       "      <td>NaN</td>\n",
       "      <td>NaN</td>\n",
       "      <td>Proses Persetujuan dan Pencairan Cepat ; Singl...</td>\n",
       "    </tr>\n",
       "    <tr>\n",
       "      <th>3</th>\n",
       "      <td>2022-12-20</td>\n",
       "      <td>BPKB Mobil</td>\n",
       "      <td>Pinjaman Jaminan BPKB Mobil di BFI Finance</td>\n",
       "      <td>Single Image</td>\n",
       "      <td>New Conversion | Jaminan BPKB Mobil | Web 1</td>\n",
       "      <td>839.0</td>\n",
       "      <td>2002213.0</td>\n",
       "      <td>5.0</td>\n",
       "      <td>3.0</td>\n",
       "      <td>NaN</td>\n",
       "      <td>NaN</td>\n",
       "      <td>Pinjaman Jaminan BPKB Mobil di BFI Finance ; S...</td>\n",
       "    </tr>\n",
       "    <tr>\n",
       "      <th>4</th>\n",
       "      <td>2022-12-23</td>\n",
       "      <td>BPKB Mobil</td>\n",
       "      <td>Pinjaman Jaminan BPKB Mobil di BFI Finance</td>\n",
       "      <td>Single Image</td>\n",
       "      <td>New Conversion | Jaminan BPKB Mobil | Web 1</td>\n",
       "      <td>680.0</td>\n",
       "      <td>1647196.0</td>\n",
       "      <td>5.0</td>\n",
       "      <td>1.0</td>\n",
       "      <td>NaN</td>\n",
       "      <td>NaN</td>\n",
       "      <td>Pinjaman Jaminan BPKB Mobil di BFI Finance ; S...</td>\n",
       "    </tr>\n",
       "  </tbody>\n",
       "</table>\n",
       "</div>"
      ],
      "text/plain": [
       "  created_date     product                                     ad_name  \\\n",
       "0   2023-01-02  BPKB Motor                 Pinjaman Jaminan BPKB Motor   \n",
       "1   2023-01-12  BPKB Motor                 Pinjaman Jaminan BPKB Motor   \n",
       "2   2022-11-12  BPKB Mobil      Proses Persetujuan dan Pencairan Cepat   \n",
       "3   2022-12-20  BPKB Mobil  Pinjaman Jaminan BPKB Mobil di BFI Finance   \n",
       "4   2022-12-23  BPKB Mobil  Pinjaman Jaminan BPKB Mobil di BFI Finance   \n",
       "\n",
       "     adset_name                                      campaign_name  clicks  \\\n",
       "0  Single Image        New Conversion | Jaminan BPKB Motor | Web 1   108.0   \n",
       "1  Single Image  New Conversion | Jaminan BPKB Motor | Web 1 | ...   142.0   \n",
       "2  Single Image        New Conversion | Jaminan BPKB Mobil | Web 1   641.0   \n",
       "3  Single Image        New Conversion | Jaminan BPKB Mobil | Web 1   839.0   \n",
       "4  Single Image        New Conversion | Jaminan BPKB Mobil | Web 1   680.0   \n",
       "\n",
       "        cost  leads  prospect  funding  NTF  \\\n",
       "0   161364.0   34.0       1.0      NaN  NaN   \n",
       "1   658009.0   19.0       1.0      NaN  NaN   \n",
       "2  1304375.0    5.0       1.0      NaN  NaN   \n",
       "3  2002213.0    5.0       3.0      NaN  NaN   \n",
       "4  1647196.0    5.0       1.0      NaN  NaN   \n",
       "\n",
       "                                            campaign  \n",
       "0  Pinjaman Jaminan BPKB Motor ; Single Image ; N...  \n",
       "1  Pinjaman Jaminan BPKB Motor ; Single Image ; N...  \n",
       "2  Proses Persetujuan dan Pencairan Cepat ; Singl...  \n",
       "3  Pinjaman Jaminan BPKB Mobil di BFI Finance ; S...  \n",
       "4  Pinjaman Jaminan BPKB Mobil di BFI Finance ; S...  "
      ]
     },
     "execution_count": 15,
     "metadata": {},
     "output_type": "execute_result"
    }
   ],
   "source": [
    "try:\n",
    "    mydb = mysql_drive.connect(host=os.getenv(\"HOST\"), user=os.getenv(\"DATABASE_USER\"),port=os.getenv(\"DATABASE_PORT\"),\n",
    "                                database=os.getenv(\"DATABASE_NAME\"), password=os.getenv(\"DATABASE_PASSWORD\"))\n",
    "    query = '''\n",
    "with meta As (\n",
    "Select date_format(created_date,'%Y-%m-%d') as created_date,\n",
    "\tCASE WHEN lower(campaign_name) LIKE '%mobil%' THEN 'BPKB Mobil'\n",
    "\t\t WHEN lower(campaign_name) LIKE '%motor%' THEN 'BPKB Motor'\n",
    "\t\t WHEN lower(campaign_name) LIKE '%rumah%' THEN 'Sertifikat Rumah'\n",
    "\t\t WHEN lower(campaign_name) LIKE '%all product%' THEN 'All Product'\n",
    "\t\t WHEN lower(campaign_name) LIKE '%all-product%' THEN 'All Product'\n",
    "\t\t else 'Others'\n",
    "\t\t END AS product, ad_name, adset_name,\n",
    "\t\tcampaign_name as campaign, \n",
    "\t\tsum(clicks) as clicks, sum(spend) as cost\n",
    "\tfrom digital_leads.facebook_insights\n",
    "\twhere campaign_name <> '(not set)'\n",
    "\t\t\tand date_format(created_date,'%Y-%m-%d') <= '{0}'\n",
    "\tgroup by created_date, campaign_name, product, ad_name, adset_name\n",
    "),\n",
    "leads As (\n",
    "select utm_original, product,\n",
    "\t\treplace(replace(utm_content,\"_\",\" \"),\"-\",\" \") as utm_content, \n",
    "        replace(replace(utm_term,\"_\",\" \"),\"-\",\" \") as utm_term,\n",
    "\t\tdate_format(sk_created_date,'%Y-%m-%d') as leads_date, sum(funnel_leads) as leads\n",
    "    from digital_leads.digital_leads\n",
    "    where submissionid is not null and group_utm_source = 'Meta'\n",
    "          and product in ('BPKB Mobil', 'BPKB Motor', 'Sertifikat Rumah')\n",
    "          and sk_created_date > 1 and utm_original is not null\n",
    "    group by utm_original, utm_content, utm_term, product, sk_created_date\n",
    "),\n",
    "prospect As (\n",
    "select utm_original, product, \n",
    "\t\treplace(replace(utm_content,\"_\",\" \"),\"-\",\" \") as utm_content, \n",
    "        replace(replace(utm_term,\"_\",\" \"),\"-\",\" \") as utm_term,\n",
    "        date_format(sk_closing_date,'%Y-%m-%d') as prospect_date, sum(funnel_prospect) as prospect\n",
    "       from digital_leads.digital_leads\n",
    "       where submissionid is not null and group_utm_source = 'Meta'\n",
    "             and product in ('BPKB Mobil', 'BPKB Motor', 'Sertifikat Rumah')\n",
    "             and sk_closing_date > 1 and utm_original is not null\n",
    "       group by utm_original, utm_content, utm_term, product, sk_closing_date                \n",
    "),\n",
    "funding As (\n",
    "select utm_original, product, \n",
    "\t\treplace(replace(utm_content,\"_\",\" \"),\"-\",\" \") as utm_content, \n",
    "        replace(replace(utm_term,\"_\",\" \"),\"-\",\" \") as utm_term,\n",
    "\t\tdate_format(sk_golive_date,'%Y-%m-%d') as funding_date, sum(funnel_funding) as funding,\n",
    "\t\tsum(case when funnel_funding = 1 then fundingamount  else 0 end) as NTF\n",
    "       from digital_leads.digital_leads\n",
    "       where submissionid is not null and group_utm_source = 'Meta'\n",
    "             and product in ('BPKB Mobil', 'BPKB Motor', 'Sertifikat Rumah')\n",
    "             and sk_golive_date > 1 and utm_original is not null\n",
    "       group by utm_original, utm_content, utm_term, product, sk_golive_date\n",
    "),\n",
    "g_l As (\n",
    "select g.created_date, g.product, g.ad_name, g.adset_name, g.campaign, g.clicks, g.cost, l.leads\n",
    "\tfrom meta as g\n",
    "\tleft outer join leads as l on g.created_date = l.leads_date\n",
    "\t\t\t\t\t\tand g.campaign = l.utm_original\n",
    "\t\t\t\t\t\tand g.product = l.product\n",
    "\t\t\t\t\t\tand g.ad_name = l.utm_content\n",
    "\t\t\t\t\t\tand g.adset_name = l.utm_term\n",
    "\twhere g.product not in ('All Product', 'Others')\n",
    "union \n",
    "select l.leads_date as created_date, l.product, l.utm_content as ad_name, l.utm_term as adset_name,\n",
    "\t\tl.utm_original as campaign, g.clicks, g.cost, l.leads\n",
    "\tfrom meta as g\n",
    "\tright outer join leads as l on g.created_date = l.leads_date\n",
    "\t\t\t\t\t\tand g.campaign = l.utm_original\n",
    "\t\t\t\t\t\tand g.product = l.product\n",
    "\t\t\t\t\t\tand g.ad_name = l.utm_content\n",
    "\t\t\t\t\t\tand g.adset_name = l.utm_term\n",
    "\twhere g.product not in ('All Product', 'Others')\n",
    ")\n",
    ",\n",
    "g_lp As (\n",
    "select gl.created_date, gl.product, gl.ad_name, gl.adset_name, gl.campaign, gl.clicks, gl.cost, gl.leads, p.prospect\n",
    "\tfrom g_l as gl\n",
    "\tleft outer join prospect as p on gl.created_date = p.prospect_date\n",
    "\t\t\t\t\t\tand gl.campaign = p.utm_original\n",
    "\t\t\t\t\t\tand gl.product = p.product\n",
    "\t\t\t\t\t\tand gl.ad_name = p.utm_content\n",
    "\t\t\t\t\t\tand gl.adset_name = p.utm_term\n",
    "union \n",
    "select p.prospect_date as created_date, p.product, p.utm_content as ad_name, p.utm_term as adset_name,\n",
    "\t\tp.utm_original as campaign, gl.clicks, gl.cost, gl.leads, p.prospect\n",
    "\tfrom g_l as gl\n",
    "\tright outer join prospect as p on gl.created_date = p.prospect_date\n",
    "\t\t\t\t\t\tand gl.campaign = p.utm_original\n",
    "\t\t\t\t\t\tand gl.product = p.product\n",
    "\t\t\t\t\t\tand gl.ad_name = p.utm_content\n",
    "\t\t\t\t\t\tand gl.adset_name = p.utm_term\n",
    ")\n",
    "select glp.created_date, glp.product, glp.ad_name, glp.adset_name, glp.campaign as campaign_name, glp.clicks, glp.cost, glp.leads, glp.prospect, f.funding, f.NTF\n",
    "\tfrom g_lp as glp\n",
    "\tleft outer join funding as f on glp.created_date = f.funding_date\n",
    "\t\t\t\t\t\tand glp.campaign = f.utm_original\n",
    "\t\t\t\t\t\tand glp.product = f.product\n",
    "\t\t\t\t\t\tand glp.ad_name = f.utm_content\n",
    "\t\t\t\t\t\tand glp.adset_name = f.utm_term\n",
    "union \n",
    "select f.funding_date as created_date, f.product, f.utm_content as ad_name, f.utm_term as adset_name,\n",
    "\t\tf.utm_original as campaign_name, glp.clicks, glp.cost, glp.leads, glp.prospect,\n",
    "\t\tf.funding, f.NTF\n",
    "\tfrom g_lp as glp\n",
    "\tright outer join funding as f on glp.created_date = f.funding_date\n",
    "\t\t\t\t\t\tand glp.campaign = f.utm_original\n",
    "\t\t\t\t\t\tand glp.product = f.product\n",
    "\t\t\t\t\t\tand glp.ad_name = f.utm_content\n",
    "\t\t\t\t\t\tand glp.adset_name = f.utm_term;    \n",
    "    '''.format(days_ago_1)\n",
    "    meta = pd.read_sql(query,mydb)\n",
    "    mydb.close() #close the connection\n",
    "except Exception as e:\n",
    "    mydb.close()\n",
    "    print(str(e))\n",
    "meta['campaign']= meta['ad_name'] +\" ; \"+ meta[\"adset_name\"] +\" ; \"+ meta[\"campaign_name\"]\n",
    "meta.head()"
   ]
  },
  {
   "cell_type": "code",
   "execution_count": 14,
   "metadata": {},
   "outputs": [
    {
     "data": {
      "text/html": [
       "<div>\n",
       "<style scoped>\n",
       "    .dataframe tbody tr th:only-of-type {\n",
       "        vertical-align: middle;\n",
       "    }\n",
       "\n",
       "    .dataframe tbody tr th {\n",
       "        vertical-align: top;\n",
       "    }\n",
       "\n",
       "    .dataframe thead th {\n",
       "        text-align: right;\n",
       "    }\n",
       "</style>\n",
       "<table border=\"1\" class=\"dataframe\">\n",
       "  <thead>\n",
       "    <tr style=\"text-align: right;\">\n",
       "      <th></th>\n",
       "      <th>campaign_name</th>\n",
       "      <th>product</th>\n",
       "      <th>ad_name</th>\n",
       "      <th>adset_name</th>\n",
       "      <th>count_train</th>\n",
       "      <th>count_valid</th>\n",
       "      <th>min</th>\n",
       "      <th>max</th>\n",
       "      <th>campaign</th>\n",
       "    </tr>\n",
       "  </thead>\n",
       "  <tbody>\n",
       "    <tr>\n",
       "      <th>0</th>\n",
       "      <td>New Conversion | Jaminan BPKB Motor | Web 1 | ...</td>\n",
       "      <td>BPKB Motor</td>\n",
       "      <td>Paket Langsung Cair (Lancar) Video</td>\n",
       "      <td>Single Image &amp; Video</td>\n",
       "      <td>95</td>\n",
       "      <td>26</td>\n",
       "      <td>2023-01-09</td>\n",
       "      <td>2023-05-19</td>\n",
       "      <td>Paket Langsung Cair (Lancar) Video ; Single Im...</td>\n",
       "    </tr>\n",
       "    <tr>\n",
       "      <th>1</th>\n",
       "      <td>New Conversion | Jaminan BPKB Motor | Web 1 | ...</td>\n",
       "      <td>BPKB Motor</td>\n",
       "      <td>Paket Langsung Cair (Lancar) Video</td>\n",
       "      <td>Single Image &amp; Video - Lookalike</td>\n",
       "      <td>74</td>\n",
       "      <td>26</td>\n",
       "      <td>2023-01-30</td>\n",
       "      <td>2023-05-19</td>\n",
       "      <td>Paket Langsung Cair (Lancar) Video ; Single Im...</td>\n",
       "    </tr>\n",
       "    <tr>\n",
       "      <th>2</th>\n",
       "      <td>New Conversion | Jaminan BPKB Mobil | Web 1</td>\n",
       "      <td>BPKB Mobil</td>\n",
       "      <td>Lebih Untung Dijaminkan Daripada Dijual</td>\n",
       "      <td>Mix Photo Video</td>\n",
       "      <td>53</td>\n",
       "      <td>14</td>\n",
       "      <td>2023-02-08</td>\n",
       "      <td>2023-05-19</td>\n",
       "      <td>Lebih Untung Dijaminkan Daripada Dijual ; Mix ...</td>\n",
       "    </tr>\n",
       "    <tr>\n",
       "      <th>3</th>\n",
       "      <td>New Conversion | Jaminan BPKB Mobil | Web 1 | ...</td>\n",
       "      <td>BPKB Mobil</td>\n",
       "      <td>Lebih Untung Dijaminkan Daripada Dijual</td>\n",
       "      <td>Mix Photo Video</td>\n",
       "      <td>53</td>\n",
       "      <td>17</td>\n",
       "      <td>2023-02-08</td>\n",
       "      <td>2023-05-17</td>\n",
       "      <td>Lebih Untung Dijaminkan Daripada Dijual ; Mix ...</td>\n",
       "    </tr>\n",
       "    <tr>\n",
       "      <th>4</th>\n",
       "      <td>New Conversion | Jaminan BPKB Mobil | Web 1 | ...</td>\n",
       "      <td>BPKB Mobil</td>\n",
       "      <td>Lebih Untung Dijaminkan Daripada Dijual</td>\n",
       "      <td>Mix Photo Video</td>\n",
       "      <td>35</td>\n",
       "      <td>9</td>\n",
       "      <td>2023-02-08</td>\n",
       "      <td>2023-05-19</td>\n",
       "      <td>Lebih Untung Dijaminkan Daripada Dijual ; Mix ...</td>\n",
       "    </tr>\n",
       "    <tr>\n",
       "      <th>5</th>\n",
       "      <td>New Conversion | Jaminan BPKB Mobil | Web 1</td>\n",
       "      <td>BPKB Mobil</td>\n",
       "      <td>Pilihan Tepat Dapatkan Pinjaman Cepat</td>\n",
       "      <td>Mix Photo Video</td>\n",
       "      <td>54</td>\n",
       "      <td>14</td>\n",
       "      <td>2023-02-08</td>\n",
       "      <td>2023-05-19</td>\n",
       "      <td>Pilihan Tepat Dapatkan Pinjaman Cepat ; Mix Ph...</td>\n",
       "    </tr>\n",
       "    <tr>\n",
       "      <th>6</th>\n",
       "      <td>New Conversion | Jaminan BPKB Motor | Web 1 | ...</td>\n",
       "      <td>BPKB Motor</td>\n",
       "      <td>Paket Lancar (Langsung Cair)</td>\n",
       "      <td>Single Image &amp; Video</td>\n",
       "      <td>65</td>\n",
       "      <td>26</td>\n",
       "      <td>2023-02-08</td>\n",
       "      <td>2023-05-19</td>\n",
       "      <td>Paket Lancar (Langsung Cair) ; Single Image &amp; ...</td>\n",
       "    </tr>\n",
       "    <tr>\n",
       "      <th>7</th>\n",
       "      <td>New Conversion | Jaminan BPKB Motor | Web 1 | ...</td>\n",
       "      <td>BPKB Motor</td>\n",
       "      <td>Paket Lancar (Langsung Cair)</td>\n",
       "      <td>Single Image &amp; Video - Lookalike</td>\n",
       "      <td>65</td>\n",
       "      <td>26</td>\n",
       "      <td>2023-02-08</td>\n",
       "      <td>2023-05-19</td>\n",
       "      <td>Paket Lancar (Langsung Cair) ; Single Image &amp; ...</td>\n",
       "    </tr>\n",
       "    <tr>\n",
       "      <th>8</th>\n",
       "      <td>New Conversion | Jaminan BPKB Motor | Web 1 | ...</td>\n",
       "      <td>BPKB Motor</td>\n",
       "      <td>Paket Reguler</td>\n",
       "      <td>Single Image &amp; Video - Lookalike</td>\n",
       "      <td>65</td>\n",
       "      <td>26</td>\n",
       "      <td>2023-02-08</td>\n",
       "      <td>2023-05-19</td>\n",
       "      <td>Paket Reguler ; Single Image &amp; Video - Lookali...</td>\n",
       "    </tr>\n",
       "    <tr>\n",
       "      <th>9</th>\n",
       "      <td>New Conversion | Jaminan BPKB Motor | Web 1 | ...</td>\n",
       "      <td>BPKB Motor</td>\n",
       "      <td>Paket Reguler</td>\n",
       "      <td>Single Image &amp; Video</td>\n",
       "      <td>65</td>\n",
       "      <td>26</td>\n",
       "      <td>2023-02-08</td>\n",
       "      <td>2023-05-19</td>\n",
       "      <td>Paket Reguler ; Single Image &amp; Video ; New Con...</td>\n",
       "    </tr>\n",
       "    <tr>\n",
       "      <th>10</th>\n",
       "      <td>New Conversion | Jaminan BPKB Mobil | Web 1 | ...</td>\n",
       "      <td>BPKB Mobil</td>\n",
       "      <td>Dana Pendidikan Anak Aman dengan Pinjaman Jami...</td>\n",
       "      <td>Mix Photo Video</td>\n",
       "      <td>69</td>\n",
       "      <td>38</td>\n",
       "      <td>2023-02-08</td>\n",
       "      <td>2023-05-19</td>\n",
       "      <td>Dana Pendidikan Anak Aman dengan Pinjaman Jami...</td>\n",
       "    </tr>\n",
       "    <tr>\n",
       "      <th>11</th>\n",
       "      <td>New Conversion | Jaminan BPKB Mobil | Web 1 | ...</td>\n",
       "      <td>BPKB Mobil</td>\n",
       "      <td>Pilihan Tepat Dapatkan Pinjaman Cepat</td>\n",
       "      <td>Mix Photo Video</td>\n",
       "      <td>53</td>\n",
       "      <td>19</td>\n",
       "      <td>2023-02-08</td>\n",
       "      <td>2023-05-19</td>\n",
       "      <td>Pilihan Tepat Dapatkan Pinjaman Cepat ; Mix Ph...</td>\n",
       "    </tr>\n",
       "    <tr>\n",
       "      <th>12</th>\n",
       "      <td>New Conversion | Jaminan BPKB Mobil | Web 1 | ...</td>\n",
       "      <td>BPKB Mobil</td>\n",
       "      <td>Pilihan Tepat Dapatkan Pinjaman Cepat</td>\n",
       "      <td>Mix Photo Video</td>\n",
       "      <td>35</td>\n",
       "      <td>9</td>\n",
       "      <td>2023-02-08</td>\n",
       "      <td>2023-05-19</td>\n",
       "      <td>Pilihan Tepat Dapatkan Pinjaman Cepat ; Mix Ph...</td>\n",
       "    </tr>\n",
       "    <tr>\n",
       "      <th>13</th>\n",
       "      <td>New Conversion | Jaminan BPKB Motor | Web 1 | ...</td>\n",
       "      <td>BPKB Motor</td>\n",
       "      <td>Paket Reguler (Video)</td>\n",
       "      <td>Single Image &amp; Video</td>\n",
       "      <td>65</td>\n",
       "      <td>26</td>\n",
       "      <td>2023-02-08</td>\n",
       "      <td>2023-05-19</td>\n",
       "      <td>Paket Reguler (Video) ; Single Image &amp; Video ;...</td>\n",
       "    </tr>\n",
       "    <tr>\n",
       "      <th>14</th>\n",
       "      <td>New Conversion | Jaminan BPKB Motor | Web 1 | ...</td>\n",
       "      <td>BPKB Motor</td>\n",
       "      <td>Paket Reguler (Video)</td>\n",
       "      <td>Single Image &amp; Video - Lookalike</td>\n",
       "      <td>65</td>\n",
       "      <td>26</td>\n",
       "      <td>2023-02-08</td>\n",
       "      <td>2023-05-19</td>\n",
       "      <td>Paket Reguler (Video) ; Single Image &amp; Video -...</td>\n",
       "    </tr>\n",
       "    <tr>\n",
       "      <th>15</th>\n",
       "      <td>New Conversion | Jaminan BPKB Mobil | Web 1</td>\n",
       "      <td>BPKB Mobil</td>\n",
       "      <td>Dana Pendidikan Anak Aman</td>\n",
       "      <td>Mix Photo Video</td>\n",
       "      <td>51</td>\n",
       "      <td>14</td>\n",
       "      <td>2023-02-10</td>\n",
       "      <td>2023-05-19</td>\n",
       "      <td>Dana Pendidikan Anak Aman ; Mix Photo Video ; ...</td>\n",
       "    </tr>\n",
       "    <tr>\n",
       "      <th>16</th>\n",
       "      <td>New Conversion | Jaminan BPKB Motor | Web 1 | ...</td>\n",
       "      <td>BPKB Motor</td>\n",
       "      <td>Paket Reguler</td>\n",
       "      <td>Single Image</td>\n",
       "      <td>53</td>\n",
       "      <td>26</td>\n",
       "      <td>2023-02-20</td>\n",
       "      <td>2023-05-19</td>\n",
       "      <td>Paket Reguler ; Single Image ; New Conversion ...</td>\n",
       "    </tr>\n",
       "    <tr>\n",
       "      <th>17</th>\n",
       "      <td>New Conversion | Jaminan BPKB Motor | Web 1 | ...</td>\n",
       "      <td>BPKB Motor</td>\n",
       "      <td>Paket Lancar (Langsung Cair)</td>\n",
       "      <td>Single Image</td>\n",
       "      <td>58</td>\n",
       "      <td>26</td>\n",
       "      <td>2023-02-20</td>\n",
       "      <td>2023-05-19</td>\n",
       "      <td>Paket Lancar (Langsung Cair) ; Single Image ; ...</td>\n",
       "    </tr>\n",
       "    <tr>\n",
       "      <th>18</th>\n",
       "      <td>New Conversion | Jaminan BPKB Motor | Web 1 | ...</td>\n",
       "      <td>BPKB Motor</td>\n",
       "      <td>Paket Reguler (Video)</td>\n",
       "      <td>Single Image &amp; Video - Lookalike</td>\n",
       "      <td>53</td>\n",
       "      <td>26</td>\n",
       "      <td>2023-02-20</td>\n",
       "      <td>2023-05-19</td>\n",
       "      <td>Paket Reguler (Video) ; Single Image &amp; Video -...</td>\n",
       "    </tr>\n",
       "    <tr>\n",
       "      <th>19</th>\n",
       "      <td>New Conversion | Jaminan BPKB Motor | Web 1 | ...</td>\n",
       "      <td>BPKB Motor</td>\n",
       "      <td>Paket Lancar (Langsung Cair)</td>\n",
       "      <td>Single Image &amp; Video - Lookalike</td>\n",
       "      <td>53</td>\n",
       "      <td>26</td>\n",
       "      <td>2023-02-20</td>\n",
       "      <td>2023-05-19</td>\n",
       "      <td>Paket Lancar (Langsung Cair) ; Single Image &amp; ...</td>\n",
       "    </tr>\n",
       "    <tr>\n",
       "      <th>20</th>\n",
       "      <td>New Conversion | Jaminan BPKB Motor | Web 1 | ...</td>\n",
       "      <td>BPKB Motor</td>\n",
       "      <td>Paket Langsung Cair (Lancar) Video</td>\n",
       "      <td>Single Image &amp; Video - Lookalike</td>\n",
       "      <td>53</td>\n",
       "      <td>26</td>\n",
       "      <td>2023-02-20</td>\n",
       "      <td>2023-05-19</td>\n",
       "      <td>Paket Langsung Cair (Lancar) Video ; Single Im...</td>\n",
       "    </tr>\n",
       "    <tr>\n",
       "      <th>21</th>\n",
       "      <td>New Conversion | Jaminan BPKB Motor | Web 1 | ...</td>\n",
       "      <td>BPKB Motor</td>\n",
       "      <td>Paket Reguler</td>\n",
       "      <td>Single Image &amp; Video - Lookalike</td>\n",
       "      <td>53</td>\n",
       "      <td>26</td>\n",
       "      <td>2023-02-20</td>\n",
       "      <td>2023-05-19</td>\n",
       "      <td>Paket Reguler ; Single Image &amp; Video - Lookali...</td>\n",
       "    </tr>\n",
       "    <tr>\n",
       "      <th>22</th>\n",
       "      <td>BFI Finance | Conversion | Jaminan Sertifikat ...</td>\n",
       "      <td>Sertifikat Rumah</td>\n",
       "      <td>Pinjaman Jaminan Sertifikat Rumah di BFI Finance</td>\n",
       "      <td>Mix Photo &amp; Video</td>\n",
       "      <td>37</td>\n",
       "      <td>17</td>\n",
       "      <td>2023-02-28</td>\n",
       "      <td>2023-05-10</td>\n",
       "      <td>Pinjaman Jaminan Sertifikat Rumah di BFI Finan...</td>\n",
       "    </tr>\n",
       "    <tr>\n",
       "      <th>23</th>\n",
       "      <td>BFI Finance | Conversion | Jaminan Sertifikat ...</td>\n",
       "      <td>Sertifikat Rumah</td>\n",
       "      <td>Pinjaman Besar Jaminan Sertifikat Rumah</td>\n",
       "      <td>Mix Photo &amp; Video</td>\n",
       "      <td>26</td>\n",
       "      <td>17</td>\n",
       "      <td>2023-03-08</td>\n",
       "      <td>2023-05-10</td>\n",
       "      <td>Pinjaman Besar Jaminan Sertifikat Rumah ; Mix ...</td>\n",
       "    </tr>\n",
       "    <tr>\n",
       "      <th>24</th>\n",
       "      <td>New Conversion | Jaminan BPKB Motor | Web 1 | ...</td>\n",
       "      <td>BPKB Motor</td>\n",
       "      <td>Paket Reguler</td>\n",
       "      <td>Single Image &amp; Video</td>\n",
       "      <td>11</td>\n",
       "      <td>26</td>\n",
       "      <td>2023-04-09</td>\n",
       "      <td>2023-05-19</td>\n",
       "      <td>Paket Reguler ; Single Image &amp; Video ; New Con...</td>\n",
       "    </tr>\n",
       "    <tr>\n",
       "      <th>25</th>\n",
       "      <td>New Conversion | Jaminan BPKB Motor | Web 1 | ...</td>\n",
       "      <td>BPKB Motor</td>\n",
       "      <td>Paket Lancar (Langsung Cair)</td>\n",
       "      <td>Single Image &amp; Video</td>\n",
       "      <td>11</td>\n",
       "      <td>26</td>\n",
       "      <td>2023-04-09</td>\n",
       "      <td>2023-05-19</td>\n",
       "      <td>Paket Lancar (Langsung Cair) ; Single Image &amp; ...</td>\n",
       "    </tr>\n",
       "    <tr>\n",
       "      <th>26</th>\n",
       "      <td>New Conversion | Jaminan BPKB Motor | Web 1 | ...</td>\n",
       "      <td>BPKB Motor</td>\n",
       "      <td>Paket Langsung Cair (Lancar) Video</td>\n",
       "      <td>Single Image &amp; Video</td>\n",
       "      <td>11</td>\n",
       "      <td>26</td>\n",
       "      <td>2023-04-09</td>\n",
       "      <td>2023-05-19</td>\n",
       "      <td>Paket Langsung Cair (Lancar) Video ; Single Im...</td>\n",
       "    </tr>\n",
       "    <tr>\n",
       "      <th>27</th>\n",
       "      <td>New Conversion | Jaminan BPKB Motor | Web 1 | ...</td>\n",
       "      <td>BPKB Motor</td>\n",
       "      <td>Paket Reguler (Video)</td>\n",
       "      <td>Single Image &amp; Video</td>\n",
       "      <td>11</td>\n",
       "      <td>25</td>\n",
       "      <td>2023-04-09</td>\n",
       "      <td>2023-05-19</td>\n",
       "      <td>Paket Reguler (Video) ; Single Image &amp; Video ;...</td>\n",
       "    </tr>\n",
       "    <tr>\n",
       "      <th>28</th>\n",
       "      <td>New Conversion | Jaminan BPKB Motor | Web 1 | ...</td>\n",
       "      <td>BPKB Motor</td>\n",
       "      <td>Paket Reguler</td>\n",
       "      <td>Single Image &amp; Video - Lookalike</td>\n",
       "      <td>11</td>\n",
       "      <td>26</td>\n",
       "      <td>2023-04-09</td>\n",
       "      <td>2023-05-19</td>\n",
       "      <td>Paket Reguler ; Single Image &amp; Video - Lookali...</td>\n",
       "    </tr>\n",
       "    <tr>\n",
       "      <th>29</th>\n",
       "      <td>New Conversion | Jaminan BPKB Motor | Web 1 | ...</td>\n",
       "      <td>BPKB Motor</td>\n",
       "      <td>Paket Lancar (Langsung Cair)</td>\n",
       "      <td>Single Image &amp; Video - Lookalike</td>\n",
       "      <td>11</td>\n",
       "      <td>26</td>\n",
       "      <td>2023-04-09</td>\n",
       "      <td>2023-05-19</td>\n",
       "      <td>Paket Lancar (Langsung Cair) ; Single Image &amp; ...</td>\n",
       "    </tr>\n",
       "    <tr>\n",
       "      <th>30</th>\n",
       "      <td>New Conversion | Jaminan BPKB Motor | Web 1 | ...</td>\n",
       "      <td>BPKB Motor</td>\n",
       "      <td>Paket Reguler (Video)</td>\n",
       "      <td>Single Image &amp; Video - Lookalike</td>\n",
       "      <td>11</td>\n",
       "      <td>26</td>\n",
       "      <td>2023-04-09</td>\n",
       "      <td>2023-05-19</td>\n",
       "      <td>Paket Reguler (Video) ; Single Image &amp; Video -...</td>\n",
       "    </tr>\n",
       "    <tr>\n",
       "      <th>31</th>\n",
       "      <td>New Conversion | Jaminan BPKB Motor | Web 1 | ...</td>\n",
       "      <td>BPKB Motor</td>\n",
       "      <td>Paket Langsung Cair (Lancar) Video</td>\n",
       "      <td>Single Image &amp; Video - Lookalike</td>\n",
       "      <td>11</td>\n",
       "      <td>26</td>\n",
       "      <td>2023-04-09</td>\n",
       "      <td>2023-05-19</td>\n",
       "      <td>Paket Langsung Cair (Lancar) Video ; Single Im...</td>\n",
       "    </tr>\n",
       "    <tr>\n",
       "      <th>32</th>\n",
       "      <td>BFI Finance | Conversion | Jaminan Sertifikat ...</td>\n",
       "      <td>Sertifikat Rumah</td>\n",
       "      <td>Pinjaman Jaminan Sertifikat Rumah di BFI Finance</td>\n",
       "      <td>Mix Photo &amp; Video</td>\n",
       "      <td>7</td>\n",
       "      <td>17</td>\n",
       "      <td>2023-04-09</td>\n",
       "      <td>2023-05-10</td>\n",
       "      <td>Pinjaman Jaminan Sertifikat Rumah di BFI Finan...</td>\n",
       "    </tr>\n",
       "    <tr>\n",
       "      <th>33</th>\n",
       "      <td>BFI Finance | Conversion | Jaminan Sertifikat ...</td>\n",
       "      <td>Sertifikat Rumah</td>\n",
       "      <td>Pinjaman Besar Jaminan Sertifikat Rumah</td>\n",
       "      <td>Mix Photo &amp; Video</td>\n",
       "      <td>7</td>\n",
       "      <td>17</td>\n",
       "      <td>2023-04-09</td>\n",
       "      <td>2023-05-10</td>\n",
       "      <td>Pinjaman Besar Jaminan Sertifikat Rumah ; Mix ...</td>\n",
       "    </tr>\n",
       "    <tr>\n",
       "      <th>34</th>\n",
       "      <td>BFI Finance | Conversion | Jaminan Sertifikat ...</td>\n",
       "      <td>Sertifikat Rumah</td>\n",
       "      <td>Pinjaman Jaminan Sertifikat Rumah di BFI Finan...</td>\n",
       "      <td>Mix Photo &amp; Video</td>\n",
       "      <td>7</td>\n",
       "      <td>17</td>\n",
       "      <td>2023-04-09</td>\n",
       "      <td>2023-05-10</td>\n",
       "      <td>Pinjaman Jaminan Sertifikat Rumah di BFI Finan...</td>\n",
       "    </tr>\n",
       "    <tr>\n",
       "      <th>35</th>\n",
       "      <td>BFI Finance | Conversion | Jaminan Sertifikat ...</td>\n",
       "      <td>Sertifikat Rumah</td>\n",
       "      <td>Pinjaman Besar Jaminan Sertifikat Rumah Video</td>\n",
       "      <td>Mix Photo &amp; Video</td>\n",
       "      <td>7</td>\n",
       "      <td>17</td>\n",
       "      <td>2023-04-09</td>\n",
       "      <td>2023-05-10</td>\n",
       "      <td>Pinjaman Besar Jaminan Sertifikat Rumah Video ...</td>\n",
       "    </tr>\n",
       "    <tr>\n",
       "      <th>36</th>\n",
       "      <td>BFI Finance | Conversion | Jaminan Sertifikat ...</td>\n",
       "      <td>Sertifikat Rumah</td>\n",
       "      <td>Pinjaman Jaminan Sertifikat Rumah di BFI Finance</td>\n",
       "      <td>Remarketing</td>\n",
       "      <td>7</td>\n",
       "      <td>17</td>\n",
       "      <td>2023-04-09</td>\n",
       "      <td>2023-05-10</td>\n",
       "      <td>Pinjaman Jaminan Sertifikat Rumah di BFI Finan...</td>\n",
       "    </tr>\n",
       "    <tr>\n",
       "      <th>37</th>\n",
       "      <td>BFI Finance | Conversion | Jaminan Sertifikat ...</td>\n",
       "      <td>Sertifikat Rumah</td>\n",
       "      <td>Pinjaman Besar Jaminan Sertifikat Rumah</td>\n",
       "      <td>Remarketing</td>\n",
       "      <td>7</td>\n",
       "      <td>17</td>\n",
       "      <td>2023-04-09</td>\n",
       "      <td>2023-05-10</td>\n",
       "      <td>Pinjaman Besar Jaminan Sertifikat Rumah ; Rema...</td>\n",
       "    </tr>\n",
       "    <tr>\n",
       "      <th>38</th>\n",
       "      <td>BFI Finance | Conversion | Jaminan Sertifikat ...</td>\n",
       "      <td>Sertifikat Rumah</td>\n",
       "      <td>Pinjaman Jaminan Sertifikat Rumah di BFI Finan...</td>\n",
       "      <td>Mix Photo &amp; Video</td>\n",
       "      <td>7</td>\n",
       "      <td>17</td>\n",
       "      <td>2023-04-09</td>\n",
       "      <td>2023-05-10</td>\n",
       "      <td>Pinjaman Jaminan Sertifikat Rumah di BFI Finan...</td>\n",
       "    </tr>\n",
       "    <tr>\n",
       "      <th>39</th>\n",
       "      <td>BFI Finance | Conversion | Jaminan Sertifikat ...</td>\n",
       "      <td>Sertifikat Rumah</td>\n",
       "      <td>Pinjaman Besar Jaminan Sertifikat Rumah Video</td>\n",
       "      <td>Mix Photo &amp; Video</td>\n",
       "      <td>8</td>\n",
       "      <td>17</td>\n",
       "      <td>2023-04-09</td>\n",
       "      <td>2023-05-10</td>\n",
       "      <td>Pinjaman Besar Jaminan Sertifikat Rumah Video ...</td>\n",
       "    </tr>\n",
       "  </tbody>\n",
       "</table>\n",
       "</div>"
      ],
      "text/plain": [
       "                                        campaign_name           product  \\\n",
       "0   New Conversion | Jaminan BPKB Motor | Web 1 | ...        BPKB Motor   \n",
       "1   New Conversion | Jaminan BPKB Motor | Web 1 | ...        BPKB Motor   \n",
       "2         New Conversion | Jaminan BPKB Mobil | Web 1        BPKB Mobil   \n",
       "3   New Conversion | Jaminan BPKB Mobil | Web 1 | ...        BPKB Mobil   \n",
       "4   New Conversion | Jaminan BPKB Mobil | Web 1 | ...        BPKB Mobil   \n",
       "5         New Conversion | Jaminan BPKB Mobil | Web 1        BPKB Mobil   \n",
       "6   New Conversion | Jaminan BPKB Motor | Web 1 | ...        BPKB Motor   \n",
       "7   New Conversion | Jaminan BPKB Motor | Web 1 | ...        BPKB Motor   \n",
       "8   New Conversion | Jaminan BPKB Motor | Web 1 | ...        BPKB Motor   \n",
       "9   New Conversion | Jaminan BPKB Motor | Web 1 | ...        BPKB Motor   \n",
       "10  New Conversion | Jaminan BPKB Mobil | Web 1 | ...        BPKB Mobil   \n",
       "11  New Conversion | Jaminan BPKB Mobil | Web 1 | ...        BPKB Mobil   \n",
       "12  New Conversion | Jaminan BPKB Mobil | Web 1 | ...        BPKB Mobil   \n",
       "13  New Conversion | Jaminan BPKB Motor | Web 1 | ...        BPKB Motor   \n",
       "14  New Conversion | Jaminan BPKB Motor | Web 1 | ...        BPKB Motor   \n",
       "15        New Conversion | Jaminan BPKB Mobil | Web 1        BPKB Mobil   \n",
       "16  New Conversion | Jaminan BPKB Motor | Web 1 | ...        BPKB Motor   \n",
       "17  New Conversion | Jaminan BPKB Motor | Web 1 | ...        BPKB Motor   \n",
       "18  New Conversion | Jaminan BPKB Motor | Web 1 | ...        BPKB Motor   \n",
       "19  New Conversion | Jaminan BPKB Motor | Web 1 | ...        BPKB Motor   \n",
       "20  New Conversion | Jaminan BPKB Motor | Web 1 | ...        BPKB Motor   \n",
       "21  New Conversion | Jaminan BPKB Motor | Web 1 | ...        BPKB Motor   \n",
       "22  BFI Finance | Conversion | Jaminan Sertifikat ...  Sertifikat Rumah   \n",
       "23  BFI Finance | Conversion | Jaminan Sertifikat ...  Sertifikat Rumah   \n",
       "24  New Conversion | Jaminan BPKB Motor | Web 1 | ...        BPKB Motor   \n",
       "25  New Conversion | Jaminan BPKB Motor | Web 1 | ...        BPKB Motor   \n",
       "26  New Conversion | Jaminan BPKB Motor | Web 1 | ...        BPKB Motor   \n",
       "27  New Conversion | Jaminan BPKB Motor | Web 1 | ...        BPKB Motor   \n",
       "28  New Conversion | Jaminan BPKB Motor | Web 1 | ...        BPKB Motor   \n",
       "29  New Conversion | Jaminan BPKB Motor | Web 1 | ...        BPKB Motor   \n",
       "30  New Conversion | Jaminan BPKB Motor | Web 1 | ...        BPKB Motor   \n",
       "31  New Conversion | Jaminan BPKB Motor | Web 1 | ...        BPKB Motor   \n",
       "32  BFI Finance | Conversion | Jaminan Sertifikat ...  Sertifikat Rumah   \n",
       "33  BFI Finance | Conversion | Jaminan Sertifikat ...  Sertifikat Rumah   \n",
       "34  BFI Finance | Conversion | Jaminan Sertifikat ...  Sertifikat Rumah   \n",
       "35  BFI Finance | Conversion | Jaminan Sertifikat ...  Sertifikat Rumah   \n",
       "36  BFI Finance | Conversion | Jaminan Sertifikat ...  Sertifikat Rumah   \n",
       "37  BFI Finance | Conversion | Jaminan Sertifikat ...  Sertifikat Rumah   \n",
       "38  BFI Finance | Conversion | Jaminan Sertifikat ...  Sertifikat Rumah   \n",
       "39  BFI Finance | Conversion | Jaminan Sertifikat ...  Sertifikat Rumah   \n",
       "\n",
       "                                              ad_name  \\\n",
       "0                  Paket Langsung Cair (Lancar) Video   \n",
       "1                  Paket Langsung Cair (Lancar) Video   \n",
       "2             Lebih Untung Dijaminkan Daripada Dijual   \n",
       "3             Lebih Untung Dijaminkan Daripada Dijual   \n",
       "4             Lebih Untung Dijaminkan Daripada Dijual   \n",
       "5               Pilihan Tepat Dapatkan Pinjaman Cepat   \n",
       "6                        Paket Lancar (Langsung Cair)   \n",
       "7                        Paket Lancar (Langsung Cair)   \n",
       "8                                       Paket Reguler   \n",
       "9                                       Paket Reguler   \n",
       "10  Dana Pendidikan Anak Aman dengan Pinjaman Jami...   \n",
       "11              Pilihan Tepat Dapatkan Pinjaman Cepat   \n",
       "12              Pilihan Tepat Dapatkan Pinjaman Cepat   \n",
       "13                              Paket Reguler (Video)   \n",
       "14                              Paket Reguler (Video)   \n",
       "15                          Dana Pendidikan Anak Aman   \n",
       "16                                      Paket Reguler   \n",
       "17                       Paket Lancar (Langsung Cair)   \n",
       "18                              Paket Reguler (Video)   \n",
       "19                       Paket Lancar (Langsung Cair)   \n",
       "20                 Paket Langsung Cair (Lancar) Video   \n",
       "21                                      Paket Reguler   \n",
       "22   Pinjaman Jaminan Sertifikat Rumah di BFI Finance   \n",
       "23            Pinjaman Besar Jaminan Sertifikat Rumah   \n",
       "24                                      Paket Reguler   \n",
       "25                       Paket Lancar (Langsung Cair)   \n",
       "26                 Paket Langsung Cair (Lancar) Video   \n",
       "27                              Paket Reguler (Video)   \n",
       "28                                      Paket Reguler   \n",
       "29                       Paket Lancar (Langsung Cair)   \n",
       "30                              Paket Reguler (Video)   \n",
       "31                 Paket Langsung Cair (Lancar) Video   \n",
       "32   Pinjaman Jaminan Sertifikat Rumah di BFI Finance   \n",
       "33            Pinjaman Besar Jaminan Sertifikat Rumah   \n",
       "34  Pinjaman Jaminan Sertifikat Rumah di BFI Finan...   \n",
       "35      Pinjaman Besar Jaminan Sertifikat Rumah Video   \n",
       "36   Pinjaman Jaminan Sertifikat Rumah di BFI Finance   \n",
       "37            Pinjaman Besar Jaminan Sertifikat Rumah   \n",
       "38  Pinjaman Jaminan Sertifikat Rumah di BFI Finan...   \n",
       "39      Pinjaman Besar Jaminan Sertifikat Rumah Video   \n",
       "\n",
       "                          adset_name  count_train  count_valid         min  \\\n",
       "0               Single Image & Video           95           26  2023-01-09   \n",
       "1   Single Image & Video - Lookalike           74           26  2023-01-30   \n",
       "2                    Mix Photo Video           53           14  2023-02-08   \n",
       "3                    Mix Photo Video           53           17  2023-02-08   \n",
       "4                    Mix Photo Video           35            9  2023-02-08   \n",
       "5                    Mix Photo Video           54           14  2023-02-08   \n",
       "6               Single Image & Video           65           26  2023-02-08   \n",
       "7   Single Image & Video - Lookalike           65           26  2023-02-08   \n",
       "8   Single Image & Video - Lookalike           65           26  2023-02-08   \n",
       "9               Single Image & Video           65           26  2023-02-08   \n",
       "10                   Mix Photo Video           69           38  2023-02-08   \n",
       "11                   Mix Photo Video           53           19  2023-02-08   \n",
       "12                   Mix Photo Video           35            9  2023-02-08   \n",
       "13              Single Image & Video           65           26  2023-02-08   \n",
       "14  Single Image & Video - Lookalike           65           26  2023-02-08   \n",
       "15                   Mix Photo Video           51           14  2023-02-10   \n",
       "16                      Single Image           53           26  2023-02-20   \n",
       "17                      Single Image           58           26  2023-02-20   \n",
       "18  Single Image & Video - Lookalike           53           26  2023-02-20   \n",
       "19  Single Image & Video - Lookalike           53           26  2023-02-20   \n",
       "20  Single Image & Video - Lookalike           53           26  2023-02-20   \n",
       "21  Single Image & Video - Lookalike           53           26  2023-02-20   \n",
       "22                 Mix Photo & Video           37           17  2023-02-28   \n",
       "23                 Mix Photo & Video           26           17  2023-03-08   \n",
       "24              Single Image & Video           11           26  2023-04-09   \n",
       "25              Single Image & Video           11           26  2023-04-09   \n",
       "26              Single Image & Video           11           26  2023-04-09   \n",
       "27              Single Image & Video           11           25  2023-04-09   \n",
       "28  Single Image & Video - Lookalike           11           26  2023-04-09   \n",
       "29  Single Image & Video - Lookalike           11           26  2023-04-09   \n",
       "30  Single Image & Video - Lookalike           11           26  2023-04-09   \n",
       "31  Single Image & Video - Lookalike           11           26  2023-04-09   \n",
       "32                 Mix Photo & Video            7           17  2023-04-09   \n",
       "33                 Mix Photo & Video            7           17  2023-04-09   \n",
       "34                 Mix Photo & Video            7           17  2023-04-09   \n",
       "35                 Mix Photo & Video            7           17  2023-04-09   \n",
       "36                       Remarketing            7           17  2023-04-09   \n",
       "37                       Remarketing            7           17  2023-04-09   \n",
       "38                 Mix Photo & Video            7           17  2023-04-09   \n",
       "39                 Mix Photo & Video            8           17  2023-04-09   \n",
       "\n",
       "           max                                           campaign  \n",
       "0   2023-05-19  Paket Langsung Cair (Lancar) Video ; Single Im...  \n",
       "1   2023-05-19  Paket Langsung Cair (Lancar) Video ; Single Im...  \n",
       "2   2023-05-19  Lebih Untung Dijaminkan Daripada Dijual ; Mix ...  \n",
       "3   2023-05-17  Lebih Untung Dijaminkan Daripada Dijual ; Mix ...  \n",
       "4   2023-05-19  Lebih Untung Dijaminkan Daripada Dijual ; Mix ...  \n",
       "5   2023-05-19  Pilihan Tepat Dapatkan Pinjaman Cepat ; Mix Ph...  \n",
       "6   2023-05-19  Paket Lancar (Langsung Cair) ; Single Image & ...  \n",
       "7   2023-05-19  Paket Lancar (Langsung Cair) ; Single Image & ...  \n",
       "8   2023-05-19  Paket Reguler ; Single Image & Video - Lookali...  \n",
       "9   2023-05-19  Paket Reguler ; Single Image & Video ; New Con...  \n",
       "10  2023-05-19  Dana Pendidikan Anak Aman dengan Pinjaman Jami...  \n",
       "11  2023-05-19  Pilihan Tepat Dapatkan Pinjaman Cepat ; Mix Ph...  \n",
       "12  2023-05-19  Pilihan Tepat Dapatkan Pinjaman Cepat ; Mix Ph...  \n",
       "13  2023-05-19  Paket Reguler (Video) ; Single Image & Video ;...  \n",
       "14  2023-05-19  Paket Reguler (Video) ; Single Image & Video -...  \n",
       "15  2023-05-19  Dana Pendidikan Anak Aman ; Mix Photo Video ; ...  \n",
       "16  2023-05-19  Paket Reguler ; Single Image ; New Conversion ...  \n",
       "17  2023-05-19  Paket Lancar (Langsung Cair) ; Single Image ; ...  \n",
       "18  2023-05-19  Paket Reguler (Video) ; Single Image & Video -...  \n",
       "19  2023-05-19  Paket Lancar (Langsung Cair) ; Single Image & ...  \n",
       "20  2023-05-19  Paket Langsung Cair (Lancar) Video ; Single Im...  \n",
       "21  2023-05-19  Paket Reguler ; Single Image & Video - Lookali...  \n",
       "22  2023-05-10  Pinjaman Jaminan Sertifikat Rumah di BFI Finan...  \n",
       "23  2023-05-10  Pinjaman Besar Jaminan Sertifikat Rumah ; Mix ...  \n",
       "24  2023-05-19  Paket Reguler ; Single Image & Video ; New Con...  \n",
       "25  2023-05-19  Paket Lancar (Langsung Cair) ; Single Image & ...  \n",
       "26  2023-05-19  Paket Langsung Cair (Lancar) Video ; Single Im...  \n",
       "27  2023-05-19  Paket Reguler (Video) ; Single Image & Video ;...  \n",
       "28  2023-05-19  Paket Reguler ; Single Image & Video - Lookali...  \n",
       "29  2023-05-19  Paket Lancar (Langsung Cair) ; Single Image & ...  \n",
       "30  2023-05-19  Paket Reguler (Video) ; Single Image & Video -...  \n",
       "31  2023-05-19  Paket Langsung Cair (Lancar) Video ; Single Im...  \n",
       "32  2023-05-10  Pinjaman Jaminan Sertifikat Rumah di BFI Finan...  \n",
       "33  2023-05-10  Pinjaman Besar Jaminan Sertifikat Rumah ; Mix ...  \n",
       "34  2023-05-10  Pinjaman Jaminan Sertifikat Rumah di BFI Finan...  \n",
       "35  2023-05-10  Pinjaman Besar Jaminan Sertifikat Rumah Video ...  \n",
       "36  2023-05-10  Pinjaman Jaminan Sertifikat Rumah di BFI Finan...  \n",
       "37  2023-05-10  Pinjaman Besar Jaminan Sertifikat Rumah ; Rema...  \n",
       "38  2023-05-10  Pinjaman Jaminan Sertifikat Rumah di BFI Finan...  \n",
       "39  2023-05-10  Pinjaman Besar Jaminan Sertifikat Rumah Video ...  "
      ]
     },
     "execution_count": 14,
     "metadata": {},
     "output_type": "execute_result"
    }
   ],
   "source": [
    "try:\n",
    "    mydb = mysql_drive.connect(host=os.getenv(\"HOST\"), user=os.getenv(\"DATABASE_USER\"),port=os.getenv(\"DATABASE_PORT\"),\n",
    "                                database=os.getenv(\"DATABASE_NAME\"), password=os.getenv(\"DATABASE_PASSWORD\"))\n",
    "    query = '''\n",
    "        select campaign_name as campaign_name,\n",
    "            CASE WHEN lower(campaign_name) LIKE '%mobil%' THEN 'BPKB Mobil'\n",
    "\t\t        WHEN lower(campaign_name) LIKE '%motor%' THEN 'BPKB Motor'\n",
    "\t\t        WHEN lower(campaign_name) LIKE '%rumah%' THEN 'Sertifikat Rumah'\n",
    "\t\t        WHEN lower(campaign_name) LIKE '%all product%' THEN 'All Product'\n",
    "\t\t        WHEN lower(campaign_name) LIKE '%all-product%' THEN 'All Product'\n",
    "\t\t        else 'Others'\n",
    "\t\t        END AS product, ad_name, adset_name,\n",
    "            count(case when (created_date <= '{1}')then 1 end) as count_train,\n",
    "            count(case when (created_date >= '{1}')then 1 end) as count_valid,\n",
    "            min(date_format(created_date,'%Y-%m-%d')) as min, max(date_format(created_date,'%Y-%m-%d')) as max\n",
    "        from digital_leads.facebook_insights\n",
    "        where date_format(created_date,'%Y-%m-%d') <= '{3}' and campaign_name <> '(not set)'\n",
    "        group by campaign_name, product, ad_name, adset_name\n",
    "        having  min(date_format(created_date,'%Y-%m-%d')) <= '{0}' \n",
    "                and max(date_format(created_date,'%Y-%m-%d')) > '{2}'\n",
    "                and count(case when (created_date <= '{1}')then 1 end) > 2\n",
    "                and count(case when (created_date >= '{1}')then 1 end) > 2\n",
    "    '''.format(days_ago_37,days_ago_30, days_ago_14,days_ago_1)\n",
    "    active = pd.read_sql(query,mydb)\n",
    "    mydb.close() #close the connection\n",
    "except Exception as e:\n",
    "    mydb.close()\n",
    "    print(str(e))\n",
    "active['campaign']= active['ad_name'] +\" ; \"+ active[\"adset_name\"] +\" ; \"+ active[\"campaign_name\"]\n",
    "active"
   ]
  },
  {
   "cell_type": "code",
   "execution_count": 16,
   "metadata": {},
   "outputs": [],
   "source": [
    "Active_campaign = meta.loc[meta.campaign.isin(active.campaign.values)]\n",
    "               #, ['googleAdsCampaignName', 'created_date', 'advertiserAdClicks', 'cost']]\n",
    "Active_campaign['created_date'] = pd.to_datetime(Active_campaign['created_date']).dt.date\n",
    "#Active_campaign.campaign.unique()\n",
    "#Active_campaign.head()\n",
    "#Active_campaign.info()"
   ]
  },
  {
   "cell_type": "code",
   "execution_count": 17,
   "metadata": {},
   "outputs": [],
   "source": [
    "train_click = Active_campaign.loc[Active_campaign['created_date'] < days_ago_30, ['campaign', 'created_date', 'clicks']]\n",
    "valid_click = Active_campaign.loc[(Active_campaign['created_date'] >= days_ago_30) & (Active_campaign['created_date'] < days_ago_1), ['campaign', 'created_date', 'clicks']]\n",
    "train_cost = Active_campaign.loc[Active_campaign['created_date'] < days_ago_30, ['campaign', 'created_date', 'cost']]\n",
    "valid_cost = Active_campaign.loc[(Active_campaign['created_date'] >= days_ago_30) & (Active_campaign['created_date'] < days_ago_1), ['campaign', 'created_date', 'cost']]\n",
    "train_leads = Active_campaign.loc[Active_campaign['created_date'] < days_ago_30, ['campaign', 'created_date', 'leads']]\n",
    "valid_leads = Active_campaign.loc[(Active_campaign['created_date'] >= days_ago_30) & (Active_campaign['created_date'] < days_ago_1), ['campaign', 'created_date', 'leads']]\n",
    "train_prospect = Active_campaign.loc[Active_campaign['created_date'] < days_ago_30, ['campaign', 'created_date', 'prospect']]\n",
    "valid_prospect = Active_campaign.loc[(Active_campaign['created_date'] >= days_ago_30) & (Active_campaign['created_date'] < days_ago_1), ['campaign', 'created_date', 'prospect']]\n",
    "train_funding = Active_campaign.loc[Active_campaign['created_date'] < days_ago_30, ['campaign', 'created_date', 'funding']]\n",
    "valid_funding = Active_campaign.loc[(Active_campaign['created_date'] >= days_ago_30) & (Active_campaign['created_date'] < days_ago_1), ['campaign', 'created_date', 'funding']]\n",
    "train_NTF = Active_campaign.loc[Active_campaign['created_date'] < days_ago_30, ['campaign', 'created_date', 'NTF']]\n",
    "valid_NTF = Active_campaign.loc[(Active_campaign['created_date'] >= days_ago_30) & (Active_campaign['created_date'] < days_ago_1), ['campaign', 'created_date', 'NTF']]\n",
    "\n",
    "train_click = train_click.rename(columns={'created_date': 'ds', 'clicks': 'y', 'campaign': 'campaign'})\n",
    "valid_click = valid_click.rename(columns={'created_date': 'ds', 'clicks': 'y', 'campaign': 'campaign'})\n",
    "train_cost = train_cost.rename(columns={'created_date': 'ds', 'cost': 'y', 'campaign': 'campaign'})\n",
    "valid_cost = valid_cost.rename(columns={'created_date': 'ds', 'cost': 'y', 'campaign': 'campaign'})\n",
    "train_leads = train_leads.rename(columns={'created_date': 'ds', 'leads': 'y', 'campaign': 'campaign'})\n",
    "valid_leads = valid_click.rename(columns={'created_date': 'ds', 'leads': 'y', 'campaign': 'campaign'})\n",
    "train_prospect = train_prospect.rename(columns={'created_date': 'ds', 'prospect': 'y', 'campaign': 'campaign'})\n",
    "valid_prospect = valid_prospect.rename(columns={'created_date': 'ds', 'prospect': 'y', 'campaign': 'campaign'})\n",
    "train_funding = train_funding.rename(columns={'created_date': 'ds', 'funding': 'y', 'campaign': 'campaign'})\n",
    "valid_funding = valid_funding.rename(columns={'created_date': 'ds', 'funding': 'y', 'campaign': 'campaign'})\n",
    "train_NTF = train_NTF.rename(columns={'created_date': 'ds', 'NTF': 'y', 'campaign': 'campaign'})\n",
    "valid_NTF = valid_NTF.rename(columns={'created_date': 'ds', 'NTF': 'y', 'campaign': 'campaign'})\n",
    "\n",
    "train_click['ds']= pd.to_datetime(train_click['ds'])\n",
    "valid_click['ds']= pd.to_datetime(valid_click['ds'])\n",
    "train_cost['ds']= pd.to_datetime(train_cost['ds'])\n",
    "valid_cost['ds']= pd.to_datetime(valid_cost['ds'])\n",
    "train_leads['ds']= pd.to_datetime(train_leads['ds'])\n",
    "valid_leads['ds']= pd.to_datetime(valid_leads['ds'])\n",
    "train_prospect['ds']= pd.to_datetime(train_prospect['ds'])\n",
    "valid_prospect['ds']= pd.to_datetime(valid_prospect['ds'])\n",
    "train_funding['ds']= pd.to_datetime(train_funding['ds'])\n",
    "valid_funding['ds']= pd.to_datetime(valid_funding['ds'])\n",
    "train_NTF['ds']= pd.to_datetime(train_NTF['ds'])\n",
    "valid_NTF['ds']= pd.to_datetime(valid_NTF['ds'])"
   ]
  },
  {
   "cell_type": "code",
   "execution_count": 18,
   "metadata": {},
   "outputs": [
    {
     "name": "stdout",
     "output_type": "stream",
     "text": [
      "campaign: Lebih Untung Dijaminkan Daripada Dijual ; Mix Photo Video ; New Conversion | Jaminan BPKB Mobil | Web 1 | Jabodetabek\n"
     ]
    },
    {
     "name": "stderr",
     "output_type": "stream",
     "text": [
      "16:55:45 - cmdstanpy - INFO - Chain [1] start processing\n",
      "16:55:45 - cmdstanpy - INFO - Chain [1] done processing\n",
      "16:55:45 - cmdstanpy - INFO - Chain [1] start processing\n"
     ]
    },
    {
     "name": "stdout",
     "output_type": "stream",
     "text": [
      "campaign: Pilihan Tepat Dapatkan Pinjaman Cepat ; Mix Photo Video ; New Conversion | Jaminan BPKB Mobil | Web 1 | Sumatera\n"
     ]
    },
    {
     "name": "stderr",
     "output_type": "stream",
     "text": [
      "16:55:45 - cmdstanpy - INFO - Chain [1] done processing\n",
      "16:55:45 - cmdstanpy - INFO - Chain [1] start processing\n"
     ]
    },
    {
     "name": "stdout",
     "output_type": "stream",
     "text": [
      "campaign: Lebih Untung Dijaminkan Daripada Dijual ; Mix Photo Video ; New Conversion | Jaminan BPKB Mobil | Web 1\n"
     ]
    },
    {
     "name": "stderr",
     "output_type": "stream",
     "text": [
      "16:55:45 - cmdstanpy - INFO - Chain [1] done processing\n",
      "16:55:45 - cmdstanpy - INFO - Chain [1] start processing\n",
      "16:55:46 - cmdstanpy - INFO - Chain [1] done processing\n"
     ]
    },
    {
     "name": "stdout",
     "output_type": "stream",
     "text": [
      "campaign: Pilihan Tepat Dapatkan Pinjaman Cepat ; Mix Photo Video ; New Conversion | Jaminan BPKB Mobil | Web 1\n",
      "campaign: Pilihan Tepat Dapatkan Pinjaman Cepat ; Mix Photo Video ; New Conversion | Jaminan BPKB Mobil | Web 1 | Jabodetabek\n"
     ]
    },
    {
     "name": "stderr",
     "output_type": "stream",
     "text": [
      "16:55:46 - cmdstanpy - INFO - Chain [1] start processing\n",
      "16:55:46 - cmdstanpy - INFO - Chain [1] done processing\n",
      "16:55:46 - cmdstanpy - INFO - Chain [1] start processing\n"
     ]
    },
    {
     "name": "stdout",
     "output_type": "stream",
     "text": [
      "campaign: Lebih Untung Dijaminkan Daripada Dijual ; Mix Photo Video ; New Conversion | Jaminan BPKB Mobil | Web 1 | Sumatera\n"
     ]
    },
    {
     "name": "stderr",
     "output_type": "stream",
     "text": [
      "16:55:46 - cmdstanpy - INFO - Chain [1] done processing\n",
      "16:55:46 - cmdstanpy - INFO - Chain [1] start processing\n"
     ]
    },
    {
     "name": "stdout",
     "output_type": "stream",
     "text": [
      "campaign: Dana Pendidikan Anak Aman ; Mix Photo Video ; New Conversion | Jaminan BPKB Mobil | Web 1\n"
     ]
    },
    {
     "name": "stderr",
     "output_type": "stream",
     "text": [
      "16:55:46 - cmdstanpy - INFO - Chain [1] done processing\n",
      "16:55:46 - cmdstanpy - INFO - Chain [1] start processing\n",
      "16:55:46 - cmdstanpy - INFO - Chain [1] done processing\n"
     ]
    },
    {
     "name": "stdout",
     "output_type": "stream",
     "text": [
      "campaign: Paket Reguler ; Single Image ; New Conversion | Jaminan BPKB Motor | Web 1 | Event Purchase | Jabodetabek\n",
      "campaign: Paket Langsung Cair (Lancar) Video ; Single Image & Video ; New Conversion | Jaminan BPKB Motor | Web 1 | Event Purchase\n"
     ]
    },
    {
     "name": "stderr",
     "output_type": "stream",
     "text": [
      "16:55:47 - cmdstanpy - INFO - Chain [1] start processing\n",
      "16:55:47 - cmdstanpy - INFO - Chain [1] done processing\n",
      "16:55:47 - cmdstanpy - INFO - Chain [1] start processing\n",
      "16:55:47 - cmdstanpy - INFO - Chain [1] done processing\n"
     ]
    },
    {
     "name": "stdout",
     "output_type": "stream",
     "text": [
      "campaign: Paket Langsung Cair (Lancar) Video ; Single Image & Video - Lookalike ; New Conversion | Jaminan BPKB Motor | Web 1 | Event Purchase\n"
     ]
    },
    {
     "name": "stderr",
     "output_type": "stream",
     "text": [
      "16:55:47 - cmdstanpy - INFO - Chain [1] start processing\n"
     ]
    },
    {
     "name": "stdout",
     "output_type": "stream",
     "text": [
      "campaign: Dana Pendidikan Anak Aman dengan Pinjaman Jaminan BPKB Mobil ; Mix Photo Video ; New Conversion | Jaminan BPKB Mobil | Web 1 | Jabodetabek\n"
     ]
    },
    {
     "name": "stderr",
     "output_type": "stream",
     "text": [
      "16:55:47 - cmdstanpy - INFO - Chain [1] done processing\n",
      "16:55:47 - cmdstanpy - INFO - Chain [1] start processing\n"
     ]
    },
    {
     "name": "stdout",
     "output_type": "stream",
     "text": [
      "campaign: Paket Lancar (Langsung Cair) ; Single Image & Video ; New Conversion | Jaminan BPKB Motor | Web 1 | Event Purchase\n"
     ]
    },
    {
     "name": "stderr",
     "output_type": "stream",
     "text": [
      "16:55:47 - cmdstanpy - INFO - Chain [1] done processing\n",
      "16:55:48 - cmdstanpy - INFO - Chain [1] start processing\n"
     ]
    },
    {
     "name": "stdout",
     "output_type": "stream",
     "text": [
      "campaign: Paket Lancar (Langsung Cair) ; Single Image & Video - Lookalike ; New Conversion | Jaminan BPKB Motor | Web 1 | Event Purchase\n"
     ]
    },
    {
     "name": "stderr",
     "output_type": "stream",
     "text": [
      "16:55:48 - cmdstanpy - INFO - Chain [1] done processing\n",
      "16:55:48 - cmdstanpy - INFO - Chain [1] start processing\n"
     ]
    },
    {
     "name": "stdout",
     "output_type": "stream",
     "text": [
      "campaign: Paket Reguler ; Single Image & Video ; New Conversion | Jaminan BPKB Motor | Web 1 | Event Purchase\n"
     ]
    },
    {
     "name": "stderr",
     "output_type": "stream",
     "text": [
      "16:55:48 - cmdstanpy - INFO - Chain [1] done processing\n",
      "16:55:48 - cmdstanpy - INFO - Chain [1] start processing\n"
     ]
    },
    {
     "name": "stdout",
     "output_type": "stream",
     "text": [
      "campaign: Paket Reguler ; Single Image & Video - Lookalike ; New Conversion | Jaminan BPKB Motor | Web 1 | Event Purchase\n"
     ]
    },
    {
     "name": "stderr",
     "output_type": "stream",
     "text": [
      "16:55:48 - cmdstanpy - INFO - Chain [1] done processing\n",
      "16:55:49 - cmdstanpy - INFO - Chain [1] start processing\n",
      "16:55:49 - cmdstanpy - INFO - Chain [1] done processing\n"
     ]
    },
    {
     "name": "stdout",
     "output_type": "stream",
     "text": [
      "campaign: Paket Reguler (Video) ; Single Image & Video ; New Conversion | Jaminan BPKB Motor | Web 1 | Event Purchase\n",
      "campaign: Paket Reguler (Video) ; Single Image & Video - Lookalike ; New Conversion | Jaminan BPKB Motor | Web 1 | Event Purchase\n"
     ]
    },
    {
     "name": "stderr",
     "output_type": "stream",
     "text": [
      "16:55:49 - cmdstanpy - INFO - Chain [1] start processing\n",
      "16:55:49 - cmdstanpy - INFO - Chain [1] done processing\n",
      "16:55:49 - cmdstanpy - INFO - Chain [1] start processing\n"
     ]
    },
    {
     "name": "stdout",
     "output_type": "stream",
     "text": [
      "campaign: Paket Lancar (Langsung Cair) ; Single Image ; New Conversion | Jaminan BPKB Motor | Web 1 | Event Purchase | Jabodetabek\n"
     ]
    },
    {
     "name": "stderr",
     "output_type": "stream",
     "text": [
      "16:55:49 - cmdstanpy - INFO - Chain [1] done processing\n",
      "16:55:49 - cmdstanpy - INFO - Chain [1] start processing\n",
      "16:55:49 - cmdstanpy - INFO - Chain [1] done processing\n"
     ]
    },
    {
     "name": "stdout",
     "output_type": "stream",
     "text": [
      "campaign: Paket Lancar (Langsung Cair) ; Single Image & Video - Lookalike ; New Conversion | Jaminan BPKB Motor | Web 1 | Event Purchase | Jabodetabek\n"
     ]
    },
    {
     "name": "stderr",
     "output_type": "stream",
     "text": [
      "16:55:50 - cmdstanpy - INFO - Chain [1] start processing\n",
      "16:55:50 - cmdstanpy - INFO - Chain [1] done processing\n"
     ]
    },
    {
     "name": "stdout",
     "output_type": "stream",
     "text": [
      "campaign: Paket Langsung Cair (Lancar) Video ; Single Image & Video - Lookalike ; New Conversion | Jaminan BPKB Motor | Web 1 | Event Purchase | Jabodetabek\n"
     ]
    },
    {
     "name": "stderr",
     "output_type": "stream",
     "text": [
      "16:55:50 - cmdstanpy - INFO - Chain [1] start processing\n",
      "16:55:50 - cmdstanpy - INFO - Chain [1] done processing\n"
     ]
    },
    {
     "name": "stdout",
     "output_type": "stream",
     "text": [
      "campaign: Paket Reguler ; Single Image & Video - Lookalike ; New Conversion | Jaminan BPKB Motor | Web 1 | Event Purchase | Jabodetabek\n"
     ]
    },
    {
     "name": "stderr",
     "output_type": "stream",
     "text": [
      "16:55:50 - cmdstanpy - INFO - Chain [1] start processing\n",
      "16:55:50 - cmdstanpy - INFO - Chain [1] done processing\n"
     ]
    },
    {
     "name": "stdout",
     "output_type": "stream",
     "text": [
      "campaign: Paket Reguler (Video) ; Single Image & Video - Lookalike ; New Conversion | Jaminan BPKB Motor | Web 1 | Event Purchase | Jabodetabek\n"
     ]
    },
    {
     "name": "stderr",
     "output_type": "stream",
     "text": [
      "16:55:50 - cmdstanpy - INFO - Chain [1] start processing\n",
      "16:55:50 - cmdstanpy - INFO - Chain [1] done processing\n"
     ]
    },
    {
     "name": "stdout",
     "output_type": "stream",
     "text": [
      "campaign: Pinjaman Jaminan Sertifikat Rumah di BFI Finance ; Mix Photo & Video ; BFI Finance | Conversion | Jaminan Sertifikat Rumah | Web 1 | Event Purchase\n"
     ]
    },
    {
     "name": "stderr",
     "output_type": "stream",
     "text": [
      "16:55:50 - cmdstanpy - INFO - Chain [1] start processing\n",
      "16:55:50 - cmdstanpy - INFO - Chain [1] done processing\n"
     ]
    },
    {
     "name": "stdout",
     "output_type": "stream",
     "text": [
      "campaign: Pinjaman Besar Jaminan Sertifikat Rumah ; Mix Photo & Video ; BFI Finance | Conversion | Jaminan Sertifikat Rumah | Web 1 | Event Purchase\n",
      "campaign: Pinjaman Besar Jaminan Sertifikat Rumah ; Mix Photo & Video ; BFI Finance | Conversion | Jaminan Sertifikat Rumah | Web 1 - Jabodetabek\n"
     ]
    },
    {
     "name": "stderr",
     "output_type": "stream",
     "text": [
      "16:55:51 - cmdstanpy - INFO - Chain [1] start processing\n",
      "16:55:51 - cmdstanpy - INFO - Chain [1] done processing\n",
      "16:55:51 - cmdstanpy - INFO - Chain [1] start processing\n",
      "16:55:51 - cmdstanpy - INFO - Chain [1] done processing\n"
     ]
    },
    {
     "name": "stdout",
     "output_type": "stream",
     "text": [
      "campaign: Pinjaman Besar Jaminan Sertifikat Rumah ; Remarketing ; BFI Finance | Conversion | Jaminan Sertifikat Rumah | Web 1 - Jabodetabek\n"
     ]
    },
    {
     "name": "stderr",
     "output_type": "stream",
     "text": [
      "16:55:51 - cmdstanpy - INFO - Chain [1] start processing\n"
     ]
    },
    {
     "name": "stdout",
     "output_type": "stream",
     "text": [
      "campaign: Pinjaman Besar Jaminan Sertifikat Rumah Video ; Mix Photo & Video ; BFI Finance | Conversion | Jaminan Sertifikat Rumah | Web 1 - Jabodetabek\n"
     ]
    },
    {
     "name": "stderr",
     "output_type": "stream",
     "text": [
      "16:55:54 - cmdstanpy - INFO - Chain [1] done processing\n",
      "16:55:55 - cmdstanpy - INFO - Chain [1] start processing\n"
     ]
    },
    {
     "name": "stdout",
     "output_type": "stream",
     "text": [
      "campaign: Pinjaman Jaminan Sertifikat Rumah di BFI Finance ; Mix Photo & Video ; BFI Finance | Conversion | Jaminan Sertifikat Rumah | Web 1 - Jabodetabek\n"
     ]
    },
    {
     "name": "stderr",
     "output_type": "stream",
     "text": [
      "16:55:55 - cmdstanpy - INFO - Chain [1] done processing\n",
      "16:55:55 - cmdstanpy - INFO - Chain [1] start processing\n",
      "16:55:55 - cmdstanpy - INFO - Chain [1] done processing\n"
     ]
    },
    {
     "name": "stdout",
     "output_type": "stream",
     "text": [
      "campaign: Pinjaman Jaminan Sertifikat Rumah di BFI Finance ; Remarketing ; BFI Finance | Conversion | Jaminan Sertifikat Rumah | Web 1 - Jabodetabek\n"
     ]
    },
    {
     "name": "stderr",
     "output_type": "stream",
     "text": [
      "16:55:56 - cmdstanpy - INFO - Chain [1] start processing\n"
     ]
    },
    {
     "name": "stdout",
     "output_type": "stream",
     "text": [
      "campaign: Pinjaman Jaminan Sertifikat Rumah di BFI Finance Video ; Mix Photo & Video ; BFI Finance | Conversion | Jaminan Sertifikat Rumah | Web 1 - Jabodetabek\n"
     ]
    },
    {
     "name": "stderr",
     "output_type": "stream",
     "text": [
      "16:55:56 - cmdstanpy - INFO - Chain [1] done processing\n",
      "16:55:56 - cmdstanpy - INFO - Chain [1] start processing\n",
      "16:55:56 - cmdstanpy - INFO - Chain [1] done processing\n"
     ]
    },
    {
     "name": "stdout",
     "output_type": "stream",
     "text": [
      "campaign: Pinjaman Besar Jaminan Sertifikat Rumah Video ; Mix Photo & Video ; BFI Finance | Conversion | Jaminan Sertifikat Rumah | Web 1 | Event Purchase\n"
     ]
    },
    {
     "name": "stderr",
     "output_type": "stream",
     "text": [
      "16:55:56 - cmdstanpy - INFO - Chain [1] start processing\n",
      "16:55:56 - cmdstanpy - INFO - Chain [1] done processing\n"
     ]
    },
    {
     "name": "stdout",
     "output_type": "stream",
     "text": [
      "campaign: Pinjaman Jaminan Sertifikat Rumah di BFI Finance Video ; Mix Photo & Video ; BFI Finance | Conversion | Jaminan Sertifikat Rumah | Web 1 | Event Purchase\n",
      "campaign: Paket Lancar (Langsung Cair) ; Single Image & Video ; New Conversion | Jaminan BPKB Motor | Web 1 | Event Purchase | Jabarteng\n"
     ]
    },
    {
     "name": "stderr",
     "output_type": "stream",
     "text": [
      "16:55:56 - cmdstanpy - INFO - Chain [1] start processing\n",
      "16:55:56 - cmdstanpy - INFO - Chain [1] done processing\n",
      "16:55:56 - cmdstanpy - INFO - Chain [1] start processing\n",
      "16:55:56 - cmdstanpy - INFO - Chain [1] done processing\n"
     ]
    },
    {
     "name": "stdout",
     "output_type": "stream",
     "text": [
      "campaign: Paket Lancar (Langsung Cair) ; Single Image & Video - Lookalike ; New Conversion | Jaminan BPKB Motor | Web 1 | Event Purchase | Jabarteng\n",
      "campaign: Paket Langsung Cair (Lancar) Video ; Single Image & Video ; New Conversion | Jaminan BPKB Motor | Web 1 | Event Purchase | Jabarteng\n"
     ]
    },
    {
     "name": "stderr",
     "output_type": "stream",
     "text": [
      "16:55:57 - cmdstanpy - INFO - Chain [1] start processing\n",
      "16:55:57 - cmdstanpy - INFO - Chain [1] done processing\n",
      "16:55:57 - cmdstanpy - INFO - Chain [1] start processing\n",
      "16:55:57 - cmdstanpy - INFO - Chain [1] done processing\n"
     ]
    },
    {
     "name": "stdout",
     "output_type": "stream",
     "text": [
      "campaign: Paket Langsung Cair (Lancar) Video ; Single Image & Video - Lookalike ; New Conversion | Jaminan BPKB Motor | Web 1 | Event Purchase | Jabarteng\n",
      "campaign: Paket Reguler ; Single Image & Video ; New Conversion | Jaminan BPKB Motor | Web 1 | Event Purchase | Jabarteng\n"
     ]
    },
    {
     "name": "stderr",
     "output_type": "stream",
     "text": [
      "16:55:57 - cmdstanpy - INFO - Chain [1] start processing\n",
      "16:55:57 - cmdstanpy - INFO - Chain [1] done processing\n",
      "16:55:57 - cmdstanpy - INFO - Chain [1] start processing\n",
      "16:55:57 - cmdstanpy - INFO - Chain [1] done processing\n"
     ]
    },
    {
     "name": "stdout",
     "output_type": "stream",
     "text": [
      "campaign: Paket Reguler ; Single Image & Video - Lookalike ; New Conversion | Jaminan BPKB Motor | Web 1 | Event Purchase | Jabarteng\n",
      "campaign: Paket Reguler (Video) ; Single Image & Video ; New Conversion | Jaminan BPKB Motor | Web 1 | Event Purchase | Jabarteng\n"
     ]
    },
    {
     "name": "stderr",
     "output_type": "stream",
     "text": [
      "16:55:57 - cmdstanpy - INFO - Chain [1] start processing\n",
      "16:55:58 - cmdstanpy - INFO - Chain [1] done processing\n"
     ]
    },
    {
     "name": "stdout",
     "output_type": "stream",
     "text": [
      "campaign: Paket Reguler (Video) ; Single Image & Video - Lookalike ; New Conversion | Jaminan BPKB Motor | Web 1 | Event Purchase | Jabarteng\n",
      "WAPE :  2.284225398420298\n",
      "WBPE :  -1.4810818338520269\n",
      "WCPE :  nan\n"
     ]
    }
   ],
   "source": [
    "click = list()\n",
    "for campaign in train_click['campaign'].unique():\n",
    "    print('campaign:', campaign)\n",
    "    train_ = train_click.loc[train_click['campaign'] == campaign]\n",
    "    valid_ = valid_click.loc[valid_click['campaign'] == campaign]\n",
    "\n",
    "    m = Prophet(seasonality_mode='additive', yearly_seasonality=False, \n",
    "                weekly_seasonality=True, daily_seasonality=True\n",
    "               )\n",
    "    if train_.shape[0] > 2:\n",
    "        m.fit(train_)\n",
    "    \n",
    "    future = m.make_future_dataframe(periods=60, include_history=False)\n",
    "    future = future.merge(valid_[['ds']], on='ds', how='left')\n",
    "    forecast = m.predict(future)\n",
    "    forecast['campaign'] = campaign\n",
    "    click.append(forecast[['ds', 'yhat', 'campaign']])\n",
    "    \n",
    "click = pd.concat(click, ignore_index=True)\n",
    "click['yhat'] = click['yhat'].clip(lower=0)\n",
    "click = click.merge(valid_click, on=['ds', 'campaign'], how='left')\n",
    "print(\"WAPE : \" , wape(click['y'], click['yhat']))\n",
    "print(\"WBPE : \" , wbpe(click['y'], click['yhat']))\n",
    "print(\"WCPE : \" , wcpe(wape(click['y'], click['yhat']), wbpe(click['y'], click['yhat']),2))"
   ]
  },
  {
   "cell_type": "code",
   "execution_count": 19,
   "metadata": {},
   "outputs": [
    {
     "name": "stdout",
     "output_type": "stream",
     "text": [
      "campaign: Lebih Untung Dijaminkan Daripada Dijual ; Mix Photo Video ; New Conversion | Jaminan BPKB Mobil | Web 1 | Jabodetabek\n"
     ]
    },
    {
     "name": "stderr",
     "output_type": "stream",
     "text": [
      "16:55:58 - cmdstanpy - INFO - Chain [1] start processing\n",
      "16:55:58 - cmdstanpy - INFO - Chain [1] done processing\n",
      "16:55:58 - cmdstanpy - INFO - Chain [1] start processing\n",
      "16:55:58 - cmdstanpy - INFO - Chain [1] done processing\n"
     ]
    },
    {
     "name": "stdout",
     "output_type": "stream",
     "text": [
      "campaign: Pilihan Tepat Dapatkan Pinjaman Cepat ; Mix Photo Video ; New Conversion | Jaminan BPKB Mobil | Web 1 | Sumatera\n",
      "campaign: Lebih Untung Dijaminkan Daripada Dijual ; Mix Photo Video ; New Conversion | Jaminan BPKB Mobil | Web 1\n"
     ]
    },
    {
     "name": "stderr",
     "output_type": "stream",
     "text": [
      "16:55:58 - cmdstanpy - INFO - Chain [1] start processing\n",
      "16:55:58 - cmdstanpy - INFO - Chain [1] done processing\n",
      "16:55:58 - cmdstanpy - INFO - Chain [1] start processing\n",
      "16:55:58 - cmdstanpy - INFO - Chain [1] done processing\n"
     ]
    },
    {
     "name": "stdout",
     "output_type": "stream",
     "text": [
      "campaign: Pilihan Tepat Dapatkan Pinjaman Cepat ; Mix Photo Video ; New Conversion | Jaminan BPKB Mobil | Web 1\n"
     ]
    },
    {
     "name": "stderr",
     "output_type": "stream",
     "text": [
      "16:55:59 - cmdstanpy - INFO - Chain [1] start processing\n"
     ]
    },
    {
     "name": "stdout",
     "output_type": "stream",
     "text": [
      "campaign: Pilihan Tepat Dapatkan Pinjaman Cepat ; Mix Photo Video ; New Conversion | Jaminan BPKB Mobil | Web 1 | Jabodetabek\n"
     ]
    },
    {
     "name": "stderr",
     "output_type": "stream",
     "text": [
      "16:55:59 - cmdstanpy - INFO - Chain [1] done processing\n",
      "16:55:59 - cmdstanpy - INFO - Chain [1] start processing\n"
     ]
    },
    {
     "name": "stdout",
     "output_type": "stream",
     "text": [
      "campaign: Lebih Untung Dijaminkan Daripada Dijual ; Mix Photo Video ; New Conversion | Jaminan BPKB Mobil | Web 1 | Sumatera\n"
     ]
    },
    {
     "name": "stderr",
     "output_type": "stream",
     "text": [
      "16:55:59 - cmdstanpy - INFO - Chain [1] done processing\n",
      "16:55:59 - cmdstanpy - INFO - Chain [1] start processing\n",
      "16:55:59 - cmdstanpy - INFO - Chain [1] done processing\n"
     ]
    },
    {
     "name": "stdout",
     "output_type": "stream",
     "text": [
      "campaign: Dana Pendidikan Anak Aman ; Mix Photo Video ; New Conversion | Jaminan BPKB Mobil | Web 1\n",
      "campaign: Paket Reguler ; Single Image ; New Conversion | Jaminan BPKB Motor | Web 1 | Event Purchase | Jabodetabek\n"
     ]
    },
    {
     "name": "stderr",
     "output_type": "stream",
     "text": [
      "16:55:59 - cmdstanpy - INFO - Chain [1] start processing\n",
      "16:55:59 - cmdstanpy - INFO - Chain [1] done processing\n",
      "16:56:00 - cmdstanpy - INFO - Chain [1] start processing\n"
     ]
    },
    {
     "name": "stdout",
     "output_type": "stream",
     "text": [
      "campaign: Paket Langsung Cair (Lancar) Video ; Single Image & Video ; New Conversion | Jaminan BPKB Motor | Web 1 | Event Purchase\n"
     ]
    },
    {
     "name": "stderr",
     "output_type": "stream",
     "text": [
      "16:56:00 - cmdstanpy - INFO - Chain [1] done processing\n",
      "16:56:00 - cmdstanpy - INFO - Chain [1] start processing\n"
     ]
    },
    {
     "name": "stdout",
     "output_type": "stream",
     "text": [
      "campaign: Paket Langsung Cair (Lancar) Video ; Single Image & Video - Lookalike ; New Conversion | Jaminan BPKB Motor | Web 1 | Event Purchase\n"
     ]
    },
    {
     "name": "stderr",
     "output_type": "stream",
     "text": [
      "16:56:00 - cmdstanpy - INFO - Chain [1] done processing\n",
      "16:56:00 - cmdstanpy - INFO - Chain [1] start processing\n"
     ]
    },
    {
     "name": "stdout",
     "output_type": "stream",
     "text": [
      "campaign: Dana Pendidikan Anak Aman dengan Pinjaman Jaminan BPKB Mobil ; Mix Photo Video ; New Conversion | Jaminan BPKB Mobil | Web 1 | Jabodetabek\n"
     ]
    },
    {
     "name": "stderr",
     "output_type": "stream",
     "text": [
      "16:56:00 - cmdstanpy - INFO - Chain [1] done processing\n",
      "16:56:00 - cmdstanpy - INFO - Chain [1] start processing\n"
     ]
    },
    {
     "name": "stdout",
     "output_type": "stream",
     "text": [
      "campaign: Paket Lancar (Langsung Cair) ; Single Image & Video ; New Conversion | Jaminan BPKB Motor | Web 1 | Event Purchase\n"
     ]
    },
    {
     "name": "stderr",
     "output_type": "stream",
     "text": [
      "16:56:00 - cmdstanpy - INFO - Chain [1] done processing\n",
      "16:56:01 - cmdstanpy - INFO - Chain [1] start processing\n",
      "16:56:01 - cmdstanpy - INFO - Chain [1] done processing\n"
     ]
    },
    {
     "name": "stdout",
     "output_type": "stream",
     "text": [
      "campaign: Paket Lancar (Langsung Cair) ; Single Image & Video - Lookalike ; New Conversion | Jaminan BPKB Motor | Web 1 | Event Purchase\n"
     ]
    },
    {
     "name": "stderr",
     "output_type": "stream",
     "text": [
      "16:56:01 - cmdstanpy - INFO - Chain [1] start processing\n",
      "16:56:01 - cmdstanpy - INFO - Chain [1] done processing\n"
     ]
    },
    {
     "name": "stdout",
     "output_type": "stream",
     "text": [
      "campaign: Paket Reguler ; Single Image & Video ; New Conversion | Jaminan BPKB Motor | Web 1 | Event Purchase\n"
     ]
    },
    {
     "name": "stderr",
     "output_type": "stream",
     "text": [
      "16:56:01 - cmdstanpy - INFO - Chain [1] start processing\n"
     ]
    },
    {
     "name": "stdout",
     "output_type": "stream",
     "text": [
      "campaign: Paket Reguler ; Single Image & Video - Lookalike ; New Conversion | Jaminan BPKB Motor | Web 1 | Event Purchase\n"
     ]
    },
    {
     "name": "stderr",
     "output_type": "stream",
     "text": [
      "16:56:01 - cmdstanpy - INFO - Chain [1] done processing\n",
      "16:56:01 - cmdstanpy - INFO - Chain [1] start processing\n",
      "16:56:01 - cmdstanpy - INFO - Chain [1] done processing\n"
     ]
    },
    {
     "name": "stdout",
     "output_type": "stream",
     "text": [
      "campaign: Paket Reguler (Video) ; Single Image & Video ; New Conversion | Jaminan BPKB Motor | Web 1 | Event Purchase\n",
      "campaign: Paket Reguler (Video) ; Single Image & Video - Lookalike ; New Conversion | Jaminan BPKB Motor | Web 1 | Event Purchase\n"
     ]
    },
    {
     "name": "stderr",
     "output_type": "stream",
     "text": [
      "16:56:01 - cmdstanpy - INFO - Chain [1] start processing\n",
      "16:56:02 - cmdstanpy - INFO - Chain [1] done processing\n",
      "16:56:02 - cmdstanpy - INFO - Chain [1] start processing\n",
      "16:56:02 - cmdstanpy - INFO - Chain [1] done processing\n"
     ]
    },
    {
     "name": "stdout",
     "output_type": "stream",
     "text": [
      "campaign: Paket Lancar (Langsung Cair) ; Single Image ; New Conversion | Jaminan BPKB Motor | Web 1 | Event Purchase | Jabodetabek\n"
     ]
    },
    {
     "name": "stderr",
     "output_type": "stream",
     "text": [
      "16:56:02 - cmdstanpy - INFO - Chain [1] start processing\n",
      "16:56:02 - cmdstanpy - INFO - Chain [1] done processing\n"
     ]
    },
    {
     "name": "stdout",
     "output_type": "stream",
     "text": [
      "campaign: Paket Lancar (Langsung Cair) ; Single Image & Video - Lookalike ; New Conversion | Jaminan BPKB Motor | Web 1 | Event Purchase | Jabodetabek\n"
     ]
    },
    {
     "name": "stderr",
     "output_type": "stream",
     "text": [
      "16:56:02 - cmdstanpy - INFO - Chain [1] start processing\n",
      "16:56:02 - cmdstanpy - INFO - Chain [1] done processing\n"
     ]
    },
    {
     "name": "stdout",
     "output_type": "stream",
     "text": [
      "campaign: Paket Langsung Cair (Lancar) Video ; Single Image & Video - Lookalike ; New Conversion | Jaminan BPKB Motor | Web 1 | Event Purchase | Jabodetabek\n"
     ]
    },
    {
     "name": "stderr",
     "output_type": "stream",
     "text": [
      "16:56:02 - cmdstanpy - INFO - Chain [1] start processing\n",
      "16:56:02 - cmdstanpy - INFO - Chain [1] done processing\n"
     ]
    },
    {
     "name": "stdout",
     "output_type": "stream",
     "text": [
      "campaign: Paket Reguler ; Single Image & Video - Lookalike ; New Conversion | Jaminan BPKB Motor | Web 1 | Event Purchase | Jabodetabek\n"
     ]
    },
    {
     "name": "stderr",
     "output_type": "stream",
     "text": [
      "16:56:03 - cmdstanpy - INFO - Chain [1] start processing\n",
      "16:56:03 - cmdstanpy - INFO - Chain [1] done processing\n"
     ]
    },
    {
     "name": "stdout",
     "output_type": "stream",
     "text": [
      "campaign: Paket Reguler (Video) ; Single Image & Video - Lookalike ; New Conversion | Jaminan BPKB Motor | Web 1 | Event Purchase | Jabodetabek\n"
     ]
    },
    {
     "name": "stderr",
     "output_type": "stream",
     "text": [
      "16:56:03 - cmdstanpy - INFO - Chain [1] start processing\n",
      "16:56:03 - cmdstanpy - INFO - Chain [1] done processing\n"
     ]
    },
    {
     "name": "stdout",
     "output_type": "stream",
     "text": [
      "campaign: Pinjaman Jaminan Sertifikat Rumah di BFI Finance ; Mix Photo & Video ; BFI Finance | Conversion | Jaminan Sertifikat Rumah | Web 1 | Event Purchase\n"
     ]
    },
    {
     "name": "stderr",
     "output_type": "stream",
     "text": [
      "16:56:03 - cmdstanpy - INFO - Chain [1] start processing\n",
      "16:56:03 - cmdstanpy - INFO - Chain [1] done processing\n"
     ]
    },
    {
     "name": "stdout",
     "output_type": "stream",
     "text": [
      "campaign: Pinjaman Besar Jaminan Sertifikat Rumah ; Mix Photo & Video ; BFI Finance | Conversion | Jaminan Sertifikat Rumah | Web 1 | Event Purchase\n",
      "campaign: Pinjaman Besar Jaminan Sertifikat Rumah ; Mix Photo & Video ; BFI Finance | Conversion | Jaminan Sertifikat Rumah | Web 1 - Jabodetabek\n"
     ]
    },
    {
     "name": "stderr",
     "output_type": "stream",
     "text": [
      "16:56:03 - cmdstanpy - INFO - Chain [1] start processing\n",
      "16:56:03 - cmdstanpy - INFO - Chain [1] done processing\n",
      "16:56:04 - cmdstanpy - INFO - Chain [1] start processing\n"
     ]
    },
    {
     "name": "stdout",
     "output_type": "stream",
     "text": [
      "campaign: Pinjaman Besar Jaminan Sertifikat Rumah ; Remarketing ; BFI Finance | Conversion | Jaminan Sertifikat Rumah | Web 1 - Jabodetabek\n"
     ]
    },
    {
     "name": "stderr",
     "output_type": "stream",
     "text": [
      "16:56:04 - cmdstanpy - INFO - Chain [1] done processing\n",
      "16:56:04 - cmdstanpy - INFO - Chain [1] start processing\n"
     ]
    },
    {
     "name": "stdout",
     "output_type": "stream",
     "text": [
      "campaign: Pinjaman Besar Jaminan Sertifikat Rumah Video ; Mix Photo & Video ; BFI Finance | Conversion | Jaminan Sertifikat Rumah | Web 1 - Jabodetabek\n"
     ]
    },
    {
     "name": "stderr",
     "output_type": "stream",
     "text": [
      "16:56:06 - cmdstanpy - INFO - Chain [1] done processing\n",
      "16:56:06 - cmdstanpy - INFO - Chain [1] start processing\n"
     ]
    },
    {
     "name": "stdout",
     "output_type": "stream",
     "text": [
      "campaign: Pinjaman Jaminan Sertifikat Rumah di BFI Finance ; Mix Photo & Video ; BFI Finance | Conversion | Jaminan Sertifikat Rumah | Web 1 - Jabodetabek\n"
     ]
    },
    {
     "name": "stderr",
     "output_type": "stream",
     "text": [
      "16:56:06 - cmdstanpy - INFO - Chain [1] done processing\n",
      "16:56:06 - cmdstanpy - INFO - Chain [1] start processing\n",
      "16:56:06 - cmdstanpy - INFO - Chain [1] done processing\n"
     ]
    },
    {
     "name": "stdout",
     "output_type": "stream",
     "text": [
      "campaign: Pinjaman Jaminan Sertifikat Rumah di BFI Finance ; Remarketing ; BFI Finance | Conversion | Jaminan Sertifikat Rumah | Web 1 - Jabodetabek\n",
      "campaign: Pinjaman Jaminan Sertifikat Rumah di BFI Finance Video ; Mix Photo & Video ; BFI Finance | Conversion | Jaminan Sertifikat Rumah | Web 1 - Jabodetabek\n"
     ]
    },
    {
     "name": "stderr",
     "output_type": "stream",
     "text": [
      "16:56:06 - cmdstanpy - INFO - Chain [1] start processing\n",
      "16:56:06 - cmdstanpy - INFO - Chain [1] done processing\n",
      "16:56:07 - cmdstanpy - INFO - Chain [1] start processing\n"
     ]
    },
    {
     "name": "stdout",
     "output_type": "stream",
     "text": [
      "campaign: Pinjaman Besar Jaminan Sertifikat Rumah Video ; Mix Photo & Video ; BFI Finance | Conversion | Jaminan Sertifikat Rumah | Web 1 | Event Purchase\n"
     ]
    },
    {
     "name": "stderr",
     "output_type": "stream",
     "text": [
      "16:56:07 - cmdstanpy - INFO - Chain [1] done processing\n",
      "16:56:07 - cmdstanpy - INFO - Chain [1] start processing\n",
      "16:56:07 - cmdstanpy - INFO - Chain [1] done processing\n"
     ]
    },
    {
     "name": "stdout",
     "output_type": "stream",
     "text": [
      "campaign: Pinjaman Jaminan Sertifikat Rumah di BFI Finance Video ; Mix Photo & Video ; BFI Finance | Conversion | Jaminan Sertifikat Rumah | Web 1 | Event Purchase\n",
      "campaign: Paket Lancar (Langsung Cair) ; Single Image & Video ; New Conversion | Jaminan BPKB Motor | Web 1 | Event Purchase | Jabarteng\n"
     ]
    },
    {
     "name": "stderr",
     "output_type": "stream",
     "text": [
      "16:56:08 - cmdstanpy - INFO - Chain [1] start processing\n",
      "16:56:08 - cmdstanpy - INFO - Chain [1] done processing\n",
      "16:56:08 - cmdstanpy - INFO - Chain [1] start processing\n",
      "16:56:08 - cmdstanpy - INFO - Chain [1] done processing\n"
     ]
    },
    {
     "name": "stdout",
     "output_type": "stream",
     "text": [
      "campaign: Paket Lancar (Langsung Cair) ; Single Image & Video - Lookalike ; New Conversion | Jaminan BPKB Motor | Web 1 | Event Purchase | Jabarteng\n",
      "campaign: Paket Langsung Cair (Lancar) Video ; Single Image & Video ; New Conversion | Jaminan BPKB Motor | Web 1 | Event Purchase | Jabarteng\n"
     ]
    },
    {
     "name": "stderr",
     "output_type": "stream",
     "text": [
      "16:56:08 - cmdstanpy - INFO - Chain [1] start processing\n",
      "16:56:08 - cmdstanpy - INFO - Chain [1] done processing\n",
      "16:56:08 - cmdstanpy - INFO - Chain [1] start processing\n",
      "16:56:08 - cmdstanpy - INFO - Chain [1] done processing\n",
      "16:56:08 - cmdstanpy - INFO - Chain [1] start processing\n"
     ]
    },
    {
     "name": "stdout",
     "output_type": "stream",
     "text": [
      "campaign: Paket Langsung Cair (Lancar) Video ; Single Image & Video - Lookalike ; New Conversion | Jaminan BPKB Motor | Web 1 | Event Purchase | Jabarteng\n",
      "campaign: Paket Reguler ; Single Image & Video ; New Conversion | Jaminan BPKB Motor | Web 1 | Event Purchase | Jabarteng\n"
     ]
    },
    {
     "name": "stderr",
     "output_type": "stream",
     "text": [
      "16:56:08 - cmdstanpy - INFO - Chain [1] done processing\n",
      "16:56:08 - cmdstanpy - INFO - Chain [1] start processing\n",
      "16:56:08 - cmdstanpy - INFO - Chain [1] done processing\n",
      "16:56:08 - cmdstanpy - INFO - Chain [1] start processing\n"
     ]
    },
    {
     "name": "stdout",
     "output_type": "stream",
     "text": [
      "campaign: Paket Reguler ; Single Image & Video - Lookalike ; New Conversion | Jaminan BPKB Motor | Web 1 | Event Purchase | Jabarteng\n",
      "campaign: Paket Reguler (Video) ; Single Image & Video ; New Conversion | Jaminan BPKB Motor | Web 1 | Event Purchase | Jabarteng\n"
     ]
    },
    {
     "name": "stderr",
     "output_type": "stream",
     "text": [
      "16:56:09 - cmdstanpy - INFO - Chain [1] done processing\n",
      "16:56:09 - cmdstanpy - INFO - Chain [1] start processing\n",
      "16:56:09 - cmdstanpy - INFO - Chain [1] done processing\n"
     ]
    },
    {
     "name": "stdout",
     "output_type": "stream",
     "text": [
      "campaign: Paket Reguler (Video) ; Single Image & Video - Lookalike ; New Conversion | Jaminan BPKB Motor | Web 1 | Event Purchase | Jabarteng\n",
      "WAPE :  1.001146812241404\n",
      "WBPE :  -0.14680260696445976\n",
      "WCPE :  0.0\n"
     ]
    }
   ],
   "source": [
    "cost = list()\n",
    "for campaign in train_cost['campaign'].unique():\n",
    "    print('campaign:', campaign)\n",
    "    train_ = train_cost.loc[train_cost['campaign'] == campaign]\n",
    "    valid_ = valid_cost.loc[valid_cost['campaign'] == campaign]\n",
    "    \n",
    "    m = Prophet(seasonality_mode='additive', yearly_seasonality=False, \n",
    "                weekly_seasonality=True, daily_seasonality=True\n",
    "               )\n",
    "    m.fit(train_)\n",
    "    \n",
    "    future = m.make_future_dataframe(periods=60, include_history=False)\n",
    "    future = future.merge(valid_[['ds']], on='ds', how='left')\n",
    "    forecast = m.predict(future)\n",
    "    forecast['campaign'] = campaign\n",
    "    cost.append(forecast[['ds', 'yhat', 'campaign']])\n",
    "    \n",
    "cost = pd.concat(cost, ignore_index=True)\n",
    "cost['yhat'] = cost['yhat'].clip(lower=0)\n",
    "cost = cost.merge(valid_cost, on=['ds', 'campaign'], how='left')\n",
    "print(\"WAPE : \" , wape(cost['y'], cost['yhat']))\n",
    "print(\"WBPE : \" , wbpe(cost['y'], cost['yhat']))\n",
    "print(\"WCPE : \" , wcpe(wape(cost['y'], cost['yhat']), wbpe(cost['y'], cost['yhat']),2))"
   ]
  },
  {
   "cell_type": "code",
   "execution_count": 27,
   "metadata": {},
   "outputs": [
    {
     "name": "stdout",
     "output_type": "stream",
     "text": [
      "campaign: Lebih Untung Dijaminkan Daripada Dijual ; Mix Photo Video ; New Conversion | Jaminan BPKB Mobil | Web 1 | Jabodetabek\n",
      "campaign: Pilihan Tepat Dapatkan Pinjaman Cepat ; Mix Photo Video ; New Conversion | Jaminan BPKB Mobil | Web 1 | Sumatera\n"
     ]
    },
    {
     "name": "stderr",
     "output_type": "stream",
     "text": [
      "17:00:03 - cmdstanpy - INFO - Chain [1] start processing\n",
      "17:00:03 - cmdstanpy - INFO - Chain [1] done processing\n"
     ]
    },
    {
     "name": "stdout",
     "output_type": "stream",
     "text": [
      "campaign: Lebih Untung Dijaminkan Daripada Dijual ; Mix Photo Video ; New Conversion | Jaminan BPKB Mobil | Web 1\n",
      "campaign: Pilihan Tepat Dapatkan Pinjaman Cepat ; Mix Photo Video ; New Conversion | Jaminan BPKB Mobil | Web 1\n",
      "campaign: Pilihan Tepat Dapatkan Pinjaman Cepat ; Mix Photo Video ; New Conversion | Jaminan BPKB Mobil | Web 1 | Jabodetabek\n",
      "campaign: Lebih Untung Dijaminkan Daripada Dijual ; Mix Photo Video ; New Conversion | Jaminan BPKB Mobil | Web 1 | Sumatera\n",
      "campaign: Dana Pendidikan Anak Aman ; Mix Photo Video ; New Conversion | Jaminan BPKB Mobil | Web 1\n",
      "campaign: Paket Reguler ; Single Image ; New Conversion | Jaminan BPKB Motor | Web 1 | Event Purchase | Jabodetabek\n",
      "campaign: Paket Langsung Cair (Lancar) Video ; Single Image & Video ; New Conversion | Jaminan BPKB Motor | Web 1 | Event Purchase\n",
      "campaign: Paket Langsung Cair (Lancar) Video ; Single Image & Video - Lookalike ; New Conversion | Jaminan BPKB Motor | Web 1 | Event Purchase\n",
      "campaign: Dana Pendidikan Anak Aman dengan Pinjaman Jaminan BPKB Mobil ; Mix Photo Video ; New Conversion | Jaminan BPKB Mobil | Web 1 | Jabodetabek\n",
      "campaign: Paket Lancar (Langsung Cair) ; Single Image & Video ; New Conversion | Jaminan BPKB Motor | Web 1 | Event Purchase\n",
      "campaign: Paket Lancar (Langsung Cair) ; Single Image & Video - Lookalike ; New Conversion | Jaminan BPKB Motor | Web 1 | Event Purchase\n",
      "campaign: Paket Reguler ; Single Image & Video ; New Conversion | Jaminan BPKB Motor | Web 1 | Event Purchase\n",
      "campaign: Paket Reguler ; Single Image & Video - Lookalike ; New Conversion | Jaminan BPKB Motor | Web 1 | Event Purchase\n",
      "campaign: Paket Reguler (Video) ; Single Image & Video ; New Conversion | Jaminan BPKB Motor | Web 1 | Event Purchase\n",
      "campaign: Paket Reguler (Video) ; Single Image & Video - Lookalike ; New Conversion | Jaminan BPKB Motor | Web 1 | Event Purchase\n",
      "campaign: Paket Lancar (Langsung Cair) ; Single Image ; New Conversion | Jaminan BPKB Motor | Web 1 | Event Purchase | Jabodetabek\n",
      "campaign: Paket Lancar (Langsung Cair) ; Single Image & Video - Lookalike ; New Conversion | Jaminan BPKB Motor | Web 1 | Event Purchase | Jabodetabek\n",
      "campaign: Paket Langsung Cair (Lancar) Video ; Single Image & Video - Lookalike ; New Conversion | Jaminan BPKB Motor | Web 1 | Event Purchase | Jabodetabek\n",
      "campaign: Paket Reguler ; Single Image & Video - Lookalike ; New Conversion | Jaminan BPKB Motor | Web 1 | Event Purchase | Jabodetabek\n",
      "campaign: Paket Reguler (Video) ; Single Image & Video - Lookalike ; New Conversion | Jaminan BPKB Motor | Web 1 | Event Purchase | Jabodetabek\n",
      "campaign: Pinjaman Jaminan Sertifikat Rumah di BFI Finance ; Mix Photo & Video ; BFI Finance | Conversion | Jaminan Sertifikat Rumah | Web 1 | Event Purchase\n",
      "campaign: Pinjaman Besar Jaminan Sertifikat Rumah ; Mix Photo & Video ; BFI Finance | Conversion | Jaminan Sertifikat Rumah | Web 1 | Event Purchase\n",
      "campaign: Pinjaman Besar Jaminan Sertifikat Rumah ; Mix Photo & Video ; BFI Finance | Conversion | Jaminan Sertifikat Rumah | Web 1 - Jabodetabek\n",
      "campaign: Pinjaman Besar Jaminan Sertifikat Rumah ; Remarketing ; BFI Finance | Conversion | Jaminan Sertifikat Rumah | Web 1 - Jabodetabek\n",
      "campaign: Pinjaman Besar Jaminan Sertifikat Rumah Video ; Mix Photo & Video ; BFI Finance | Conversion | Jaminan Sertifikat Rumah | Web 1 - Jabodetabek\n",
      "campaign: Pinjaman Jaminan Sertifikat Rumah di BFI Finance ; Mix Photo & Video ; BFI Finance | Conversion | Jaminan Sertifikat Rumah | Web 1 - Jabodetabek\n",
      "campaign: Pinjaman Jaminan Sertifikat Rumah di BFI Finance ; Remarketing ; BFI Finance | Conversion | Jaminan Sertifikat Rumah | Web 1 - Jabodetabek\n",
      "campaign: Pinjaman Jaminan Sertifikat Rumah di BFI Finance Video ; Mix Photo & Video ; BFI Finance | Conversion | Jaminan Sertifikat Rumah | Web 1 - Jabodetabek\n",
      "campaign: Pinjaman Besar Jaminan Sertifikat Rumah Video ; Mix Photo & Video ; BFI Finance | Conversion | Jaminan Sertifikat Rumah | Web 1 | Event Purchase\n",
      "campaign: Pinjaman Jaminan Sertifikat Rumah di BFI Finance Video ; Mix Photo & Video ; BFI Finance | Conversion | Jaminan Sertifikat Rumah | Web 1 | Event Purchase\n",
      "campaign: Paket Lancar (Langsung Cair) ; Single Image & Video ; New Conversion | Jaminan BPKB Motor | Web 1 | Event Purchase | Jabarteng\n",
      "campaign: Paket Lancar (Langsung Cair) ; Single Image & Video - Lookalike ; New Conversion | Jaminan BPKB Motor | Web 1 | Event Purchase | Jabarteng\n",
      "campaign: Paket Langsung Cair (Lancar) Video ; Single Image & Video ; New Conversion | Jaminan BPKB Motor | Web 1 | Event Purchase | Jabarteng\n",
      "campaign: Paket Langsung Cair (Lancar) Video ; Single Image & Video - Lookalike ; New Conversion | Jaminan BPKB Motor | Web 1 | Event Purchase | Jabarteng\n",
      "campaign: Paket Reguler ; Single Image & Video ; New Conversion | Jaminan BPKB Motor | Web 1 | Event Purchase | Jabarteng\n",
      "campaign: Paket Reguler ; Single Image & Video - Lookalike ; New Conversion | Jaminan BPKB Motor | Web 1 | Event Purchase | Jabarteng\n",
      "campaign: Paket Reguler (Video) ; Single Image & Video ; New Conversion | Jaminan BPKB Motor | Web 1 | Event Purchase | Jabarteng\n",
      "campaign: Paket Reguler (Video) ; Single Image & Video - Lookalike ; New Conversion | Jaminan BPKB Motor | Web 1 | Event Purchase | Jabarteng\n",
      "WAPE :  0.9994518428695307\n",
      "WBPE :  0.9994518428695307\n",
      "WCPE :  0.0005481571304692956\n"
     ]
    }
   ],
   "source": [
    "leads = list()\n",
    "for campaign in train_leads['campaign'].unique():\n",
    "    print('campaign:', campaign)\n",
    "    train_ = train_leads.loc[train_leads['campaign'] == campaign]\n",
    "    valid_ = valid_leads.loc[valid_leads['campaign'] == campaign]\n",
    "    train_['y'] = train_.iloc[-2:, train_.columns.get_loc('y')].fillna(0)\n",
    "    \n",
    "    m = Prophet(seasonality_mode='additive', yearly_seasonality=False, \n",
    "                weekly_seasonality=True, daily_seasonality=True\n",
    "               )\n",
    "    m.fit(train_)\n",
    "    \n",
    "    future = m.make_future_dataframe(periods=60, include_history=False)\n",
    "    future = future.merge(valid_[['ds']], on='ds', how='left')\n",
    "    forecast = m.predict(future)\n",
    "    forecast['campaign'] = campaign\n",
    "    leads.append(forecast[['ds', 'yhat', 'campaign']])\n",
    "    \n",
    "leads = pd.concat(leads, ignore_index=True)\n",
    "leads['yhat'] = leads['yhat'].clip(lower=0)\n",
    "leads = leads.merge(valid_leads, on=['ds', 'campaign'], how='left')\n",
    "print(\"WAPE : \" , wape(leads['y'], leads['yhat']))\n",
    "print(\"WBPE : \" , wbpe(leads['y'], leads['yhat']))\n",
    "print(\"WCPE : \" , wcpe(wape(leads['y'], leads['yhat']), wbpe(leads['y'], leads['yhat']),2))"
   ]
  },
  {
   "cell_type": "code",
   "execution_count": 28,
   "metadata": {},
   "outputs": [
    {
     "name": "stdout",
     "output_type": "stream",
     "text": [
      "campaign: Lebih Untung Dijaminkan Daripada Dijual ; Mix Photo Video ; New Conversion | Jaminan BPKB Mobil | Web 1 | Jabodetabek\n",
      "campaign: Pilihan Tepat Dapatkan Pinjaman Cepat ; Mix Photo Video ; New Conversion | Jaminan BPKB Mobil | Web 1 | Sumatera\n",
      "campaign: Lebih Untung Dijaminkan Daripada Dijual ; Mix Photo Video ; New Conversion | Jaminan BPKB Mobil | Web 1\n"
     ]
    },
    {
     "name": "stderr",
     "output_type": "stream",
     "text": [
      "17:00:11 - cmdstanpy - INFO - Chain [1] start processing\n",
      "17:00:11 - cmdstanpy - INFO - Chain [1] done processing\n"
     ]
    },
    {
     "name": "stdout",
     "output_type": "stream",
     "text": [
      "campaign: Pilihan Tepat Dapatkan Pinjaman Cepat ; Mix Photo Video ; New Conversion | Jaminan BPKB Mobil | Web 1\n",
      "campaign: Pilihan Tepat Dapatkan Pinjaman Cepat ; Mix Photo Video ; New Conversion | Jaminan BPKB Mobil | Web 1 | Jabodetabek\n",
      "campaign: Lebih Untung Dijaminkan Daripada Dijual ; Mix Photo Video ; New Conversion | Jaminan BPKB Mobil | Web 1 | Sumatera\n",
      "campaign: Dana Pendidikan Anak Aman ; Mix Photo Video ; New Conversion | Jaminan BPKB Mobil | Web 1\n",
      "campaign: Paket Reguler ; Single Image ; New Conversion | Jaminan BPKB Motor | Web 1 | Event Purchase | Jabodetabek\n",
      "campaign: Paket Langsung Cair (Lancar) Video ; Single Image & Video ; New Conversion | Jaminan BPKB Motor | Web 1 | Event Purchase\n",
      "campaign: Paket Langsung Cair (Lancar) Video ; Single Image & Video - Lookalike ; New Conversion | Jaminan BPKB Motor | Web 1 | Event Purchase\n",
      "campaign: Dana Pendidikan Anak Aman dengan Pinjaman Jaminan BPKB Mobil ; Mix Photo Video ; New Conversion | Jaminan BPKB Mobil | Web 1 | Jabodetabek\n",
      "campaign: Paket Lancar (Langsung Cair) ; Single Image & Video ; New Conversion | Jaminan BPKB Motor | Web 1 | Event Purchase\n",
      "campaign: Paket Lancar (Langsung Cair) ; Single Image & Video - Lookalike ; New Conversion | Jaminan BPKB Motor | Web 1 | Event Purchase\n",
      "campaign: Paket Reguler ; Single Image & Video ; New Conversion | Jaminan BPKB Motor | Web 1 | Event Purchase\n",
      "campaign: Paket Reguler ; Single Image & Video - Lookalike ; New Conversion | Jaminan BPKB Motor | Web 1 | Event Purchase\n",
      "campaign: Paket Reguler (Video) ; Single Image & Video ; New Conversion | Jaminan BPKB Motor | Web 1 | Event Purchase\n",
      "campaign: Paket Reguler (Video) ; Single Image & Video - Lookalike ; New Conversion | Jaminan BPKB Motor | Web 1 | Event Purchase\n",
      "campaign: Paket Lancar (Langsung Cair) ; Single Image ; New Conversion | Jaminan BPKB Motor | Web 1 | Event Purchase | Jabodetabek\n",
      "campaign: Paket Lancar (Langsung Cair) ; Single Image & Video - Lookalike ; New Conversion | Jaminan BPKB Motor | Web 1 | Event Purchase | Jabodetabek\n",
      "campaign: Paket Langsung Cair (Lancar) Video ; Single Image & Video - Lookalike ; New Conversion | Jaminan BPKB Motor | Web 1 | Event Purchase | Jabodetabek\n",
      "campaign: Paket Reguler ; Single Image & Video - Lookalike ; New Conversion | Jaminan BPKB Motor | Web 1 | Event Purchase | Jabodetabek\n",
      "campaign: Paket Reguler (Video) ; Single Image & Video - Lookalike ; New Conversion | Jaminan BPKB Motor | Web 1 | Event Purchase | Jabodetabek\n",
      "campaign: Pinjaman Jaminan Sertifikat Rumah di BFI Finance ; Mix Photo & Video ; BFI Finance | Conversion | Jaminan Sertifikat Rumah | Web 1 | Event Purchase\n",
      "campaign: Pinjaman Besar Jaminan Sertifikat Rumah ; Mix Photo & Video ; BFI Finance | Conversion | Jaminan Sertifikat Rumah | Web 1 | Event Purchase\n",
      "campaign: Pinjaman Besar Jaminan Sertifikat Rumah ; Mix Photo & Video ; BFI Finance | Conversion | Jaminan Sertifikat Rumah | Web 1 - Jabodetabek\n",
      "campaign: Pinjaman Besar Jaminan Sertifikat Rumah ; Remarketing ; BFI Finance | Conversion | Jaminan Sertifikat Rumah | Web 1 - Jabodetabek\n",
      "campaign: Pinjaman Besar Jaminan Sertifikat Rumah Video ; Mix Photo & Video ; BFI Finance | Conversion | Jaminan Sertifikat Rumah | Web 1 - Jabodetabek\n",
      "campaign: Pinjaman Jaminan Sertifikat Rumah di BFI Finance ; Mix Photo & Video ; BFI Finance | Conversion | Jaminan Sertifikat Rumah | Web 1 - Jabodetabek\n",
      "campaign: Pinjaman Jaminan Sertifikat Rumah di BFI Finance ; Remarketing ; BFI Finance | Conversion | Jaminan Sertifikat Rumah | Web 1 - Jabodetabek\n",
      "campaign: Pinjaman Jaminan Sertifikat Rumah di BFI Finance Video ; Mix Photo & Video ; BFI Finance | Conversion | Jaminan Sertifikat Rumah | Web 1 - Jabodetabek\n",
      "campaign: Pinjaman Besar Jaminan Sertifikat Rumah Video ; Mix Photo & Video ; BFI Finance | Conversion | Jaminan Sertifikat Rumah | Web 1 | Event Purchase\n",
      "campaign: Pinjaman Jaminan Sertifikat Rumah di BFI Finance Video ; Mix Photo & Video ; BFI Finance | Conversion | Jaminan Sertifikat Rumah | Web 1 | Event Purchase\n",
      "campaign: Paket Lancar (Langsung Cair) ; Single Image & Video ; New Conversion | Jaminan BPKB Motor | Web 1 | Event Purchase | Jabarteng\n",
      "campaign: Paket Lancar (Langsung Cair) ; Single Image & Video - Lookalike ; New Conversion | Jaminan BPKB Motor | Web 1 | Event Purchase | Jabarteng\n",
      "campaign: Paket Langsung Cair (Lancar) Video ; Single Image & Video ; New Conversion | Jaminan BPKB Motor | Web 1 | Event Purchase | Jabarteng\n",
      "campaign: Paket Langsung Cair (Lancar) Video ; Single Image & Video - Lookalike ; New Conversion | Jaminan BPKB Motor | Web 1 | Event Purchase | Jabarteng\n",
      "campaign: Paket Reguler ; Single Image & Video ; New Conversion | Jaminan BPKB Motor | Web 1 | Event Purchase | Jabarteng\n",
      "campaign: Paket Reguler ; Single Image & Video - Lookalike ; New Conversion | Jaminan BPKB Motor | Web 1 | Event Purchase | Jabarteng\n",
      "campaign: Paket Reguler (Video) ; Single Image & Video ; New Conversion | Jaminan BPKB Motor | Web 1 | Event Purchase | Jabarteng\n",
      "campaign: Paket Reguler (Video) ; Single Image & Video - Lookalike ; New Conversion | Jaminan BPKB Motor | Web 1 | Event Purchase | Jabarteng\n",
      "WAPE :  nan\n",
      "WBPE :  nan\n",
      "WCPE :  nan\n"
     ]
    }
   ],
   "source": [
    "prospect = list()\n",
    "for campaign in train_prospect['campaign'].unique():\n",
    "    print('campaign:', campaign)\n",
    "    train_ = train_prospect.loc[train_prospect['campaign'] == campaign]\n",
    "    valid_ = valid_prospect.loc[valid_prospect['campaign'] == campaign]\n",
    "    train_['y'] = train_.iloc[-2:, train_.columns.get_loc('y')].fillna(0)\n",
    "    \n",
    "    m = Prophet(seasonality_mode='additive', yearly_seasonality=False, \n",
    "                weekly_seasonality=True, daily_seasonality=True\n",
    "               )\n",
    "    m.fit(train_)\n",
    "    \n",
    "    future = m.make_future_dataframe(periods=60, include_history=False)\n",
    "    future = future.merge(valid_[['ds']], on='ds', how='left')\n",
    "    forecast = m.predict(future)\n",
    "    forecast['campaign'] = campaign\n",
    "    prospect.append(forecast[['ds', 'yhat', 'campaign']])\n",
    "    \n",
    "prospect = pd.concat(prospect, ignore_index=True)\n",
    "prospect['yhat'] = prospect['yhat'].clip(lower=0)\n",
    "prospect = prospect.merge(valid_prospect, on=['ds', 'campaign'], how='left')\n",
    "print(\"WAPE : \" , wape(prospect['y'], prospect['yhat']))\n",
    "print(\"WBPE : \" , wbpe(prospect['y'], prospect['yhat']))\n",
    "print(\"WCPE : \" , wcpe(wape(prospect['y'], prospect['yhat']), wbpe(prospect['y'], prospect['yhat']),2))"
   ]
  },
  {
   "cell_type": "code",
   "execution_count": 29,
   "metadata": {},
   "outputs": [
    {
     "name": "stdout",
     "output_type": "stream",
     "text": [
      "campaign: Lebih Untung Dijaminkan Daripada Dijual ; Mix Photo Video ; New Conversion | Jaminan BPKB Mobil | Web 1 | Jabodetabek\n",
      "campaign: Pilihan Tepat Dapatkan Pinjaman Cepat ; Mix Photo Video ; New Conversion | Jaminan BPKB Mobil | Web 1 | Sumatera\n",
      "campaign: Lebih Untung Dijaminkan Daripada Dijual ; Mix Photo Video ; New Conversion | Jaminan BPKB Mobil | Web 1\n",
      "campaign: Pilihan Tepat Dapatkan Pinjaman Cepat ; Mix Photo Video ; New Conversion | Jaminan BPKB Mobil | Web 1\n",
      "campaign: Pilihan Tepat Dapatkan Pinjaman Cepat ; Mix Photo Video ; New Conversion | Jaminan BPKB Mobil | Web 1 | Jabodetabek\n",
      "campaign: Lebih Untung Dijaminkan Daripada Dijual ; Mix Photo Video ; New Conversion | Jaminan BPKB Mobil | Web 1 | Sumatera\n",
      "campaign: Dana Pendidikan Anak Aman ; Mix Photo Video ; New Conversion | Jaminan BPKB Mobil | Web 1\n",
      "campaign: Paket Reguler ; Single Image ; New Conversion | Jaminan BPKB Motor | Web 1 | Event Purchase | Jabodetabek\n",
      "campaign: Paket Langsung Cair (Lancar) Video ; Single Image & Video ; New Conversion | Jaminan BPKB Motor | Web 1 | Event Purchase\n",
      "campaign: Paket Langsung Cair (Lancar) Video ; Single Image & Video - Lookalike ; New Conversion | Jaminan BPKB Motor | Web 1 | Event Purchase\n",
      "campaign: Dana Pendidikan Anak Aman dengan Pinjaman Jaminan BPKB Mobil ; Mix Photo Video ; New Conversion | Jaminan BPKB Mobil | Web 1 | Jabodetabek\n",
      "campaign: Paket Lancar (Langsung Cair) ; Single Image & Video ; New Conversion | Jaminan BPKB Motor | Web 1 | Event Purchase\n",
      "campaign: Paket Lancar (Langsung Cair) ; Single Image & Video - Lookalike ; New Conversion | Jaminan BPKB Motor | Web 1 | Event Purchase\n",
      "campaign: Paket Reguler ; Single Image & Video ; New Conversion | Jaminan BPKB Motor | Web 1 | Event Purchase\n",
      "campaign: Paket Reguler ; Single Image & Video - Lookalike ; New Conversion | Jaminan BPKB Motor | Web 1 | Event Purchase\n",
      "campaign: Paket Reguler (Video) ; Single Image & Video ; New Conversion | Jaminan BPKB Motor | Web 1 | Event Purchase\n",
      "campaign: Paket Reguler (Video) ; Single Image & Video - Lookalike ; New Conversion | Jaminan BPKB Motor | Web 1 | Event Purchase\n",
      "campaign: Paket Lancar (Langsung Cair) ; Single Image ; New Conversion | Jaminan BPKB Motor | Web 1 | Event Purchase | Jabodetabek\n",
      "campaign: Paket Lancar (Langsung Cair) ; Single Image & Video - Lookalike ; New Conversion | Jaminan BPKB Motor | Web 1 | Event Purchase | Jabodetabek\n",
      "campaign: Paket Langsung Cair (Lancar) Video ; Single Image & Video - Lookalike ; New Conversion | Jaminan BPKB Motor | Web 1 | Event Purchase | Jabodetabek\n",
      "campaign: Paket Reguler ; Single Image & Video - Lookalike ; New Conversion | Jaminan BPKB Motor | Web 1 | Event Purchase | Jabodetabek\n",
      "campaign: Paket Reguler (Video) ; Single Image & Video - Lookalike ; New Conversion | Jaminan BPKB Motor | Web 1 | Event Purchase | Jabodetabek\n",
      "campaign: Pinjaman Jaminan Sertifikat Rumah di BFI Finance ; Mix Photo & Video ; BFI Finance | Conversion | Jaminan Sertifikat Rumah | Web 1 | Event Purchase\n",
      "campaign: Pinjaman Besar Jaminan Sertifikat Rumah ; Mix Photo & Video ; BFI Finance | Conversion | Jaminan Sertifikat Rumah | Web 1 | Event Purchase\n",
      "campaign: Pinjaman Besar Jaminan Sertifikat Rumah ; Mix Photo & Video ; BFI Finance | Conversion | Jaminan Sertifikat Rumah | Web 1 - Jabodetabek\n",
      "campaign: Pinjaman Besar Jaminan Sertifikat Rumah ; Remarketing ; BFI Finance | Conversion | Jaminan Sertifikat Rumah | Web 1 - Jabodetabek\n",
      "campaign: Pinjaman Besar Jaminan Sertifikat Rumah Video ; Mix Photo & Video ; BFI Finance | Conversion | Jaminan Sertifikat Rumah | Web 1 - Jabodetabek\n",
      "campaign: Pinjaman Jaminan Sertifikat Rumah di BFI Finance ; Mix Photo & Video ; BFI Finance | Conversion | Jaminan Sertifikat Rumah | Web 1 - Jabodetabek\n",
      "campaign: Pinjaman Jaminan Sertifikat Rumah di BFI Finance ; Remarketing ; BFI Finance | Conversion | Jaminan Sertifikat Rumah | Web 1 - Jabodetabek\n",
      "campaign: Pinjaman Jaminan Sertifikat Rumah di BFI Finance Video ; Mix Photo & Video ; BFI Finance | Conversion | Jaminan Sertifikat Rumah | Web 1 - Jabodetabek\n",
      "campaign: Pinjaman Besar Jaminan Sertifikat Rumah Video ; Mix Photo & Video ; BFI Finance | Conversion | Jaminan Sertifikat Rumah | Web 1 | Event Purchase\n",
      "campaign: Pinjaman Jaminan Sertifikat Rumah di BFI Finance Video ; Mix Photo & Video ; BFI Finance | Conversion | Jaminan Sertifikat Rumah | Web 1 | Event Purchase\n",
      "campaign: Paket Lancar (Langsung Cair) ; Single Image & Video ; New Conversion | Jaminan BPKB Motor | Web 1 | Event Purchase | Jabarteng\n",
      "campaign: Paket Lancar (Langsung Cair) ; Single Image & Video - Lookalike ; New Conversion | Jaminan BPKB Motor | Web 1 | Event Purchase | Jabarteng\n",
      "campaign: Paket Langsung Cair (Lancar) Video ; Single Image & Video ; New Conversion | Jaminan BPKB Motor | Web 1 | Event Purchase | Jabarteng\n",
      "campaign: Paket Langsung Cair (Lancar) Video ; Single Image & Video - Lookalike ; New Conversion | Jaminan BPKB Motor | Web 1 | Event Purchase | Jabarteng\n",
      "campaign: Paket Reguler ; Single Image & Video ; New Conversion | Jaminan BPKB Motor | Web 1 | Event Purchase | Jabarteng\n",
      "campaign: Paket Reguler ; Single Image & Video - Lookalike ; New Conversion | Jaminan BPKB Motor | Web 1 | Event Purchase | Jabarteng\n",
      "campaign: Paket Reguler (Video) ; Single Image & Video ; New Conversion | Jaminan BPKB Motor | Web 1 | Event Purchase | Jabarteng\n",
      "campaign: Paket Reguler (Video) ; Single Image & Video - Lookalike ; New Conversion | Jaminan BPKB Motor | Web 1 | Event Purchase | Jabarteng\n",
      "WAPE :  nan\n",
      "WBPE :  nan\n",
      "WCPE :  nan\n"
     ]
    }
   ],
   "source": [
    "funding = list()\n",
    "for campaign in train_funding['campaign'].unique():\n",
    "    print('campaign:', campaign)\n",
    "    train_ = train_funding.loc[train_funding['campaign'] == campaign]\n",
    "    valid_ = valid_funding.loc[valid_funding['campaign'] == campaign]\n",
    "    train_['y'] = train_.iloc[-2:, train_.columns.get_loc('y')].fillna(0)\n",
    "\n",
    "    m = Prophet(seasonality_mode='additive', yearly_seasonality=False, \n",
    "                weekly_seasonality=True, daily_seasonality=True\n",
    "               )\n",
    "    m.fit(train_)\n",
    "    \n",
    "    future = m.make_future_dataframe(periods=60, include_history=False)\n",
    "    future = future.merge(valid_[['ds']], on='ds', how='left')\n",
    "    forecast = m.predict(future)\n",
    "    forecast['campaign'] = campaign\n",
    "    funding.append(forecast[['ds', 'yhat', 'campaign']])\n",
    "    \n",
    "funding = pd.concat(funding, ignore_index=True)\n",
    "funding['yhat'] = funding['yhat'].clip(lower=0)\n",
    "funding = funding.merge(valid_funding, on=['ds', 'campaign'], how='left')\n",
    "print(\"WAPE : \" , wape(funding['y'], funding['yhat']))\n",
    "print(\"WBPE : \" , wbpe(funding['y'], funding['yhat']))\n",
    "print(\"WCPE : \" , wcpe(wape(funding['y'], funding['yhat']), wbpe(funding['y'], funding['yhat']),2))"
   ]
  },
  {
   "cell_type": "code",
   "execution_count": 30,
   "metadata": {},
   "outputs": [
    {
     "name": "stdout",
     "output_type": "stream",
     "text": [
      "campaign: Lebih Untung Dijaminkan Daripada Dijual ; Mix Photo Video ; New Conversion | Jaminan BPKB Mobil | Web 1 | Jabodetabek\n",
      "campaign: Pilihan Tepat Dapatkan Pinjaman Cepat ; Mix Photo Video ; New Conversion | Jaminan BPKB Mobil | Web 1 | Sumatera\n",
      "campaign: Lebih Untung Dijaminkan Daripada Dijual ; Mix Photo Video ; New Conversion | Jaminan BPKB Mobil | Web 1\n",
      "campaign: Pilihan Tepat Dapatkan Pinjaman Cepat ; Mix Photo Video ; New Conversion | Jaminan BPKB Mobil | Web 1\n",
      "campaign: Pilihan Tepat Dapatkan Pinjaman Cepat ; Mix Photo Video ; New Conversion | Jaminan BPKB Mobil | Web 1 | Jabodetabek\n",
      "campaign: Lebih Untung Dijaminkan Daripada Dijual ; Mix Photo Video ; New Conversion | Jaminan BPKB Mobil | Web 1 | Sumatera\n",
      "campaign: Dana Pendidikan Anak Aman ; Mix Photo Video ; New Conversion | Jaminan BPKB Mobil | Web 1\n",
      "campaign: Paket Reguler ; Single Image ; New Conversion | Jaminan BPKB Motor | Web 1 | Event Purchase | Jabodetabek\n",
      "campaign: Paket Langsung Cair (Lancar) Video ; Single Image & Video ; New Conversion | Jaminan BPKB Motor | Web 1 | Event Purchase\n",
      "campaign: Paket Langsung Cair (Lancar) Video ; Single Image & Video - Lookalike ; New Conversion | Jaminan BPKB Motor | Web 1 | Event Purchase\n",
      "campaign: Dana Pendidikan Anak Aman dengan Pinjaman Jaminan BPKB Mobil ; Mix Photo Video ; New Conversion | Jaminan BPKB Mobil | Web 1 | Jabodetabek\n",
      "campaign: Paket Lancar (Langsung Cair) ; Single Image & Video ; New Conversion | Jaminan BPKB Motor | Web 1 | Event Purchase\n",
      "campaign: Paket Lancar (Langsung Cair) ; Single Image & Video - Lookalike ; New Conversion | Jaminan BPKB Motor | Web 1 | Event Purchase\n",
      "campaign: Paket Reguler ; Single Image & Video ; New Conversion | Jaminan BPKB Motor | Web 1 | Event Purchase\n",
      "campaign: Paket Reguler ; Single Image & Video - Lookalike ; New Conversion | Jaminan BPKB Motor | Web 1 | Event Purchase\n",
      "campaign: Paket Reguler (Video) ; Single Image & Video ; New Conversion | Jaminan BPKB Motor | Web 1 | Event Purchase\n",
      "campaign: Paket Reguler (Video) ; Single Image & Video - Lookalike ; New Conversion | Jaminan BPKB Motor | Web 1 | Event Purchase\n",
      "campaign: Paket Lancar (Langsung Cair) ; Single Image ; New Conversion | Jaminan BPKB Motor | Web 1 | Event Purchase | Jabodetabek\n",
      "campaign: Paket Lancar (Langsung Cair) ; Single Image & Video - Lookalike ; New Conversion | Jaminan BPKB Motor | Web 1 | Event Purchase | Jabodetabek\n",
      "campaign: Paket Langsung Cair (Lancar) Video ; Single Image & Video - Lookalike ; New Conversion | Jaminan BPKB Motor | Web 1 | Event Purchase | Jabodetabek\n",
      "campaign: Paket Reguler ; Single Image & Video - Lookalike ; New Conversion | Jaminan BPKB Motor | Web 1 | Event Purchase | Jabodetabek\n",
      "campaign: Paket Reguler (Video) ; Single Image & Video - Lookalike ; New Conversion | Jaminan BPKB Motor | Web 1 | Event Purchase | Jabodetabek\n",
      "campaign: Pinjaman Jaminan Sertifikat Rumah di BFI Finance ; Mix Photo & Video ; BFI Finance | Conversion | Jaminan Sertifikat Rumah | Web 1 | Event Purchase\n",
      "campaign: Pinjaman Besar Jaminan Sertifikat Rumah ; Mix Photo & Video ; BFI Finance | Conversion | Jaminan Sertifikat Rumah | Web 1 | Event Purchase\n",
      "campaign: Pinjaman Besar Jaminan Sertifikat Rumah ; Mix Photo & Video ; BFI Finance | Conversion | Jaminan Sertifikat Rumah | Web 1 - Jabodetabek\n",
      "campaign: Pinjaman Besar Jaminan Sertifikat Rumah ; Remarketing ; BFI Finance | Conversion | Jaminan Sertifikat Rumah | Web 1 - Jabodetabek\n",
      "campaign: Pinjaman Besar Jaminan Sertifikat Rumah Video ; Mix Photo & Video ; BFI Finance | Conversion | Jaminan Sertifikat Rumah | Web 1 - Jabodetabek\n",
      "campaign: Pinjaman Jaminan Sertifikat Rumah di BFI Finance ; Mix Photo & Video ; BFI Finance | Conversion | Jaminan Sertifikat Rumah | Web 1 - Jabodetabek\n",
      "campaign: Pinjaman Jaminan Sertifikat Rumah di BFI Finance ; Remarketing ; BFI Finance | Conversion | Jaminan Sertifikat Rumah | Web 1 - Jabodetabek\n",
      "campaign: Pinjaman Jaminan Sertifikat Rumah di BFI Finance Video ; Mix Photo & Video ; BFI Finance | Conversion | Jaminan Sertifikat Rumah | Web 1 - Jabodetabek\n",
      "campaign: Pinjaman Besar Jaminan Sertifikat Rumah Video ; Mix Photo & Video ; BFI Finance | Conversion | Jaminan Sertifikat Rumah | Web 1 | Event Purchase\n",
      "campaign: Pinjaman Jaminan Sertifikat Rumah di BFI Finance Video ; Mix Photo & Video ; BFI Finance | Conversion | Jaminan Sertifikat Rumah | Web 1 | Event Purchase\n",
      "campaign: Paket Lancar (Langsung Cair) ; Single Image & Video ; New Conversion | Jaminan BPKB Motor | Web 1 | Event Purchase | Jabarteng\n",
      "campaign: Paket Lancar (Langsung Cair) ; Single Image & Video - Lookalike ; New Conversion | Jaminan BPKB Motor | Web 1 | Event Purchase | Jabarteng\n",
      "campaign: Paket Langsung Cair (Lancar) Video ; Single Image & Video ; New Conversion | Jaminan BPKB Motor | Web 1 | Event Purchase | Jabarteng\n",
      "campaign: Paket Langsung Cair (Lancar) Video ; Single Image & Video - Lookalike ; New Conversion | Jaminan BPKB Motor | Web 1 | Event Purchase | Jabarteng\n",
      "campaign: Paket Reguler ; Single Image & Video ; New Conversion | Jaminan BPKB Motor | Web 1 | Event Purchase | Jabarteng\n",
      "campaign: Paket Reguler ; Single Image & Video - Lookalike ; New Conversion | Jaminan BPKB Motor | Web 1 | Event Purchase | Jabarteng\n",
      "campaign: Paket Reguler (Video) ; Single Image & Video ; New Conversion | Jaminan BPKB Motor | Web 1 | Event Purchase | Jabarteng\n",
      "campaign: Paket Reguler (Video) ; Single Image & Video - Lookalike ; New Conversion | Jaminan BPKB Motor | Web 1 | Event Purchase | Jabarteng\n",
      "WAPE :  nan\n",
      "WBPE :  nan\n",
      "WCPE :  nan\n"
     ]
    }
   ],
   "source": [
    "NTF = list()\n",
    "for campaign in train_NTF['campaign'].unique():\n",
    "    print('campaign:', campaign)\n",
    "    train_ = train_NTF.loc[train_NTF['campaign'] == campaign]\n",
    "    valid_ = valid_NTF.loc[valid_NTF['campaign'] == campaign]\n",
    "    train_['y'] = train_.iloc[-2:, train_.columns.get_loc('y')].fillna(0)\n",
    "    \n",
    "    m = Prophet(seasonality_mode='additive', yearly_seasonality=False, \n",
    "                weekly_seasonality=True, daily_seasonality=True\n",
    "               )\n",
    "    m.fit(train_)\n",
    "    \n",
    "    future = m.make_future_dataframe(periods=60, include_history=False)\n",
    "    future = future.merge(valid_[['ds']], on='ds', how='left')\n",
    "    forecast = m.predict(future)\n",
    "    forecast['campaign'] = campaign\n",
    "    NTF.append(forecast[['ds', 'yhat', 'campaign']])\n",
    "    \n",
    "NTF = pd.concat(NTF, ignore_index=True)\n",
    "NTF['yhat'] = NTF['yhat'].clip(lower=0)\n",
    "NTF = NTF.merge(valid_NTF, on=['ds', 'campaign'], how='left')\n",
    "print(\"WAPE : \" , wape(NTF['y'], NTF['yhat']))\n",
    "print(\"WBPE : \" , wbpe(NTF['y'], NTF['yhat']))\n",
    "print(\"WCPE : \" , wcpe(wape(NTF['y'], NTF['yhat']), wbpe(NTF['y'], NTF['yhat']),2))\n"
   ]
  },
  {
   "cell_type": "code",
   "execution_count": 31,
   "metadata": {},
   "outputs": [],
   "source": [
    "hist_click = train_click.loc[train_click['ds'].dt.date >= days_ago_60]\n",
    "result_click = pd.concat([hist_click, click], ignore_index=True)\n",
    "hist_cost = train_cost.loc[train_cost['ds'].dt.date >= days_ago_60]\n",
    "result_cost = pd.concat([hist_cost, cost], ignore_index=True)\n",
    "hist_leads = train_leads.loc[train_leads['ds'].dt.date >= days_ago_60]\n",
    "result_leads = pd.concat([hist_leads, leads], ignore_index=True)\n",
    "hist_prospect = train_prospect.loc[train_prospect['ds'].dt.date >= days_ago_60]\n",
    "result_prospect = pd.concat([hist_prospect, prospect], ignore_index=True)\n",
    "hist_funding = train_funding.loc[train_funding['ds'].dt.date >= days_ago_60]\n",
    "result_funding = pd.concat([hist_funding, funding], ignore_index=True)\n",
    "hist_NTF = train_NTF.loc[train_NTF['ds'].dt.date >= days_ago_60]\n",
    "result_NTF = pd.concat([hist_NTF, NTF], ignore_index=True)"
   ]
  },
  {
   "cell_type": "code",
   "execution_count": 32,
   "metadata": {},
   "outputs": [
    {
     "name": "stdout",
     "output_type": "stream",
     "text": [
      "campaign: Lebih Untung Dijaminkan Daripada Dijual ; Mix Photo Video ; New Conversion | Jaminan BPKB Mobil | Web 1\n",
      "campaign: Pilihan Tepat Dapatkan Pinjaman Cepat ; Mix Photo Video ; New Conversion | Jaminan BPKB Mobil | Web 1\n",
      "campaign: Lebih Untung Dijaminkan Daripada Dijual ; Mix Photo Video ; New Conversion | Jaminan BPKB Mobil | Web 1 | Jabodetabek\n",
      "campaign: Pilihan Tepat Dapatkan Pinjaman Cepat ; Mix Photo Video ; New Conversion | Jaminan BPKB Mobil | Web 1 | Jabodetabek\n",
      "campaign: Dana Pendidikan Anak Aman ; Mix Photo Video ; New Conversion | Jaminan BPKB Mobil | Web 1\n",
      "campaign: Pinjaman Besar Jaminan Sertifikat Rumah ; Mix Photo & Video ; BFI Finance | Conversion | Jaminan Sertifikat Rumah | Web 1 | Event Purchase\n",
      "campaign: Pinjaman Jaminan Sertifikat Rumah di BFI Finance ; Mix Photo & Video ; BFI Finance | Conversion | Jaminan Sertifikat Rumah | Web 1 | Event Purchase\n",
      "campaign: Dana Pendidikan Anak Aman dengan Pinjaman Jaminan BPKB Mobil ; Mix Photo Video ; New Conversion | Jaminan BPKB Mobil | Web 1 | Jabodetabek\n",
      "campaign: Paket Lancar (Langsung Cair) ; Single Image & Video ; New Conversion | Jaminan BPKB Motor | Web 1 | Event Purchase\n",
      "campaign: Paket Lancar (Langsung Cair) ; Single Image & Video - Lookalike ; New Conversion | Jaminan BPKB Motor | Web 1 | Event Purchase\n",
      "campaign: Paket Langsung Cair (Lancar) Video ; Single Image & Video ; New Conversion | Jaminan BPKB Motor | Web 1 | Event Purchase\n",
      "campaign: Paket Langsung Cair (Lancar) Video ; Single Image & Video - Lookalike ; New Conversion | Jaminan BPKB Motor | Web 1 | Event Purchase\n",
      "campaign: Paket Reguler ; Single Image & Video ; New Conversion | Jaminan BPKB Motor | Web 1 | Event Purchase\n",
      "campaign: Paket Reguler ; Single Image & Video - Lookalike ; New Conversion | Jaminan BPKB Motor | Web 1 | Event Purchase\n",
      "campaign: Paket Reguler (Video) ; Single Image & Video ; New Conversion | Jaminan BPKB Motor | Web 1 | Event Purchase\n",
      "campaign: Paket Reguler (Video) ; Single Image & Video - Lookalike ; New Conversion | Jaminan BPKB Motor | Web 1 | Event Purchase\n",
      "campaign: Paket Lancar (Langsung Cair) ; Single Image ; New Conversion | Jaminan BPKB Motor | Web 1 | Event Purchase | Jabodetabek\n",
      "campaign: Paket Lancar (Langsung Cair) ; Single Image & Video - Lookalike ; New Conversion | Jaminan BPKB Motor | Web 1 | Event Purchase | Jabodetabek\n",
      "campaign: Paket Langsung Cair (Lancar) Video ; Single Image & Video - Lookalike ; New Conversion | Jaminan BPKB Motor | Web 1 | Event Purchase | Jabodetabek\n",
      "campaign: Paket Reguler ; Single Image ; New Conversion | Jaminan BPKB Motor | Web 1 | Event Purchase | Jabodetabek\n",
      "campaign: Paket Reguler ; Single Image & Video - Lookalike ; New Conversion | Jaminan BPKB Motor | Web 1 | Event Purchase | Jabodetabek\n",
      "campaign: Paket Reguler (Video) ; Single Image & Video - Lookalike ; New Conversion | Jaminan BPKB Motor | Web 1 | Event Purchase | Jabodetabek\n",
      "campaign: Pinjaman Besar Jaminan Sertifikat Rumah ; Mix Photo & Video ; BFI Finance | Conversion | Jaminan Sertifikat Rumah | Web 1 - Jabodetabek\n",
      "campaign: Pinjaman Besar Jaminan Sertifikat Rumah ; Remarketing ; BFI Finance | Conversion | Jaminan Sertifikat Rumah | Web 1 - Jabodetabek\n",
      "campaign: Pinjaman Besar Jaminan Sertifikat Rumah Video ; Mix Photo & Video ; BFI Finance | Conversion | Jaminan Sertifikat Rumah | Web 1 - Jabodetabek\n",
      "campaign: Pinjaman Jaminan Sertifikat Rumah di BFI Finance ; Mix Photo & Video ; BFI Finance | Conversion | Jaminan Sertifikat Rumah | Web 1 - Jabodetabek\n",
      "campaign: Pinjaman Jaminan Sertifikat Rumah di BFI Finance ; Remarketing ; BFI Finance | Conversion | Jaminan Sertifikat Rumah | Web 1 - Jabodetabek\n",
      "campaign: Pinjaman Jaminan Sertifikat Rumah di BFI Finance Video ; Mix Photo & Video ; BFI Finance | Conversion | Jaminan Sertifikat Rumah | Web 1 - Jabodetabek\n",
      "campaign: Pinjaman Besar Jaminan Sertifikat Rumah Video ; Mix Photo & Video ; BFI Finance | Conversion | Jaminan Sertifikat Rumah | Web 1 | Event Purchase\n",
      "campaign: Pinjaman Jaminan Sertifikat Rumah di BFI Finance Video ; Mix Photo & Video ; BFI Finance | Conversion | Jaminan Sertifikat Rumah | Web 1 | Event Purchase\n",
      "campaign: Paket Lancar (Langsung Cair) ; Single Image & Video ; New Conversion | Jaminan BPKB Motor | Web 1 | Event Purchase | Jabarteng\n",
      "campaign: Paket Lancar (Langsung Cair) ; Single Image & Video - Lookalike ; New Conversion | Jaminan BPKB Motor | Web 1 | Event Purchase | Jabarteng\n",
      "campaign: Paket Langsung Cair (Lancar) Video ; Single Image & Video ; New Conversion | Jaminan BPKB Motor | Web 1 | Event Purchase | Jabarteng\n",
      "campaign: Paket Langsung Cair (Lancar) Video ; Single Image & Video - Lookalike ; New Conversion | Jaminan BPKB Motor | Web 1 | Event Purchase | Jabarteng\n",
      "campaign: Paket Reguler ; Single Image & Video ; New Conversion | Jaminan BPKB Motor | Web 1 | Event Purchase | Jabarteng\n",
      "campaign: Paket Reguler ; Single Image & Video - Lookalike ; New Conversion | Jaminan BPKB Motor | Web 1 | Event Purchase | Jabarteng\n",
      "campaign: Paket Reguler (Video) ; Single Image & Video ; New Conversion | Jaminan BPKB Motor | Web 1 | Event Purchase | Jabarteng\n",
      "campaign: Paket Reguler (Video) ; Single Image & Video - Lookalike ; New Conversion | Jaminan BPKB Motor | Web 1 | Event Purchase | Jabarteng\n",
      "campaign: Pilihan Tepat Dapatkan Pinjaman Cepat ; Mix Photo Video ; New Conversion | Jaminan BPKB Mobil | Web 1 | Sumatera\n",
      "campaign: Lebih Untung Dijaminkan Daripada Dijual ; Mix Photo Video ; New Conversion | Jaminan BPKB Mobil | Web 1 | Sumatera\n",
      "WAPE :  0.19459665623430755\n",
      "WBPE :  0.01916561813556888\n",
      "WCPE :  0.9398894840891339\n"
     ]
    }
   ],
   "source": [
    "Click_SMA = []\n",
    "ma_window=14\n",
    "\n",
    "y_hat_sma = result_click[['ds','campaign']]\n",
    "y_hat_sma = pd.merge(y_hat_sma,\n",
    "                 train_click,\n",
    "                 left_on=['ds','campaign'], right_on = ['ds','campaign'], \n",
    "                 how='left')\n",
    "\n",
    "for campaign in y_hat_sma['campaign'].unique():\n",
    "    print('campaign:', campaign)\n",
    "    train_ = y_hat_sma.loc[y_hat_sma['campaign'] == campaign].reset_index(drop=True)\n",
    "    \n",
    "    train_len = len(hist_click.loc[hist_click['campaign'] == campaign])\n",
    "    valid_ = valid_click.loc[valid_click['campaign'] == campaign]\n",
    "    #print(train_len)\n",
    "    \n",
    "    for x in range(59): #\n",
    "        train_['sma_forecast'] = train_['y'].rolling(ma_window).mean()\n",
    "        train_[\"lag1_sma_forecast\"] = (train_.groupby([\"campaign\"])[\"sma_forecast\"].shift())\n",
    "        train_.y[train_len:train_len+x+1] = train_.lag1_sma_forecast[train_len:train_len+x+1]\n",
    "    #print(train_.tail(55))\n",
    "    \n",
    "    Click_SMA.append(train_[['ds', 'lag1_sma_forecast', 'campaign']])\n",
    "    \n",
    "Click_SMA_df = pd.concat(Click_SMA, ignore_index=True)\n",
    "Click_SMA_df = Click_SMA_df.merge(valid_click, on=['ds', 'campaign'], how='left')\n",
    "print(\"WAPE : \" , wape(Click_SMA_df['y'], Click_SMA_df['lag1_sma_forecast']))\n",
    "print(\"WBPE : \" , wbpe(Click_SMA_df['y'], Click_SMA_df['lag1_sma_forecast']))\n",
    "print(\"WCPE : \" , wcpe(wape(Click_SMA_df['y'], Click_SMA_df['lag1_sma_forecast']), wbpe(Click_SMA_df['y'], Click_SMA_df['lag1_sma_forecast']),2))\n",
    "\n",
    "result_click = result_click.merge(Click_SMA_df[['ds','campaign','lag1_sma_forecast']], on=['ds', 'campaign'], how='left')\n"
   ]
  },
  {
   "cell_type": "code",
   "execution_count": 33,
   "metadata": {},
   "outputs": [
    {
     "name": "stdout",
     "output_type": "stream",
     "text": [
      "campaign: Lebih Untung Dijaminkan Daripada Dijual ; Mix Photo Video ; New Conversion | Jaminan BPKB Mobil | Web 1\n",
      "campaign: Pilihan Tepat Dapatkan Pinjaman Cepat ; Mix Photo Video ; New Conversion | Jaminan BPKB Mobil | Web 1\n",
      "campaign: Lebih Untung Dijaminkan Daripada Dijual ; Mix Photo Video ; New Conversion | Jaminan BPKB Mobil | Web 1 | Jabodetabek\n",
      "campaign: Pilihan Tepat Dapatkan Pinjaman Cepat ; Mix Photo Video ; New Conversion | Jaminan BPKB Mobil | Web 1 | Jabodetabek\n",
      "campaign: Dana Pendidikan Anak Aman ; Mix Photo Video ; New Conversion | Jaminan BPKB Mobil | Web 1\n",
      "campaign: Pinjaman Besar Jaminan Sertifikat Rumah ; Mix Photo & Video ; BFI Finance | Conversion | Jaminan Sertifikat Rumah | Web 1 | Event Purchase\n",
      "campaign: Pinjaman Jaminan Sertifikat Rumah di BFI Finance ; Mix Photo & Video ; BFI Finance | Conversion | Jaminan Sertifikat Rumah | Web 1 | Event Purchase\n",
      "campaign: Dana Pendidikan Anak Aman dengan Pinjaman Jaminan BPKB Mobil ; Mix Photo Video ; New Conversion | Jaminan BPKB Mobil | Web 1 | Jabodetabek\n",
      "campaign: Paket Lancar (Langsung Cair) ; Single Image & Video ; New Conversion | Jaminan BPKB Motor | Web 1 | Event Purchase\n",
      "campaign: Paket Lancar (Langsung Cair) ; Single Image & Video - Lookalike ; New Conversion | Jaminan BPKB Motor | Web 1 | Event Purchase\n",
      "campaign: Paket Langsung Cair (Lancar) Video ; Single Image & Video ; New Conversion | Jaminan BPKB Motor | Web 1 | Event Purchase\n",
      "campaign: Paket Langsung Cair (Lancar) Video ; Single Image & Video - Lookalike ; New Conversion | Jaminan BPKB Motor | Web 1 | Event Purchase\n",
      "campaign: Paket Reguler ; Single Image & Video ; New Conversion | Jaminan BPKB Motor | Web 1 | Event Purchase\n",
      "campaign: Paket Reguler ; Single Image & Video - Lookalike ; New Conversion | Jaminan BPKB Motor | Web 1 | Event Purchase\n",
      "campaign: Paket Reguler (Video) ; Single Image & Video ; New Conversion | Jaminan BPKB Motor | Web 1 | Event Purchase\n",
      "campaign: Paket Reguler (Video) ; Single Image & Video - Lookalike ; New Conversion | Jaminan BPKB Motor | Web 1 | Event Purchase\n",
      "campaign: Paket Lancar (Langsung Cair) ; Single Image ; New Conversion | Jaminan BPKB Motor | Web 1 | Event Purchase | Jabodetabek\n",
      "campaign: Paket Lancar (Langsung Cair) ; Single Image & Video - Lookalike ; New Conversion | Jaminan BPKB Motor | Web 1 | Event Purchase | Jabodetabek\n",
      "campaign: Paket Langsung Cair (Lancar) Video ; Single Image & Video - Lookalike ; New Conversion | Jaminan BPKB Motor | Web 1 | Event Purchase | Jabodetabek\n",
      "campaign: Paket Reguler ; Single Image ; New Conversion | Jaminan BPKB Motor | Web 1 | Event Purchase | Jabodetabek\n",
      "campaign: Paket Reguler ; Single Image & Video - Lookalike ; New Conversion | Jaminan BPKB Motor | Web 1 | Event Purchase | Jabodetabek\n",
      "campaign: Paket Reguler (Video) ; Single Image & Video - Lookalike ; New Conversion | Jaminan BPKB Motor | Web 1 | Event Purchase | Jabodetabek\n",
      "campaign: Pinjaman Besar Jaminan Sertifikat Rumah ; Mix Photo & Video ; BFI Finance | Conversion | Jaminan Sertifikat Rumah | Web 1 - Jabodetabek\n",
      "campaign: Pinjaman Besar Jaminan Sertifikat Rumah ; Remarketing ; BFI Finance | Conversion | Jaminan Sertifikat Rumah | Web 1 - Jabodetabek\n",
      "campaign: Pinjaman Besar Jaminan Sertifikat Rumah Video ; Mix Photo & Video ; BFI Finance | Conversion | Jaminan Sertifikat Rumah | Web 1 - Jabodetabek\n",
      "campaign: Pinjaman Jaminan Sertifikat Rumah di BFI Finance ; Mix Photo & Video ; BFI Finance | Conversion | Jaminan Sertifikat Rumah | Web 1 - Jabodetabek\n",
      "campaign: Pinjaman Jaminan Sertifikat Rumah di BFI Finance ; Remarketing ; BFI Finance | Conversion | Jaminan Sertifikat Rumah | Web 1 - Jabodetabek\n",
      "campaign: Pinjaman Jaminan Sertifikat Rumah di BFI Finance Video ; Mix Photo & Video ; BFI Finance | Conversion | Jaminan Sertifikat Rumah | Web 1 - Jabodetabek\n",
      "campaign: Pinjaman Besar Jaminan Sertifikat Rumah Video ; Mix Photo & Video ; BFI Finance | Conversion | Jaminan Sertifikat Rumah | Web 1 | Event Purchase\n",
      "campaign: Pinjaman Jaminan Sertifikat Rumah di BFI Finance Video ; Mix Photo & Video ; BFI Finance | Conversion | Jaminan Sertifikat Rumah | Web 1 | Event Purchase\n",
      "campaign: Paket Lancar (Langsung Cair) ; Single Image & Video ; New Conversion | Jaminan BPKB Motor | Web 1 | Event Purchase | Jabarteng\n",
      "campaign: Paket Lancar (Langsung Cair) ; Single Image & Video - Lookalike ; New Conversion | Jaminan BPKB Motor | Web 1 | Event Purchase | Jabarteng\n",
      "campaign: Paket Langsung Cair (Lancar) Video ; Single Image & Video ; New Conversion | Jaminan BPKB Motor | Web 1 | Event Purchase | Jabarteng\n",
      "campaign: Paket Langsung Cair (Lancar) Video ; Single Image & Video - Lookalike ; New Conversion | Jaminan BPKB Motor | Web 1 | Event Purchase | Jabarteng\n",
      "campaign: Paket Reguler ; Single Image & Video ; New Conversion | Jaminan BPKB Motor | Web 1 | Event Purchase | Jabarteng\n",
      "campaign: Paket Reguler ; Single Image & Video - Lookalike ; New Conversion | Jaminan BPKB Motor | Web 1 | Event Purchase | Jabarteng\n",
      "campaign: Paket Reguler (Video) ; Single Image & Video ; New Conversion | Jaminan BPKB Motor | Web 1 | Event Purchase | Jabarteng\n",
      "campaign: Paket Reguler (Video) ; Single Image & Video - Lookalike ; New Conversion | Jaminan BPKB Motor | Web 1 | Event Purchase | Jabarteng\n",
      "campaign: Pilihan Tepat Dapatkan Pinjaman Cepat ; Mix Photo Video ; New Conversion | Jaminan BPKB Mobil | Web 1 | Sumatera\n",
      "campaign: Lebih Untung Dijaminkan Daripada Dijual ; Mix Photo Video ; New Conversion | Jaminan BPKB Mobil | Web 1 | Sumatera\n",
      "WAPE :  0.16164826243058586\n",
      "WBPE :  0.014669636049229138\n",
      "WCPE :  0.9519514122105039\n"
     ]
    }
   ],
   "source": [
    "Cost_SMA = []\n",
    "ma_window=14\n",
    "\n",
    "y_hat_sma = result_cost[['ds','campaign']]\n",
    "y_hat_sma = pd.merge(y_hat_sma,\n",
    "                 train_cost,\n",
    "                 left_on=['ds','campaign'], right_on = ['ds','campaign'], \n",
    "                 how='left')\n",
    "\n",
    "for campaign in y_hat_sma['campaign'].unique():\n",
    "    print('campaign:', campaign)\n",
    "    train_ = y_hat_sma.loc[y_hat_sma['campaign'] == campaign].reset_index(drop=True)\n",
    "    \n",
    "    train_len = len(hist_cost.loc[hist_cost['campaign'] == campaign])\n",
    "    valid_ = valid_cost.loc[valid_cost['campaign'] == campaign]\n",
    "    #print(train_len)\n",
    "    \n",
    "    for x in range(59): #\n",
    "        train_['sma_forecast'] = train_['y'].rolling(ma_window).mean()\n",
    "        train_[\"lag1_sma_forecast\"] = (train_.groupby([\"campaign\"])[\"sma_forecast\"].shift())\n",
    "        train_.y[train_len:train_len+x+1] = train_.lag1_sma_forecast[train_len:train_len+x+1]\n",
    "    #print(train_.tail(55))\n",
    "    \n",
    "    Cost_SMA.append(train_[['ds', 'lag1_sma_forecast', 'campaign']])\n",
    "    \n",
    "Cost_SMA_df = pd.concat(Cost_SMA, ignore_index=True)\n",
    "Cost_SMA_df = Cost_SMA_df.merge(valid_cost, on=['ds', 'campaign'], how='left')\n",
    "print(\"WAPE : \" , wape(Cost_SMA_df['y'], Cost_SMA_df['lag1_sma_forecast']))\n",
    "print(\"WBPE : \" , wbpe(Cost_SMA_df['y'], Cost_SMA_df['lag1_sma_forecast']))\n",
    "print(\"WCPE : \" , wcpe(wape(Cost_SMA_df['y'], Cost_SMA_df['lag1_sma_forecast']), wbpe(Cost_SMA_df['y'], Cost_SMA_df['lag1_sma_forecast']),2))\n",
    "\n",
    "result_cost = result_cost.merge(Cost_SMA_df[['ds','campaign','lag1_sma_forecast']], on=['ds', 'campaign'], how='left')"
   ]
  },
  {
   "cell_type": "code",
   "execution_count": 34,
   "metadata": {},
   "outputs": [
    {
     "name": "stdout",
     "output_type": "stream",
     "text": [
      "campaign: Lebih Untung Dijaminkan Daripada Dijual ; Mix Photo Video ; New Conversion | Jaminan BPKB Mobil | Web 1\n",
      "campaign: Pilihan Tepat Dapatkan Pinjaman Cepat ; Mix Photo Video ; New Conversion | Jaminan BPKB Mobil | Web 1\n",
      "campaign: Lebih Untung Dijaminkan Daripada Dijual ; Mix Photo Video ; New Conversion | Jaminan BPKB Mobil | Web 1 | Jabodetabek\n",
      "campaign: Pilihan Tepat Dapatkan Pinjaman Cepat ; Mix Photo Video ; New Conversion | Jaminan BPKB Mobil | Web 1 | Jabodetabek\n",
      "campaign: Dana Pendidikan Anak Aman ; Mix Photo Video ; New Conversion | Jaminan BPKB Mobil | Web 1\n",
      "campaign: Pinjaman Besar Jaminan Sertifikat Rumah ; Mix Photo & Video ; BFI Finance | Conversion | Jaminan Sertifikat Rumah | Web 1 | Event Purchase\n",
      "campaign: Pinjaman Jaminan Sertifikat Rumah di BFI Finance ; Mix Photo & Video ; BFI Finance | Conversion | Jaminan Sertifikat Rumah | Web 1 | Event Purchase\n",
      "campaign: Dana Pendidikan Anak Aman dengan Pinjaman Jaminan BPKB Mobil ; Mix Photo Video ; New Conversion | Jaminan BPKB Mobil | Web 1 | Jabodetabek\n",
      "campaign: Paket Lancar (Langsung Cair) ; Single Image & Video ; New Conversion | Jaminan BPKB Motor | Web 1 | Event Purchase\n",
      "campaign: Paket Lancar (Langsung Cair) ; Single Image & Video - Lookalike ; New Conversion | Jaminan BPKB Motor | Web 1 | Event Purchase\n",
      "campaign: Paket Langsung Cair (Lancar) Video ; Single Image & Video ; New Conversion | Jaminan BPKB Motor | Web 1 | Event Purchase\n",
      "campaign: Paket Langsung Cair (Lancar) Video ; Single Image & Video - Lookalike ; New Conversion | Jaminan BPKB Motor | Web 1 | Event Purchase\n",
      "campaign: Paket Reguler ; Single Image & Video ; New Conversion | Jaminan BPKB Motor | Web 1 | Event Purchase\n",
      "campaign: Paket Reguler ; Single Image & Video - Lookalike ; New Conversion | Jaminan BPKB Motor | Web 1 | Event Purchase\n",
      "campaign: Paket Reguler (Video) ; Single Image & Video ; New Conversion | Jaminan BPKB Motor | Web 1 | Event Purchase\n",
      "campaign: Paket Reguler (Video) ; Single Image & Video - Lookalike ; New Conversion | Jaminan BPKB Motor | Web 1 | Event Purchase\n",
      "campaign: Paket Lancar (Langsung Cair) ; Single Image ; New Conversion | Jaminan BPKB Motor | Web 1 | Event Purchase | Jabodetabek\n",
      "campaign: Paket Lancar (Langsung Cair) ; Single Image & Video - Lookalike ; New Conversion | Jaminan BPKB Motor | Web 1 | Event Purchase | Jabodetabek\n",
      "campaign: Paket Langsung Cair (Lancar) Video ; Single Image & Video - Lookalike ; New Conversion | Jaminan BPKB Motor | Web 1 | Event Purchase | Jabodetabek\n",
      "campaign: Paket Reguler ; Single Image ; New Conversion | Jaminan BPKB Motor | Web 1 | Event Purchase | Jabodetabek\n",
      "campaign: Paket Reguler ; Single Image & Video - Lookalike ; New Conversion | Jaminan BPKB Motor | Web 1 | Event Purchase | Jabodetabek\n",
      "campaign: Paket Reguler (Video) ; Single Image & Video - Lookalike ; New Conversion | Jaminan BPKB Motor | Web 1 | Event Purchase | Jabodetabek\n",
      "campaign: Pinjaman Besar Jaminan Sertifikat Rumah ; Mix Photo & Video ; BFI Finance | Conversion | Jaminan Sertifikat Rumah | Web 1 - Jabodetabek\n",
      "campaign: Pinjaman Besar Jaminan Sertifikat Rumah ; Remarketing ; BFI Finance | Conversion | Jaminan Sertifikat Rumah | Web 1 - Jabodetabek\n",
      "campaign: Pinjaman Besar Jaminan Sertifikat Rumah Video ; Mix Photo & Video ; BFI Finance | Conversion | Jaminan Sertifikat Rumah | Web 1 - Jabodetabek\n",
      "campaign: Pinjaman Jaminan Sertifikat Rumah di BFI Finance ; Mix Photo & Video ; BFI Finance | Conversion | Jaminan Sertifikat Rumah | Web 1 - Jabodetabek\n",
      "campaign: Pinjaman Jaminan Sertifikat Rumah di BFI Finance ; Remarketing ; BFI Finance | Conversion | Jaminan Sertifikat Rumah | Web 1 - Jabodetabek\n",
      "campaign: Pinjaman Jaminan Sertifikat Rumah di BFI Finance Video ; Mix Photo & Video ; BFI Finance | Conversion | Jaminan Sertifikat Rumah | Web 1 - Jabodetabek\n",
      "campaign: Pinjaman Besar Jaminan Sertifikat Rumah Video ; Mix Photo & Video ; BFI Finance | Conversion | Jaminan Sertifikat Rumah | Web 1 | Event Purchase\n",
      "campaign: Pinjaman Jaminan Sertifikat Rumah di BFI Finance Video ; Mix Photo & Video ; BFI Finance | Conversion | Jaminan Sertifikat Rumah | Web 1 | Event Purchase\n",
      "campaign: Paket Lancar (Langsung Cair) ; Single Image & Video ; New Conversion | Jaminan BPKB Motor | Web 1 | Event Purchase | Jabarteng\n",
      "campaign: Paket Lancar (Langsung Cair) ; Single Image & Video - Lookalike ; New Conversion | Jaminan BPKB Motor | Web 1 | Event Purchase | Jabarteng\n",
      "campaign: Paket Langsung Cair (Lancar) Video ; Single Image & Video ; New Conversion | Jaminan BPKB Motor | Web 1 | Event Purchase | Jabarteng\n",
      "campaign: Paket Langsung Cair (Lancar) Video ; Single Image & Video - Lookalike ; New Conversion | Jaminan BPKB Motor | Web 1 | Event Purchase | Jabarteng\n",
      "campaign: Paket Reguler ; Single Image & Video ; New Conversion | Jaminan BPKB Motor | Web 1 | Event Purchase | Jabarteng\n",
      "campaign: Paket Reguler ; Single Image & Video - Lookalike ; New Conversion | Jaminan BPKB Motor | Web 1 | Event Purchase | Jabarteng\n",
      "campaign: Paket Reguler (Video) ; Single Image & Video ; New Conversion | Jaminan BPKB Motor | Web 1 | Event Purchase | Jabarteng\n",
      "campaign: Paket Reguler (Video) ; Single Image & Video - Lookalike ; New Conversion | Jaminan BPKB Motor | Web 1 | Event Purchase | Jabarteng\n",
      "campaign: Pilihan Tepat Dapatkan Pinjaman Cepat ; Mix Photo Video ; New Conversion | Jaminan BPKB Mobil | Web 1 | Sumatera\n",
      "campaign: Lebih Untung Dijaminkan Daripada Dijual ; Mix Photo Video ; New Conversion | Jaminan BPKB Mobil | Web 1 | Sumatera\n",
      "WAPE :  0.0\n",
      "WBPE :  0.0\n",
      "WCPE :  1.0\n"
     ]
    }
   ],
   "source": [
    "Leads_SMA = []\n",
    "ma_window=14\n",
    "\n",
    "y_hat_sma = result_leads[['ds','campaign']]\n",
    "y_hat_sma = pd.merge(y_hat_sma,\n",
    "                 train_leads,\n",
    "                 left_on=['ds','campaign'], right_on = ['ds','campaign'], \n",
    "                 how='left')\n",
    "\n",
    "for campaign in y_hat_sma['campaign'].unique():\n",
    "    print('campaign:', campaign)\n",
    "    train_ = y_hat_sma.loc[y_hat_sma['campaign'] == campaign].reset_index(drop=True)\n",
    "    \n",
    "    train_len = len(hist_leads.loc[hist_leads['campaign'] == campaign])\n",
    "    valid_ = valid_leads.loc[valid_leads['campaign'] == campaign]\n",
    "    #print(train_len)\n",
    "    \n",
    "    for x in range(59): #\n",
    "        train_['sma_forecast'] = train_['y'].rolling(ma_window).mean()\n",
    "        train_[\"lag1_sma_forecast\"] = (train_.groupby([\"campaign\"])[\"sma_forecast\"].shift())\n",
    "        train_.y[train_len:train_len+x+1] = train_.lag1_sma_forecast[train_len:train_len+x+1]\n",
    "    #print(train_.tail(55))\n",
    "    \n",
    "    Leads_SMA.append(train_[['ds', 'lag1_sma_forecast', 'campaign']])\n",
    "    \n",
    "Leads_SMA_df = pd.concat(Leads_SMA, ignore_index=True)\n",
    "Leads_SMA_df = Leads_SMA_df.merge(valid_leads, on=['ds', 'campaign'], how='left')\n",
    "print(\"WAPE : \" , wape(Leads_SMA_df['y'], Leads_SMA_df['lag1_sma_forecast']))\n",
    "print(\"WBPE : \" , wbpe(Leads_SMA_df['y'], Leads_SMA_df['lag1_sma_forecast']))\n",
    "print(\"WCPE : \" , wcpe(wape(Leads_SMA_df['y'], Leads_SMA_df['lag1_sma_forecast']), wbpe(Leads_SMA_df['y'], Leads_SMA_df['lag1_sma_forecast']),2))\n",
    "\n",
    "result_leads = result_leads.merge(Leads_SMA_df[['ds','campaign','lag1_sma_forecast']], on=['ds', 'campaign'], how='left')"
   ]
  },
  {
   "cell_type": "code",
   "execution_count": 35,
   "metadata": {},
   "outputs": [
    {
     "name": "stdout",
     "output_type": "stream",
     "text": [
      "campaign: Lebih Untung Dijaminkan Daripada Dijual ; Mix Photo Video ; New Conversion | Jaminan BPKB Mobil | Web 1\n",
      "campaign: Pilihan Tepat Dapatkan Pinjaman Cepat ; Mix Photo Video ; New Conversion | Jaminan BPKB Mobil | Web 1\n",
      "campaign: Lebih Untung Dijaminkan Daripada Dijual ; Mix Photo Video ; New Conversion | Jaminan BPKB Mobil | Web 1 | Jabodetabek\n",
      "campaign: Pilihan Tepat Dapatkan Pinjaman Cepat ; Mix Photo Video ; New Conversion | Jaminan BPKB Mobil | Web 1 | Jabodetabek\n",
      "campaign: Dana Pendidikan Anak Aman ; Mix Photo Video ; New Conversion | Jaminan BPKB Mobil | Web 1\n",
      "campaign: Pinjaman Besar Jaminan Sertifikat Rumah ; Mix Photo & Video ; BFI Finance | Conversion | Jaminan Sertifikat Rumah | Web 1 | Event Purchase\n",
      "campaign: Pinjaman Jaminan Sertifikat Rumah di BFI Finance ; Mix Photo & Video ; BFI Finance | Conversion | Jaminan Sertifikat Rumah | Web 1 | Event Purchase\n",
      "campaign: Dana Pendidikan Anak Aman dengan Pinjaman Jaminan BPKB Mobil ; Mix Photo Video ; New Conversion | Jaminan BPKB Mobil | Web 1 | Jabodetabek\n",
      "campaign: Paket Lancar (Langsung Cair) ; Single Image & Video ; New Conversion | Jaminan BPKB Motor | Web 1 | Event Purchase\n",
      "campaign: Paket Lancar (Langsung Cair) ; Single Image & Video - Lookalike ; New Conversion | Jaminan BPKB Motor | Web 1 | Event Purchase\n",
      "campaign: Paket Langsung Cair (Lancar) Video ; Single Image & Video ; New Conversion | Jaminan BPKB Motor | Web 1 | Event Purchase\n",
      "campaign: Paket Langsung Cair (Lancar) Video ; Single Image & Video - Lookalike ; New Conversion | Jaminan BPKB Motor | Web 1 | Event Purchase\n",
      "campaign: Paket Reguler ; Single Image & Video ; New Conversion | Jaminan BPKB Motor | Web 1 | Event Purchase\n",
      "campaign: Paket Reguler ; Single Image & Video - Lookalike ; New Conversion | Jaminan BPKB Motor | Web 1 | Event Purchase\n",
      "campaign: Paket Reguler (Video) ; Single Image & Video ; New Conversion | Jaminan BPKB Motor | Web 1 | Event Purchase\n",
      "campaign: Paket Reguler (Video) ; Single Image & Video - Lookalike ; New Conversion | Jaminan BPKB Motor | Web 1 | Event Purchase\n",
      "campaign: Paket Lancar (Langsung Cair) ; Single Image ; New Conversion | Jaminan BPKB Motor | Web 1 | Event Purchase | Jabodetabek\n",
      "campaign: Paket Lancar (Langsung Cair) ; Single Image & Video - Lookalike ; New Conversion | Jaminan BPKB Motor | Web 1 | Event Purchase | Jabodetabek\n",
      "campaign: Paket Langsung Cair (Lancar) Video ; Single Image & Video - Lookalike ; New Conversion | Jaminan BPKB Motor | Web 1 | Event Purchase | Jabodetabek\n",
      "campaign: Paket Reguler ; Single Image ; New Conversion | Jaminan BPKB Motor | Web 1 | Event Purchase | Jabodetabek\n",
      "campaign: Paket Reguler ; Single Image & Video - Lookalike ; New Conversion | Jaminan BPKB Motor | Web 1 | Event Purchase | Jabodetabek\n",
      "campaign: Paket Reguler (Video) ; Single Image & Video - Lookalike ; New Conversion | Jaminan BPKB Motor | Web 1 | Event Purchase | Jabodetabek\n",
      "campaign: Pinjaman Besar Jaminan Sertifikat Rumah ; Mix Photo & Video ; BFI Finance | Conversion | Jaminan Sertifikat Rumah | Web 1 - Jabodetabek\n",
      "campaign: Pinjaman Besar Jaminan Sertifikat Rumah ; Remarketing ; BFI Finance | Conversion | Jaminan Sertifikat Rumah | Web 1 - Jabodetabek\n",
      "campaign: Pinjaman Besar Jaminan Sertifikat Rumah Video ; Mix Photo & Video ; BFI Finance | Conversion | Jaminan Sertifikat Rumah | Web 1 - Jabodetabek\n",
      "campaign: Pinjaman Jaminan Sertifikat Rumah di BFI Finance ; Mix Photo & Video ; BFI Finance | Conversion | Jaminan Sertifikat Rumah | Web 1 - Jabodetabek\n",
      "campaign: Pinjaman Jaminan Sertifikat Rumah di BFI Finance ; Remarketing ; BFI Finance | Conversion | Jaminan Sertifikat Rumah | Web 1 - Jabodetabek\n",
      "campaign: Pinjaman Jaminan Sertifikat Rumah di BFI Finance Video ; Mix Photo & Video ; BFI Finance | Conversion | Jaminan Sertifikat Rumah | Web 1 - Jabodetabek\n",
      "campaign: Pinjaman Besar Jaminan Sertifikat Rumah Video ; Mix Photo & Video ; BFI Finance | Conversion | Jaminan Sertifikat Rumah | Web 1 | Event Purchase\n",
      "campaign: Pinjaman Jaminan Sertifikat Rumah di BFI Finance Video ; Mix Photo & Video ; BFI Finance | Conversion | Jaminan Sertifikat Rumah | Web 1 | Event Purchase\n",
      "campaign: Paket Lancar (Langsung Cair) ; Single Image & Video ; New Conversion | Jaminan BPKB Motor | Web 1 | Event Purchase | Jabarteng\n",
      "campaign: Paket Lancar (Langsung Cair) ; Single Image & Video - Lookalike ; New Conversion | Jaminan BPKB Motor | Web 1 | Event Purchase | Jabarteng\n",
      "campaign: Paket Langsung Cair (Lancar) Video ; Single Image & Video ; New Conversion | Jaminan BPKB Motor | Web 1 | Event Purchase | Jabarteng\n",
      "campaign: Paket Langsung Cair (Lancar) Video ; Single Image & Video - Lookalike ; New Conversion | Jaminan BPKB Motor | Web 1 | Event Purchase | Jabarteng\n",
      "campaign: Paket Reguler ; Single Image & Video ; New Conversion | Jaminan BPKB Motor | Web 1 | Event Purchase | Jabarteng\n",
      "campaign: Paket Reguler ; Single Image & Video - Lookalike ; New Conversion | Jaminan BPKB Motor | Web 1 | Event Purchase | Jabarteng\n",
      "campaign: Paket Reguler (Video) ; Single Image & Video ; New Conversion | Jaminan BPKB Motor | Web 1 | Event Purchase | Jabarteng\n",
      "campaign: Paket Reguler (Video) ; Single Image & Video - Lookalike ; New Conversion | Jaminan BPKB Motor | Web 1 | Event Purchase | Jabarteng\n",
      "campaign: Pilihan Tepat Dapatkan Pinjaman Cepat ; Mix Photo Video ; New Conversion | Jaminan BPKB Mobil | Web 1 | Sumatera\n",
      "campaign: Lebih Untung Dijaminkan Daripada Dijual ; Mix Photo Video ; New Conversion | Jaminan BPKB Mobil | Web 1 | Sumatera\n",
      "WAPE :  nan\n",
      "WBPE :  nan\n",
      "WCPE :  nan\n"
     ]
    }
   ],
   "source": [
    "Prospect_SMA = []\n",
    "ma_window=14\n",
    "\n",
    "y_hat_sma = result_prospect[['ds','campaign']]\n",
    "y_hat_sma = pd.merge(y_hat_sma,\n",
    "                 train_prospect,\n",
    "                 left_on=['ds','campaign'], right_on = ['ds','campaign'], \n",
    "                 how='left')\n",
    "\n",
    "for campaign in y_hat_sma['campaign'].unique():\n",
    "    print('campaign:', campaign)\n",
    "    train_ = y_hat_sma.loc[y_hat_sma['campaign'] == campaign].reset_index(drop=True)\n",
    "    \n",
    "    train_len = len(hist_prospect.loc[hist_prospect['campaign'] == campaign])\n",
    "    valid_ = valid_prospect.loc[valid_prospect['campaign'] == campaign]\n",
    "    #print(train_len)\n",
    "    \n",
    "    for x in range(59): #\n",
    "        train_['sma_forecast'] = train_['y'].rolling(ma_window).mean()\n",
    "        train_[\"lag1_sma_forecast\"] = (train_.groupby([\"campaign\"])[\"sma_forecast\"].shift())\n",
    "        train_.y[train_len:train_len+x+1] = train_.lag1_sma_forecast[train_len:train_len+x+1]\n",
    "    #print(train_.tail(55))\n",
    "    \n",
    "    Prospect_SMA.append(train_[['ds', 'lag1_sma_forecast', 'campaign']])\n",
    "    \n",
    "Prospect_SMA_df = pd.concat(Prospect_SMA, ignore_index=True)\n",
    "Prospect_SMA_df = Prospect_SMA_df.merge(valid_prospect, on=['ds', 'campaign'], how='left')\n",
    "print(\"WAPE : \" , wape(Prospect_SMA_df['y'], Prospect_SMA_df['lag1_sma_forecast']))\n",
    "print(\"WBPE : \" , wbpe(Prospect_SMA_df['y'], Prospect_SMA_df['lag1_sma_forecast']))\n",
    "print(\"WCPE : \" , wcpe(wape(Prospect_SMA_df['y'], Prospect_SMA_df['lag1_sma_forecast']), wbpe(Prospect_SMA_df['y'], Prospect_SMA_df['lag1_sma_forecast']),2))\n",
    "\n",
    "result_prospect = result_prospect.merge(Prospect_SMA_df[['ds','campaign','lag1_sma_forecast']], on=['ds', 'campaign'], how='left')"
   ]
  },
  {
   "cell_type": "code",
   "execution_count": 36,
   "metadata": {},
   "outputs": [
    {
     "name": "stdout",
     "output_type": "stream",
     "text": [
      "campaign: Lebih Untung Dijaminkan Daripada Dijual ; Mix Photo Video ; New Conversion | Jaminan BPKB Mobil | Web 1\n",
      "campaign: Pilihan Tepat Dapatkan Pinjaman Cepat ; Mix Photo Video ; New Conversion | Jaminan BPKB Mobil | Web 1\n",
      "campaign: Lebih Untung Dijaminkan Daripada Dijual ; Mix Photo Video ; New Conversion | Jaminan BPKB Mobil | Web 1 | Jabodetabek\n",
      "campaign: Pilihan Tepat Dapatkan Pinjaman Cepat ; Mix Photo Video ; New Conversion | Jaminan BPKB Mobil | Web 1 | Jabodetabek\n",
      "campaign: Dana Pendidikan Anak Aman ; Mix Photo Video ; New Conversion | Jaminan BPKB Mobil | Web 1\n",
      "campaign: Pinjaman Besar Jaminan Sertifikat Rumah ; Mix Photo & Video ; BFI Finance | Conversion | Jaminan Sertifikat Rumah | Web 1 | Event Purchase\n",
      "campaign: Pinjaman Jaminan Sertifikat Rumah di BFI Finance ; Mix Photo & Video ; BFI Finance | Conversion | Jaminan Sertifikat Rumah | Web 1 | Event Purchase\n",
      "campaign: Dana Pendidikan Anak Aman dengan Pinjaman Jaminan BPKB Mobil ; Mix Photo Video ; New Conversion | Jaminan BPKB Mobil | Web 1 | Jabodetabek\n",
      "campaign: Paket Lancar (Langsung Cair) ; Single Image & Video ; New Conversion | Jaminan BPKB Motor | Web 1 | Event Purchase\n",
      "campaign: Paket Lancar (Langsung Cair) ; Single Image & Video - Lookalike ; New Conversion | Jaminan BPKB Motor | Web 1 | Event Purchase\n",
      "campaign: Paket Langsung Cair (Lancar) Video ; Single Image & Video ; New Conversion | Jaminan BPKB Motor | Web 1 | Event Purchase\n",
      "campaign: Paket Langsung Cair (Lancar) Video ; Single Image & Video - Lookalike ; New Conversion | Jaminan BPKB Motor | Web 1 | Event Purchase\n",
      "campaign: Paket Reguler ; Single Image & Video ; New Conversion | Jaminan BPKB Motor | Web 1 | Event Purchase\n",
      "campaign: Paket Reguler ; Single Image & Video - Lookalike ; New Conversion | Jaminan BPKB Motor | Web 1 | Event Purchase\n",
      "campaign: Paket Reguler (Video) ; Single Image & Video ; New Conversion | Jaminan BPKB Motor | Web 1 | Event Purchase\n",
      "campaign: Paket Reguler (Video) ; Single Image & Video - Lookalike ; New Conversion | Jaminan BPKB Motor | Web 1 | Event Purchase\n",
      "campaign: Paket Lancar (Langsung Cair) ; Single Image ; New Conversion | Jaminan BPKB Motor | Web 1 | Event Purchase | Jabodetabek\n",
      "campaign: Paket Lancar (Langsung Cair) ; Single Image & Video - Lookalike ; New Conversion | Jaminan BPKB Motor | Web 1 | Event Purchase | Jabodetabek\n",
      "campaign: Paket Langsung Cair (Lancar) Video ; Single Image & Video - Lookalike ; New Conversion | Jaminan BPKB Motor | Web 1 | Event Purchase | Jabodetabek\n",
      "campaign: Paket Reguler ; Single Image ; New Conversion | Jaminan BPKB Motor | Web 1 | Event Purchase | Jabodetabek\n",
      "campaign: Paket Reguler ; Single Image & Video - Lookalike ; New Conversion | Jaminan BPKB Motor | Web 1 | Event Purchase | Jabodetabek\n",
      "campaign: Paket Reguler (Video) ; Single Image & Video - Lookalike ; New Conversion | Jaminan BPKB Motor | Web 1 | Event Purchase | Jabodetabek\n",
      "campaign: Pinjaman Besar Jaminan Sertifikat Rumah ; Mix Photo & Video ; BFI Finance | Conversion | Jaminan Sertifikat Rumah | Web 1 - Jabodetabek\n",
      "campaign: Pinjaman Besar Jaminan Sertifikat Rumah ; Remarketing ; BFI Finance | Conversion | Jaminan Sertifikat Rumah | Web 1 - Jabodetabek\n",
      "campaign: Pinjaman Besar Jaminan Sertifikat Rumah Video ; Mix Photo & Video ; BFI Finance | Conversion | Jaminan Sertifikat Rumah | Web 1 - Jabodetabek\n",
      "campaign: Pinjaman Jaminan Sertifikat Rumah di BFI Finance ; Mix Photo & Video ; BFI Finance | Conversion | Jaminan Sertifikat Rumah | Web 1 - Jabodetabek\n",
      "campaign: Pinjaman Jaminan Sertifikat Rumah di BFI Finance ; Remarketing ; BFI Finance | Conversion | Jaminan Sertifikat Rumah | Web 1 - Jabodetabek\n",
      "campaign: Pinjaman Jaminan Sertifikat Rumah di BFI Finance Video ; Mix Photo & Video ; BFI Finance | Conversion | Jaminan Sertifikat Rumah | Web 1 - Jabodetabek\n",
      "campaign: Pinjaman Besar Jaminan Sertifikat Rumah Video ; Mix Photo & Video ; BFI Finance | Conversion | Jaminan Sertifikat Rumah | Web 1 | Event Purchase\n",
      "campaign: Pinjaman Jaminan Sertifikat Rumah di BFI Finance Video ; Mix Photo & Video ; BFI Finance | Conversion | Jaminan Sertifikat Rumah | Web 1 | Event Purchase\n",
      "campaign: Paket Lancar (Langsung Cair) ; Single Image & Video ; New Conversion | Jaminan BPKB Motor | Web 1 | Event Purchase | Jabarteng\n",
      "campaign: Paket Lancar (Langsung Cair) ; Single Image & Video - Lookalike ; New Conversion | Jaminan BPKB Motor | Web 1 | Event Purchase | Jabarteng\n",
      "campaign: Paket Langsung Cair (Lancar) Video ; Single Image & Video ; New Conversion | Jaminan BPKB Motor | Web 1 | Event Purchase | Jabarteng\n",
      "campaign: Paket Langsung Cair (Lancar) Video ; Single Image & Video - Lookalike ; New Conversion | Jaminan BPKB Motor | Web 1 | Event Purchase | Jabarteng\n",
      "campaign: Paket Reguler ; Single Image & Video ; New Conversion | Jaminan BPKB Motor | Web 1 | Event Purchase | Jabarteng\n",
      "campaign: Paket Reguler ; Single Image & Video - Lookalike ; New Conversion | Jaminan BPKB Motor | Web 1 | Event Purchase | Jabarteng\n",
      "campaign: Paket Reguler (Video) ; Single Image & Video ; New Conversion | Jaminan BPKB Motor | Web 1 | Event Purchase | Jabarteng\n",
      "campaign: Paket Reguler (Video) ; Single Image & Video - Lookalike ; New Conversion | Jaminan BPKB Motor | Web 1 | Event Purchase | Jabarteng\n",
      "campaign: Pilihan Tepat Dapatkan Pinjaman Cepat ; Mix Photo Video ; New Conversion | Jaminan BPKB Mobil | Web 1 | Sumatera\n",
      "campaign: Lebih Untung Dijaminkan Daripada Dijual ; Mix Photo Video ; New Conversion | Jaminan BPKB Mobil | Web 1 | Sumatera\n",
      "WAPE :  nan\n",
      "WBPE :  nan\n",
      "WCPE :  nan\n"
     ]
    }
   ],
   "source": [
    "Funding_SMA = []\n",
    "ma_window=14\n",
    "\n",
    "y_hat_sma = result_funding[['ds','campaign']]\n",
    "y_hat_sma = pd.merge(y_hat_sma,\n",
    "                 train_funding,\n",
    "                 left_on=['ds','campaign'], right_on = ['ds','campaign'], \n",
    "                 how='left')\n",
    "\n",
    "for campaign in y_hat_sma['campaign'].unique():\n",
    "    print('campaign:', campaign)\n",
    "    train_ = y_hat_sma.loc[y_hat_sma['campaign'] == campaign].reset_index(drop=True)\n",
    "    \n",
    "    train_len = len(hist_funding.loc[hist_funding['campaign'] == campaign])\n",
    "    valid_ = valid_funding.loc[valid_funding['campaign'] == campaign]\n",
    "    #print(train_len)\n",
    "    \n",
    "    for x in range(59): #\n",
    "        train_['sma_forecast'] = train_['y'].rolling(ma_window).mean()\n",
    "        train_[\"lag1_sma_forecast\"] = (train_.groupby([\"campaign\"])[\"sma_forecast\"].shift())\n",
    "        train_.y[train_len:train_len+x+1] = train_.lag1_sma_forecast[train_len:train_len+x+1]\n",
    "    #print(train_.tail(55))\n",
    "    \n",
    "    Funding_SMA.append(train_[['ds', 'lag1_sma_forecast', 'campaign']])\n",
    "    \n",
    "Funding_SMA_df = pd.concat(Funding_SMA, ignore_index=True)\n",
    "Funding_SMA_df = Funding_SMA_df.merge(valid_funding, on=['ds', 'campaign'], how='left')\n",
    "print(\"WAPE : \" , wape(Funding_SMA_df['y'], Funding_SMA_df['lag1_sma_forecast']))\n",
    "print(\"WBPE : \" , wbpe(Funding_SMA_df['y'], Funding_SMA_df['lag1_sma_forecast']))\n",
    "print(\"WCPE : \" , wcpe(wape(Funding_SMA_df['y'], Funding_SMA_df['lag1_sma_forecast']), wbpe(Funding_SMA_df['y'], Funding_SMA_df['lag1_sma_forecast']),2))\n",
    "\n",
    "result_funding = result_funding.merge(Funding_SMA_df[['ds','campaign','lag1_sma_forecast']], on=['ds', 'campaign'], how='left')"
   ]
  },
  {
   "cell_type": "code",
   "execution_count": 37,
   "metadata": {},
   "outputs": [
    {
     "name": "stdout",
     "output_type": "stream",
     "text": [
      "campaign: Lebih Untung Dijaminkan Daripada Dijual ; Mix Photo Video ; New Conversion | Jaminan BPKB Mobil | Web 1\n",
      "campaign: Pilihan Tepat Dapatkan Pinjaman Cepat ; Mix Photo Video ; New Conversion | Jaminan BPKB Mobil | Web 1\n",
      "campaign: Lebih Untung Dijaminkan Daripada Dijual ; Mix Photo Video ; New Conversion | Jaminan BPKB Mobil | Web 1 | Jabodetabek\n",
      "campaign: Pilihan Tepat Dapatkan Pinjaman Cepat ; Mix Photo Video ; New Conversion | Jaminan BPKB Mobil | Web 1 | Jabodetabek\n",
      "campaign: Dana Pendidikan Anak Aman ; Mix Photo Video ; New Conversion | Jaminan BPKB Mobil | Web 1\n",
      "campaign: Pinjaman Besar Jaminan Sertifikat Rumah ; Mix Photo & Video ; BFI Finance | Conversion | Jaminan Sertifikat Rumah | Web 1 | Event Purchase\n",
      "campaign: Pinjaman Jaminan Sertifikat Rumah di BFI Finance ; Mix Photo & Video ; BFI Finance | Conversion | Jaminan Sertifikat Rumah | Web 1 | Event Purchase\n",
      "campaign: Dana Pendidikan Anak Aman dengan Pinjaman Jaminan BPKB Mobil ; Mix Photo Video ; New Conversion | Jaminan BPKB Mobil | Web 1 | Jabodetabek\n",
      "campaign: Paket Lancar (Langsung Cair) ; Single Image & Video ; New Conversion | Jaminan BPKB Motor | Web 1 | Event Purchase\n",
      "campaign: Paket Lancar (Langsung Cair) ; Single Image & Video - Lookalike ; New Conversion | Jaminan BPKB Motor | Web 1 | Event Purchase\n",
      "campaign: Paket Langsung Cair (Lancar) Video ; Single Image & Video ; New Conversion | Jaminan BPKB Motor | Web 1 | Event Purchase\n",
      "campaign: Paket Langsung Cair (Lancar) Video ; Single Image & Video - Lookalike ; New Conversion | Jaminan BPKB Motor | Web 1 | Event Purchase\n",
      "campaign: Paket Reguler ; Single Image & Video ; New Conversion | Jaminan BPKB Motor | Web 1 | Event Purchase\n",
      "campaign: Paket Reguler ; Single Image & Video - Lookalike ; New Conversion | Jaminan BPKB Motor | Web 1 | Event Purchase\n",
      "campaign: Paket Reguler (Video) ; Single Image & Video ; New Conversion | Jaminan BPKB Motor | Web 1 | Event Purchase\n",
      "campaign: Paket Reguler (Video) ; Single Image & Video - Lookalike ; New Conversion | Jaminan BPKB Motor | Web 1 | Event Purchase\n",
      "campaign: Paket Lancar (Langsung Cair) ; Single Image ; New Conversion | Jaminan BPKB Motor | Web 1 | Event Purchase | Jabodetabek\n",
      "campaign: Paket Lancar (Langsung Cair) ; Single Image & Video - Lookalike ; New Conversion | Jaminan BPKB Motor | Web 1 | Event Purchase | Jabodetabek\n",
      "campaign: Paket Langsung Cair (Lancar) Video ; Single Image & Video - Lookalike ; New Conversion | Jaminan BPKB Motor | Web 1 | Event Purchase | Jabodetabek\n",
      "campaign: Paket Reguler ; Single Image ; New Conversion | Jaminan BPKB Motor | Web 1 | Event Purchase | Jabodetabek\n",
      "campaign: Paket Reguler ; Single Image & Video - Lookalike ; New Conversion | Jaminan BPKB Motor | Web 1 | Event Purchase | Jabodetabek\n",
      "campaign: Paket Reguler (Video) ; Single Image & Video - Lookalike ; New Conversion | Jaminan BPKB Motor | Web 1 | Event Purchase | Jabodetabek\n",
      "campaign: Pinjaman Besar Jaminan Sertifikat Rumah ; Mix Photo & Video ; BFI Finance | Conversion | Jaminan Sertifikat Rumah | Web 1 - Jabodetabek\n",
      "campaign: Pinjaman Besar Jaminan Sertifikat Rumah ; Remarketing ; BFI Finance | Conversion | Jaminan Sertifikat Rumah | Web 1 - Jabodetabek\n",
      "campaign: Pinjaman Besar Jaminan Sertifikat Rumah Video ; Mix Photo & Video ; BFI Finance | Conversion | Jaminan Sertifikat Rumah | Web 1 - Jabodetabek\n",
      "campaign: Pinjaman Jaminan Sertifikat Rumah di BFI Finance ; Mix Photo & Video ; BFI Finance | Conversion | Jaminan Sertifikat Rumah | Web 1 - Jabodetabek\n",
      "campaign: Pinjaman Jaminan Sertifikat Rumah di BFI Finance ; Remarketing ; BFI Finance | Conversion | Jaminan Sertifikat Rumah | Web 1 - Jabodetabek\n",
      "campaign: Pinjaman Jaminan Sertifikat Rumah di BFI Finance Video ; Mix Photo & Video ; BFI Finance | Conversion | Jaminan Sertifikat Rumah | Web 1 - Jabodetabek\n",
      "campaign: Pinjaman Besar Jaminan Sertifikat Rumah Video ; Mix Photo & Video ; BFI Finance | Conversion | Jaminan Sertifikat Rumah | Web 1 | Event Purchase\n",
      "campaign: Pinjaman Jaminan Sertifikat Rumah di BFI Finance Video ; Mix Photo & Video ; BFI Finance | Conversion | Jaminan Sertifikat Rumah | Web 1 | Event Purchase\n",
      "campaign: Paket Lancar (Langsung Cair) ; Single Image & Video ; New Conversion | Jaminan BPKB Motor | Web 1 | Event Purchase | Jabarteng\n",
      "campaign: Paket Lancar (Langsung Cair) ; Single Image & Video - Lookalike ; New Conversion | Jaminan BPKB Motor | Web 1 | Event Purchase | Jabarteng\n",
      "campaign: Paket Langsung Cair (Lancar) Video ; Single Image & Video ; New Conversion | Jaminan BPKB Motor | Web 1 | Event Purchase | Jabarteng\n",
      "campaign: Paket Langsung Cair (Lancar) Video ; Single Image & Video - Lookalike ; New Conversion | Jaminan BPKB Motor | Web 1 | Event Purchase | Jabarteng\n",
      "campaign: Paket Reguler ; Single Image & Video ; New Conversion | Jaminan BPKB Motor | Web 1 | Event Purchase | Jabarteng\n",
      "campaign: Paket Reguler ; Single Image & Video - Lookalike ; New Conversion | Jaminan BPKB Motor | Web 1 | Event Purchase | Jabarteng\n",
      "campaign: Paket Reguler (Video) ; Single Image & Video ; New Conversion | Jaminan BPKB Motor | Web 1 | Event Purchase | Jabarteng\n",
      "campaign: Paket Reguler (Video) ; Single Image & Video - Lookalike ; New Conversion | Jaminan BPKB Motor | Web 1 | Event Purchase | Jabarteng\n",
      "campaign: Pilihan Tepat Dapatkan Pinjaman Cepat ; Mix Photo Video ; New Conversion | Jaminan BPKB Mobil | Web 1 | Sumatera\n",
      "campaign: Lebih Untung Dijaminkan Daripada Dijual ; Mix Photo Video ; New Conversion | Jaminan BPKB Mobil | Web 1 | Sumatera\n",
      "WAPE :  nan\n",
      "WBPE :  nan\n",
      "WCPE :  nan\n"
     ]
    }
   ],
   "source": [
    "NTF_SMA = []\n",
    "ma_window=14\n",
    "\n",
    "y_hat_sma = result_NTF[['ds','campaign']]\n",
    "y_hat_sma = pd.merge(y_hat_sma,\n",
    "                 train_NTF,\n",
    "                 left_on=['ds','campaign'], right_on = ['ds','campaign'], \n",
    "                 how='left')\n",
    "\n",
    "for campaign in y_hat_sma['campaign'].unique():\n",
    "    print('campaign:', campaign)\n",
    "    train_ = y_hat_sma.loc[y_hat_sma['campaign'] == campaign].reset_index(drop=True)\n",
    "    \n",
    "    train_len = len(hist_NTF.loc[hist_NTF['campaign'] == campaign])\n",
    "    valid_ = valid_NTF.loc[valid_NTF['campaign'] == campaign]\n",
    "    #print(train_len)\n",
    "    \n",
    "    for x in range(59): #\n",
    "        train_['sma_forecast'] = train_['y'].rolling(ma_window).mean()\n",
    "        train_[\"lag1_sma_forecast\"] = (train_.groupby([\"campaign\"])[\"sma_forecast\"].shift())\n",
    "        train_.y[train_len:train_len+x+1] = train_.lag1_sma_forecast[train_len:train_len+x+1]\n",
    "    #print(train_.tail(55))\n",
    "    \n",
    "    NTF_SMA.append(train_[['ds', 'lag1_sma_forecast', 'campaign']])\n",
    "    \n",
    "NTF_SMA_df = pd.concat(NTF_SMA, ignore_index=True)\n",
    "NTF_SMA_df = NTF_SMA_df.merge(valid_NTF, on=['ds', 'campaign'], how='left')\n",
    "print(\"WAPE : \" , wape(NTF_SMA_df['y'], NTF_SMA_df['lag1_sma_forecast']))\n",
    "print(\"WBPE : \" , wbpe(NTF_SMA_df['y'], NTF_SMA_df['lag1_sma_forecast']))\n",
    "print(\"WCPE : \" , wcpe(wape(NTF_SMA_df['y'], NTF_SMA_df['lag1_sma_forecast']), wbpe(NTF_SMA_df['y'], NTF_SMA_df['lag1_sma_forecast']),2))\n",
    "\n",
    "result_NTF = result_NTF.merge(NTF_SMA_df[['ds','campaign','lag1_sma_forecast']], on=['ds', 'campaign'], how='left')"
   ]
  },
  {
   "cell_type": "code",
   "execution_count": 42,
   "metadata": {},
   "outputs": [
    {
     "data": {
      "text/html": [
       "<div>\n",
       "<style scoped>\n",
       "    .dataframe tbody tr th:only-of-type {\n",
       "        vertical-align: middle;\n",
       "    }\n",
       "\n",
       "    .dataframe tbody tr th {\n",
       "        vertical-align: top;\n",
       "    }\n",
       "\n",
       "    .dataframe thead th {\n",
       "        text-align: right;\n",
       "    }\n",
       "</style>\n",
       "<table border=\"1\" class=\"dataframe\">\n",
       "  <thead>\n",
       "    <tr style=\"text-align: right;\">\n",
       "      <th></th>\n",
       "      <th>source</th>\n",
       "      <th>product</th>\n",
       "      <th>metrics</th>\n",
       "      <th>campaign</th>\n",
       "      <th>ad_name</th>\n",
       "      <th>adset_name</th>\n",
       "      <th>date</th>\n",
       "      <th>actual</th>\n",
       "      <th>forecast</th>\n",
       "      <th>baseline</th>\n",
       "    </tr>\n",
       "  </thead>\n",
       "  <tbody>\n",
       "    <tr>\n",
       "      <th>0</th>\n",
       "      <td>Meta</td>\n",
       "      <td>BPKB Mobil</td>\n",
       "      <td>Click</td>\n",
       "      <td>New Conversion | Jaminan BPKB Mobil | Web 1</td>\n",
       "      <td>Lebih Untung Dijaminkan Daripada Dijual</td>\n",
       "      <td>Mix Photo Video</td>\n",
       "      <td>2023-03-23</td>\n",
       "      <td>550.0</td>\n",
       "      <td>NaN</td>\n",
       "      <td>NaN</td>\n",
       "    </tr>\n",
       "    <tr>\n",
       "      <th>1</th>\n",
       "      <td>Meta</td>\n",
       "      <td>BPKB Mobil</td>\n",
       "      <td>Click</td>\n",
       "      <td>New Conversion | Jaminan BPKB Mobil | Web 1</td>\n",
       "      <td>Pilihan Tepat Dapatkan Pinjaman Cepat</td>\n",
       "      <td>Mix Photo Video</td>\n",
       "      <td>2023-03-21</td>\n",
       "      <td>486.0</td>\n",
       "      <td>NaN</td>\n",
       "      <td>NaN</td>\n",
       "    </tr>\n",
       "    <tr>\n",
       "      <th>2</th>\n",
       "      <td>Meta</td>\n",
       "      <td>BPKB Mobil</td>\n",
       "      <td>Click</td>\n",
       "      <td>New Conversion | Jaminan BPKB Mobil | Web 1 | ...</td>\n",
       "      <td>Lebih Untung Dijaminkan Daripada Dijual</td>\n",
       "      <td>Mix Photo Video</td>\n",
       "      <td>2023-03-25</td>\n",
       "      <td>15.0</td>\n",
       "      <td>NaN</td>\n",
       "      <td>NaN</td>\n",
       "    </tr>\n",
       "    <tr>\n",
       "      <th>3</th>\n",
       "      <td>Meta</td>\n",
       "      <td>BPKB Mobil</td>\n",
       "      <td>Click</td>\n",
       "      <td>New Conversion | Jaminan BPKB Mobil | Web 1</td>\n",
       "      <td>Lebih Untung Dijaminkan Daripada Dijual</td>\n",
       "      <td>Mix Photo Video</td>\n",
       "      <td>2023-04-03</td>\n",
       "      <td>358.0</td>\n",
       "      <td>NaN</td>\n",
       "      <td>NaN</td>\n",
       "    </tr>\n",
       "    <tr>\n",
       "      <th>4</th>\n",
       "      <td>Meta</td>\n",
       "      <td>BPKB Mobil</td>\n",
       "      <td>Click</td>\n",
       "      <td>New Conversion | Jaminan BPKB Mobil | Web 1</td>\n",
       "      <td>Lebih Untung Dijaminkan Daripada Dijual</td>\n",
       "      <td>Mix Photo Video</td>\n",
       "      <td>2023-03-22</td>\n",
       "      <td>578.0</td>\n",
       "      <td>NaN</td>\n",
       "      <td>NaN</td>\n",
       "    </tr>\n",
       "  </tbody>\n",
       "</table>\n",
       "</div>"
      ],
      "text/plain": [
       "  source     product metrics  \\\n",
       "0   Meta  BPKB Mobil   Click   \n",
       "1   Meta  BPKB Mobil   Click   \n",
       "2   Meta  BPKB Mobil   Click   \n",
       "3   Meta  BPKB Mobil   Click   \n",
       "4   Meta  BPKB Mobil   Click   \n",
       "\n",
       "                                            campaign  \\\n",
       "0        New Conversion | Jaminan BPKB Mobil | Web 1   \n",
       "1        New Conversion | Jaminan BPKB Mobil | Web 1   \n",
       "2  New Conversion | Jaminan BPKB Mobil | Web 1 | ...   \n",
       "3        New Conversion | Jaminan BPKB Mobil | Web 1   \n",
       "4        New Conversion | Jaminan BPKB Mobil | Web 1   \n",
       "\n",
       "                                   ad_name       adset_name       date  \\\n",
       "0  Lebih Untung Dijaminkan Daripada Dijual  Mix Photo Video 2023-03-23   \n",
       "1    Pilihan Tepat Dapatkan Pinjaman Cepat  Mix Photo Video 2023-03-21   \n",
       "2  Lebih Untung Dijaminkan Daripada Dijual  Mix Photo Video 2023-03-25   \n",
       "3  Lebih Untung Dijaminkan Daripada Dijual  Mix Photo Video 2023-04-03   \n",
       "4  Lebih Untung Dijaminkan Daripada Dijual  Mix Photo Video 2023-03-22   \n",
       "\n",
       "   actual  forecast  baseline  \n",
       "0   550.0       NaN       NaN  \n",
       "1   486.0       NaN       NaN  \n",
       "2    15.0       NaN       NaN  \n",
       "3   358.0       NaN       NaN  \n",
       "4   578.0       NaN       NaN  "
      ]
     },
     "execution_count": 42,
     "metadata": {},
     "output_type": "execute_result"
    }
   ],
   "source": [
    "result_click['metrics'] = 'Click'\n",
    "result_cost['metrics'] = 'Cost'\n",
    "result_leads['metrics'] = 'Leads'\n",
    "result_prospect['metrics'] = 'Prospect'\n",
    "result_funding['metrics'] = 'Funding'\n",
    "result_NTF['metrics'] = 'NTF'\n",
    "forecast_list = [result_click, result_cost, result_leads, result_prospect, result_funding, result_NTF]\n",
    "forecast_meta = pd.concat(forecast_list)\n",
    "forecast_meta['source'] = 'Meta'\n",
    "forecast_meta = forecast_meta.merge(active[['campaign','product','ad_name','adset_name','campaign_name']], on=['campaign'], how='left')\n",
    "del forecast_meta[\"campaign\"]\n",
    "forecast_meta.rename(columns = {'ds':'date', 'y':'actual','yhat':'forecast','lag1_sma_forecast':'baseline', 'campaign_name' : 'campaign'}, inplace = True)\n",
    "forecast_meta = forecast_meta.reindex(['source','product','metrics','campaign','ad_name','adset_name','date','actual','forecast','baseline'], axis=1)\n",
    "forecast_meta.head()"
   ]
  }
 ],
 "metadata": {
  "kernelspec": {
   "display_name": "base",
   "language": "python",
   "name": "python3"
  },
  "language_info": {
   "codemirror_mode": {
    "name": "ipython",
    "version": 3
   },
   "file_extension": ".py",
   "mimetype": "text/x-python",
   "name": "python",
   "nbconvert_exporter": "python",
   "pygments_lexer": "ipython3",
   "version": "3.10.9"
  },
  "orig_nbformat": 4
 },
 "nbformat": 4,
 "nbformat_minor": 2
}
